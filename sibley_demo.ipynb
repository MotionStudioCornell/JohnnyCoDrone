{
 "cells": [
  {
   "cell_type": "markdown",
   "metadata": {},
   "source": [
    "Run `jupyter-lab` in terminal and directly connect to that notebook\n",
    "\n",
    "```\n",
    "ls /dev/cu.usbmodem*\n",
    "```"
   ]
  },
  {
   "cell_type": "markdown",
   "metadata": {},
   "source": [
    "Think about running them in two seperate programs vs in the same one like here"
   ]
  },
  {
   "cell_type": "code",
   "execution_count": null,
   "metadata": {},
   "outputs": [
    {
     "name": "stdout",
     "output_type": "stream",
     "text": [
      "codrone-edu library version 1.9\n",
      "Please remove AA batteries while plugged into your computer.\n",
      "For more information go to: robolink.com/edu-controller-issue\n",
      "\n",
      "Found CoDrone EDU controller.  /dev/cu.usbmodem2087327132321\n",
      "Connecting to CoDrone EDU controller.\n",
      "Connected to CoDrone EDU\n",
      "Battery = 53 %\n",
      "Connecting to CoDrone EDU controller.\n"
     ]
    },
    {
     "name": "stderr",
     "output_type": "stream",
     "text": [
      "Exception in thread "
     ]
    },
    {
     "name": "stdout",
     "output_type": "stream",
     "text": [
      "Connected to CoDrone EDU"
     ]
    },
    {
     "name": "stderr",
     "output_type": "stream",
     "text": [
      "Thread-139 (_receiving)"
     ]
    },
    {
     "name": "stdout",
     "output_type": "stream",
     "text": [
      "\n"
     ]
    },
    {
     "name": "stderr",
     "output_type": "stream",
     "text": [
      ":\n"
     ]
    },
    {
     "name": "stdout",
     "output_type": "stream",
     "text": [
      "Battery ="
     ]
    },
    {
     "name": "stderr",
     "output_type": "stream",
     "text": [
      "Traceback (most recent call last):\n"
     ]
    },
    {
     "name": "stdout",
     "output_type": "stream",
     "text": [
      " "
     ]
    },
    {
     "name": "stderr",
     "output_type": "stream",
     "text": [
      "  File \"/opt/homebrew/Caskroom/miniconda/base/lib/python3.10/threading.py\", line 1016, in _bootstrap_inner\n"
     ]
    },
    {
     "name": "stdout",
     "output_type": "stream",
     "text": [
      "41 "
     ]
    },
    {
     "name": "stderr",
     "output_type": "stream",
     "text": [
      "    "
     ]
    },
    {
     "name": "stdout",
     "output_type": "stream",
     "text": [
      "%\n"
     ]
    },
    {
     "name": "stderr",
     "output_type": "stream",
     "text": [
      "self.run()\n",
      "  File \"/opt/homebrew/Caskroom/miniconda/base/lib/python3.10/site-packages/ipykernel/ipkernel.py\", line 761, in run_closure\n",
      "    _threading_Thread_run(self)\n",
      "  File \"/opt/homebrew/Caskroom/miniconda/base/lib/python3.10/threading.py\", line 953, in run\n",
      "    self._target(*self._args, **self._kwargs)\n",
      "  File \"/opt/homebrew/Caskroom/miniconda/base/lib/python3.10/site-packages/codrone_edu/drone.py\", line 997, in _receiving\n",
      "    self._bufferQueue.put(self._serialport.read())\n",
      "  File \"/opt/homebrew/Caskroom/miniconda/base/lib/python3.10/site-packages/serial/serialposix.py\", line 595, in read\n",
      "    raise SerialException(\n",
      "serial.serialutil.SerialException: device reports readiness to read but returned no data (device disconnected or multiple access on port?)\n"
     ]
    },
    {
     "name": "stdout",
     "output_type": "stream",
     "text": [
      "codrone-edu library version 1.9\n",
      "Please remove AA batteries while plugged into your computer.\n",
      "For more information go to: robolink.com/edu-controller-issue\n",
      "\n",
      "Found CoDrone EDU controller.  /dev/cu.usbmodem2087327132321\n",
      "Connecting to CoDrone EDU controller.\n",
      "Connected to CoDrone EDU\n",
      "Battery = 37 %\n",
      "Connecting to CoDrone EDU controller.\n"
     ]
    },
    {
     "name": "stderr",
     "output_type": "stream",
     "text": [
      "Exception in thread Thread-140 (_receiving)"
     ]
    },
    {
     "name": "stdout",
     "output_type": "stream",
     "text": [
      "Connected to CoDrone EDU"
     ]
    },
    {
     "name": "stderr",
     "output_type": "stream",
     "text": [
      ":\n"
     ]
    },
    {
     "name": "stdout",
     "output_type": "stream",
     "text": [
      "\n"
     ]
    },
    {
     "name": "stderr",
     "output_type": "stream",
     "text": [
      "Traceback (most recent call last):\n"
     ]
    },
    {
     "name": "stdout",
     "output_type": "stream",
     "text": [
      "Battery ="
     ]
    },
    {
     "name": "stderr",
     "output_type": "stream",
     "text": [
      "  File \"/opt/homebrew/Caskroom/miniconda/base/lib/python3.10/threading.py\", line 1016, in _bootstrap_inner\n"
     ]
    },
    {
     "name": "stdout",
     "output_type": "stream",
     "text": [
      " "
     ]
    },
    {
     "name": "stderr",
     "output_type": "stream",
     "text": [
      "    "
     ]
    },
    {
     "name": "stdout",
     "output_type": "stream",
     "text": [
      "100"
     ]
    },
    {
     "name": "stderr",
     "output_type": "stream",
     "text": [
      "self.run()"
     ]
    },
    {
     "name": "stdout",
     "output_type": "stream",
     "text": [
      " "
     ]
    },
    {
     "name": "stderr",
     "output_type": "stream",
     "text": [
      "\n"
     ]
    },
    {
     "name": "stdout",
     "output_type": "stream",
     "text": [
      "%"
     ]
    },
    {
     "name": "stderr",
     "output_type": "stream",
     "text": [
      "  File \"/opt/homebrew/Caskroom/miniconda/base/lib/python3.10/site-packages/ipykernel/ipkernel.py\", line 761, in run_closure\n"
     ]
    },
    {
     "name": "stdout",
     "output_type": "stream",
     "text": [
      "\n"
     ]
    },
    {
     "name": "stderr",
     "output_type": "stream",
     "text": [
      "    _threading_Thread_run(self)\n",
      "  File \"/opt/homebrew/Caskroom/miniconda/base/lib/python3.10/threading.py\", line 953, in run\n",
      "    self._target(*self._args, **self._kwargs)\n",
      "  File \"/opt/homebrew/Caskroom/miniconda/base/lib/python3.10/site-packages/codrone_edu/drone.py\", line 997, in _receiving\n",
      "    self._bufferQueue.put(self._serialport.read())\n",
      "  File \"/opt/homebrew/Caskroom/miniconda/base/lib/python3.10/site-packages/serial/serialposix.py\", line 595, in read\n",
      "    raise SerialException(\n",
      "serial.serialutil.SerialException: device reports readiness to read but returned no data (device disconnected or multiple access on port?)\n"
     ]
    },
    {
     "name": "stdout",
     "output_type": "stream",
     "text": [
      "codrone-edu library version 1.9\n",
      "Please remove AA batteries while plugged into your computer.\n",
      "For more information go to: robolink.com/edu-controller-issue\n",
      "\n",
      "Found CoDrone EDU controller.  /dev/cu.usbmodem2087327132321\n",
      "Connecting to CoDrone EDU controller.\n"
     ]
    },
    {
     "name": "stderr",
     "output_type": "stream",
     "text": [
      "Exception in thread Thread-142 (_receiving):\n",
      "Traceback (most recent call last):\n",
      "  File \"/opt/homebrew/Caskroom/miniconda/base/lib/python3.10/threading.py\", line 1016, in _bootstrap_inner\n",
      "    self.run()\n",
      "  File \"/opt/homebrew/Caskroom/miniconda/base/lib/python3.10/site-packages/ipykernel/ipkernel.py\", line 761, in run_closure\n",
      "    _threading_Thread_run(self)\n",
      "  File \"/opt/homebrew/Caskroom/miniconda/base/lib/python3.10/threading.py\", line 953, in run\n",
      "    self._target(*self._args, **self._kwargs)\n",
      "  File \"/opt/homebrew/Caskroom/miniconda/base/lib/python3.10/site-packages/codrone_edu/drone.py\", line 997, in _receiving\n",
      "    self._bufferQueue.put(self._serialport.read())\n",
      "  File \"/opt/homebrew/Caskroom/miniconda/base/lib/python3.10/site-packages/serial/serialposix.py\", line 595, in read\n",
      "    raise SerialException(\n",
      "serial.serialutil.SerialException: device reports readiness to read but returned no data (device disconnected or multiple access on port?)\n"
     ]
    },
    {
     "name": "stdout",
     "output_type": "stream",
     "text": [
      "Could not connect to CoDrone EDU.\n",
      "Check that the controller and drone are on and paired.\n",
      "Checkout this lesson on how to pair https://learn.robolink.com/lesson/0-2-power-and-charging/\n",
      "Connecting to CoDrone EDU controller.\n",
      "Connected to CoDrone EDU\n",
      "Battery = 100 %\n",
      "codrone-edu library version 1.9\n",
      "Please remove AA batteries while plugged into your computer.\n",
      "For more information go to: robolink.com/edu-controller-issue\n",
      "\n",
      "Found CoDrone EDU controller.  /dev/cu.usbmodem2087327132321\n",
      "Connecting to CoDrone EDU controller.\n"
     ]
    },
    {
     "name": "stderr",
     "output_type": "stream",
     "text": [
      "Exception in thread Thread-141 (_receiving):\n"
     ]
    },
    {
     "name": "stdout",
     "output_type": "stream",
     "text": [
      "Connected to CoDrone EDU"
     ]
    },
    {
     "name": "stderr",
     "output_type": "stream",
     "text": [
      "Traceback (most recent call last):\n"
     ]
    },
    {
     "name": "stdout",
     "output_type": "stream",
     "text": [
      "\n"
     ]
    },
    {
     "name": "stderr",
     "output_type": "stream",
     "text": [
      "  File \"/opt/homebrew/Caskroom/miniconda/base/lib/python3.10/threading.py\", line 1016, in _bootstrap_inner\n"
     ]
    },
    {
     "name": "stdout",
     "output_type": "stream",
     "text": [
      "Battery ="
     ]
    },
    {
     "name": "stderr",
     "output_type": "stream",
     "text": [
      "    "
     ]
    },
    {
     "name": "stdout",
     "output_type": "stream",
     "text": [
      " "
     ]
    },
    {
     "name": "stderr",
     "output_type": "stream",
     "text": [
      "self.run()"
     ]
    },
    {
     "name": "stdout",
     "output_type": "stream",
     "text": [
      "100"
     ]
    },
    {
     "name": "stderr",
     "output_type": "stream",
     "text": [
      "\n"
     ]
    },
    {
     "name": "stdout",
     "output_type": "stream",
     "text": [
      " "
     ]
    },
    {
     "name": "stderr",
     "output_type": "stream",
     "text": [
      "  File \"/opt/homebrew/Caskroom/miniconda/base/lib/python3.10/site-packages/ipykernel/ipkernel.py\", line 761, in run_closure\n"
     ]
    },
    {
     "name": "stdout",
     "output_type": "stream",
     "text": [
      "%"
     ]
    },
    {
     "name": "stderr",
     "output_type": "stream",
     "text": [
      "    "
     ]
    },
    {
     "name": "stdout",
     "output_type": "stream",
     "text": [
      "\n"
     ]
    },
    {
     "name": "stderr",
     "output_type": "stream",
     "text": [
      "_threading_Thread_run(self)\n",
      "  File \"/opt/homebrew/Caskroom/miniconda/base/lib/python3.10/threading.py\", line 953, in run\n",
      "    self._target(*self._args, **self._kwargs)\n",
      "  File \"/opt/homebrew/Caskroom/miniconda/base/lib/python3.10/site-packages/codrone_edu/drone.py\", line 997, in _receiving\n",
      "    self._bufferQueue.put(self._serialport.read())\n",
      "  File \"/opt/homebrew/Caskroom/miniconda/base/lib/python3.10/site-packages/serial/serialposix.py\", line 595, in read\n",
      "    raise SerialException(\n",
      "serial.serialutil.SerialException: device reports readiness to read but returned no data (device disconnected or multiple access on port?)\n"
     ]
    },
    {
     "name": "stdout",
     "output_type": "stream",
     "text": [
      "Connecting to CoDrone EDU controller.\n",
      "Connected to CoDrone EDU\n"
     ]
    },
    {
     "name": "stderr",
     "output_type": "stream",
     "text": [
      "Exception in thread Exception in thread "
     ]
    },
    {
     "name": "stdout",
     "output_type": "stream",
     "text": [
      "Battery ="
     ]
    },
    {
     "name": "stderr",
     "output_type": "stream",
     "text": [
      "Thread-145 (_receiving)Thread-144 (_receiving):\n"
     ]
    },
    {
     "name": "stdout",
     "output_type": "stream",
     "text": [
      " "
     ]
    },
    {
     "name": "stderr",
     "output_type": "stream",
     "text": [
      ":\n",
      "Traceback (most recent call last):\n",
      "Traceback (most recent call last):\n"
     ]
    },
    {
     "name": "stdout",
     "output_type": "stream",
     "text": [
      "100"
     ]
    },
    {
     "name": "stderr",
     "output_type": "stream",
     "text": [
      "  File \"/opt/homebrew/Caskroom/miniconda/base/lib/python3.10/threading.py\", line 1016, in _bootstrap_inner\n",
      "  File \"/opt/homebrew/Caskroom/miniconda/base/lib/python3.10/threading.py\", line 1016, in _bootstrap_inner\n"
     ]
    },
    {
     "name": "stdout",
     "output_type": "stream",
     "text": [
      " "
     ]
    },
    {
     "name": "stderr",
     "output_type": "stream",
     "text": [
      "        "
     ]
    },
    {
     "name": "stdout",
     "output_type": "stream",
     "text": [
      "%"
     ]
    },
    {
     "name": "stderr",
     "output_type": "stream",
     "text": [
      "self.run()"
     ]
    },
    {
     "name": "stdout",
     "output_type": "stream",
     "text": [
      "\n"
     ]
    },
    {
     "name": "stderr",
     "output_type": "stream",
     "text": [
      "self.run()\n",
      "\n",
      "  File \"/opt/homebrew/Caskroom/miniconda/base/lib/python3.10/site-packages/ipykernel/ipkernel.py\", line 761, in run_closure\n",
      "  File \"/opt/homebrew/Caskroom/miniconda/base/lib/python3.10/site-packages/ipykernel/ipkernel.py\", line 761, in run_closure\n",
      "        _threading_Thread_run(self)_threading_Thread_run(self)\n",
      "\n",
      "  File \"/opt/homebrew/Caskroom/miniconda/base/lib/python3.10/threading.py\", line 953, in run\n",
      "  File \"/opt/homebrew/Caskroom/miniconda/base/lib/python3.10/threading.py\", line 953, in run\n",
      "        self._target(*self._args, **self._kwargs)self._target(*self._args, **self._kwargs)\n",
      "\n",
      "  File \"/opt/homebrew/Caskroom/miniconda/base/lib/python3.10/site-packages/codrone_edu/drone.py\", line 997, in _receiving\n",
      "  File \"/opt/homebrew/Caskroom/miniconda/base/lib/python3.10/site-packages/codrone_edu/drone.py\", line 997, in _receiving\n",
      "        self._bufferQueue.put(self._serialport.read())self._bufferQueue.put(self._serialport.read())\n",
      "\n",
      "  File \"/opt/homebrew/Caskroom/miniconda/base/lib/python3.10/site-packages/serial/serialposix.py\", line 595, in read\n",
      "  File \"/opt/homebrew/Caskroom/miniconda/base/lib/python3.10/site-packages/serial/serialposix.py\", line 595, in read\n",
      "        raise SerialException(raise SerialException(\n",
      "\n",
      "serial.serialutilserial.serialutil..SerialExceptionSerialException: : device reports readiness to read but returned no data (device disconnected or multiple access on port?)device reports readiness to read but returned no data (device disconnected or multiple access on port?)\n",
      "\n"
     ]
    },
    {
     "data": {
      "text/plain": [
       "True"
      ]
     },
     "execution_count": 115,
     "metadata": {},
     "output_type": "execute_result"
    },
    {
     "name": "stderr",
     "output_type": "stream",
     "text": [
      "Exception in thread Thread-138 (_receiving):\n",
      "Traceback (most recent call last):\n",
      "  File \"/opt/homebrew/Caskroom/miniconda/base/lib/python3.10/site-packages/serial/serialposix.py\", line 575, in read\n",
      "    buf = os.read(self.fd, size - len(read))\n",
      "OSError: [Errno 6] Device not configured\n",
      "\n",
      "During handling of the above exception, another exception occurred:\n",
      "\n",
      "Traceback (most recent call last):\n",
      "  File \"/opt/homebrew/Caskroom/miniconda/base/lib/python3.10/threading.py\", line 1016, in _bootstrap_inner\n",
      "    self.run()\n",
      "  File \"/opt/homebrew/Caskroom/miniconda/base/lib/python3.10/site-packages/ipykernel/ipkernel.py\", line 761, in run_closure\n",
      "    _threading_Thread_run(self)\n",
      "  File \"/opt/homebrew/Caskroom/miniconda/base/lib/python3.10/threading.py\", line 953, in run\n",
      "    self._target(*self._args, **self._kwargs)\n",
      "  File \"/opt/homebrew/Caskroom/miniconda/base/lib/python3.10/site-packages/codrone_edu/drone.py\", line 997, in _receiving\n",
      "    self._bufferQueue.put(self._serialport.read())\n",
      "  File \"/opt/homebrew/Caskroom/miniconda/base/lib/python3.10/site-packages/serial/serialposix.py\", line 581, in read\n",
      "    raise SerialException('read failed: {}'.format(e))\n",
      "serial.serialutil.SerialException: read failed: [Errno 6] Device not configured\n",
      "Exception in thread Thread-143 (_receiving):\n",
      "Traceback (most recent call last):\n",
      "  File \"/opt/homebrew/Caskroom/miniconda/base/lib/python3.10/site-packages/serial/serialposix.py\", line 575, in read\n",
      "    buf = os.read(self.fd, size - len(read))\n",
      "OSError: [Errno 6] Device not configured\n",
      "\n",
      "During handling of the above exception, another exception occurred:\n",
      "\n",
      "Traceback (most recent call last):\n",
      "  File \"/opt/homebrew/Caskroom/miniconda/base/lib/python3.10/threading.py\", line 1016, in _bootstrap_inner\n",
      "    self.run()\n",
      "  File \"/opt/homebrew/Caskroom/miniconda/base/lib/python3.10/site-packages/ipykernel/ipkernel.py\", line 761, in run_closure\n",
      "    _threading_Thread_run(self)\n",
      "  File \"/opt/homebrew/Caskroom/miniconda/base/lib/python3.10/threading.py\", line 953, in run\n",
      "    self._target(*self._args, **self._kwargs)\n",
      "  File \"/opt/homebrew/Caskroom/miniconda/base/lib/python3.10/site-packages/codrone_edu/drone.py\", line 997, in _receiving\n",
      "    self._bufferQueue.put(self._serialport.read())\n",
      "  File \"/opt/homebrew/Caskroom/miniconda/base/lib/python3.10/site-packages/serial/serialposix.py\", line 581, in read\n",
      "    raise SerialException('read failed: {}'.format(e))\n",
      "serial.serialutil.SerialException: read failed: [Errno 6] Device not configured\n"
     ]
    }
   ],
   "source": [
    "from codrone_edu.drone import *\n",
    "\n",
    "\n",
    "# Initialize SA1\n",
    "drone1 = Drone()\n",
    "drone1.pair()\n",
    "drone1.open(\"/dev/cu.usbmodem205B326132321\")  # Replace XXXXX with the first controller's device identifier\n",
    "\n",
    "# Initialize SA2\n",
    "drone2 = Drone()\n",
    "drone2.pair()\n",
    "drone2.open(\"/dev/cu.usbmodem2087327132321\")  # Replace YYYYY with the second controller's device identifier\n",
    "\n",
    "# Initialize SA3\n",
    "drone3 = Drone()\n",
    "drone3.pair()\n",
    "drone3.open(\"/dev/cu.usbmodem205A329432321\")  # Replace XXXXX with the first controller's device identifier\n",
    "\n",
    "# Initialize SA4\n",
    "drone4 = Drone()\n",
    "drone4.pair()\n",
    "drone4.open(\"/dev/cu.usbmodem3975344935381\")  # Replace XXXXX with the first controller's device identifier\n",
    "\n",
    "# drone3.drone_buzzer(Note.C5, 1000)\n",
    "# drone4.drone_buzzer(Note.C4, 1000)\n",
    "# drone3.drone_buzzer(Note.D5, 1000)\n",
    "# drone4.drone_buzzer(Note.D4, 1000)\n",
    "# drone3.drone_buzzer(Note.E5, 1000)\n",
    "# drone4.drone_buzzer(Note.E4, 1000)\n",
    "\n",
    "# drone1.drone_buzzer(Note.C4, 1000)\n",
    "# drone2.drone_buzzer(Note.C3, 1000)\n",
    "# drone1.drone_buzzer(Note.D4, 1000)\n",
    "# drone2.drone_buzzer(Note.D3, 1000)\n",
    "# drone1.drone_buzzer(Note.E4, 1000)\n",
    "# drone2.drone_buzzer(Note.E3, 1000)\n"
   ]
  },
  {
   "cell_type": "code",
   "execution_count": 2,
   "metadata": {},
   "outputs": [],
   "source": [
    "# Test hover\n",
    "drone1.takeoff()\n",
    "drone2.takeoff()\n",
    "drone3.takeoff()\n",
    "drone4.takeoff()\n",
    "drone1.hover(2)\n",
    "drone2.hover(2)\n",
    "drone3.hover(2)\n",
    "drone4.hover(2)\n",
    "\n",
    "drone1.land()\n",
    "drone2.land()\n",
    "drone3.land()\n",
    "drone4.land()\n",
    "\n",
    "# Close connections\n",
    "# drone1.close()\n",
    "# drone2.close()"
   ]
  },
  {
   "cell_type": "code",
   "execution_count": 29,
   "metadata": {},
   "outputs": [],
   "source": [
    "drone1.land()"
   ]
  },
  {
   "cell_type": "code",
   "execution_count": 30,
   "metadata": {},
   "outputs": [
    {
     "name": "stdout",
     "output_type": "stream",
     "text": [
      "Desired height: 1.00 m\n",
      "Measured height: 1.192 , error: -0.192 going down command u = -30.000\n",
      "Measured height: 1.192 , error: -0.192 going down command u = -30.000\n",
      "Measured height: 1.192 , error: -0.192 going down command u = -30.000\n",
      "Measured height: 1.192 , error: -0.192 going down command u = -30.000\n",
      "Measured height: 1.824 , error: -0.824 going down command u = -30.000\n",
      "Measured height: 1.824 , error: -0.824 going down command u = -30.000\n",
      "Measured height: 9.999 Measured height: 9.999 Measured height: 9.999 Measured height: 9.999 Measured height: 9.999 Measured height: 9.999 Measured height: 9.999 Measured height: 9.999 Measured height: 9.999 Measured height: 9.999 Measured height: 9.999 Measured height: 9.999 Measured height: 9.999 Measured height: 9.999 Measured height: 9.999 Measured height: 9.999 Measured height: 9.999 Measured height: 9.999 Measured height: 9.999 Measured height: 9.999 Measured height: 2.186 , error: -1.186 going down command u = -30.000\n",
      "Measured height: 2.186 , error: -1.186 going down command u = -30.000\n",
      "Measured height: 9.999 Measured height: 9.999 Measured height: 1.726 , error: -0.726 going down command u = -30.000\n",
      "Measured height: 1.351 , error: -0.351 going down command u = -30.000\n",
      "Measured height: 1.351 , error: -0.351 going down command u = -30.000\n",
      "Measured height: 1.351 , error: -0.351 going down command u = -30.000\n",
      "Measured height: 0.075 , error: 0.925 going up command u = 30.000\n",
      "Measured height: 0.075 , error: 0.925 going up command u = 30.000\n",
      "Measured height: 0.075 , error: 0.925 going up command u = 30.000\n",
      "Measured height: 0.075 , error: 0.925 going up command u = 30.000\n",
      "Measured height: 0.075 , error: 0.925 going up command u = 30.000\n",
      "Measured height: 0.075 , error: 0.925 going up command u = 30.000\n",
      "Measured height: 0.075 , error: 0.925 going up command u = 30.000\n",
      "Measured height: 1.151 , error: -0.151 going down command u = -30.000\n",
      "Measured height: 1.154 , error: -0.154 going down command u = -30.000\n",
      "Measured height: 1.154 , error: -0.154 going down command u = -30.000\n",
      "Measured height: 1.154 , error: -0.154 going down command u = -30.000\n",
      "Measured height: 0.449 , error: 0.551 going up command u = 30.000\n",
      "Measured height: 0.449 , error: 0.551 going up command u = 30.000\n",
      "Measured height: 0.531 , error: 0.469 going up command u = 30.000\n",
      "Measured height: 0.721 , error: 0.279 going up command u = 30.000\n",
      "Measured height: 0.721 , error: 0.279 going up command u = 30.000\n",
      "Measured height: 0.721 , error: 0.279 going up command u = 30.000\n",
      "Measured height: 1.232 , error: -0.232 going down command u = -30.000\n",
      "Measured height: 1.232 , error: -0.232 going down command u = -30.000\n",
      "Measured height: 1.232 , error: -0.232 going down command u = -30.000\n",
      "Measured height: 1.232 , error: -0.232 going down command u = -30.000\n",
      "Measured height: 0.09 , error: 0.910 going up command u = 30.000\n",
      "Measured height: 0.09 , error: 0.910 going up command u = 30.000\n",
      "Measured height: 0.09 , error: 0.910 going up command u = 30.000\n",
      "Measured height: 0.09 , error: 0.910 going up command u = 30.000\n",
      "Measured height: 0.387 , error: 0.613 going up command u = 30.000\n",
      "Measured height: 0.387 , error: 0.613 going up command u = 30.000\n",
      "Measured height: 0.387 , error: 0.613 going up command u = 30.000\n",
      "Measured height: 0.494 , error: 0.506 going up command u = 30.000\n",
      "Measured height: 0.494 , error: 0.506 going up command u = 30.000\n",
      "Measured height: 0.494 , error: 0.506 going up command u = 30.000\n",
      "Measured height: 0.431 , error: 0.569 going up command u = 30.000\n",
      "Measured height: 0.502 , error: 0.498 going up command u = 30.000\n",
      "Measured height: 0.502 , error: 0.498 going up command u = 30.000\n",
      "Measured height: 0.722 , error: 0.278 going up command u = 30.000\n",
      "Measured height: 0.722 , error: 0.278 going up command u = 30.000\n",
      "Measured height: 0.722 , error: 0.278 going up command u = 30.000\n",
      "Measured height: 0.722 , error: 0.278 going up command u = 30.000\n",
      "Measured height: 0.96 , error: 0.040 Achieved desired height, 96.4\n"
     ]
    }
   ],
   "source": [
    "import bea_fun_mod as bf\n",
    "\n",
    "# times for moving and hovering\n",
    "# dtm = 1\n",
    "# dth = 2\n",
    "# pwr = 30\n",
    "\n",
    "drone1.takeoff()\n",
    "# drone1.hover(2)\n",
    "\n",
    "# in m\n",
    "hbar = 1\n",
    "drone1 = bf.rise_until(drone1, hbar)\n",
    "\n",
    "drone1.hover(2)\n",
    "drone1.land()"
   ]
  },
  {
   "cell_type": "code",
   "execution_count": 104,
   "metadata": {},
   "outputs": [
    {
     "name": "stdout",
     "output_type": "stream",
     "text": [
      "[-10, 0]\n",
      "[-5, 5]\n",
      "[-5, 2]\n",
      "[-3, 3]\n"
     ]
    }
   ],
   "source": [
    "print(drone1.get_trim())\n",
    "print(drone2.get_trim())\n",
    "print(drone3.get_trim())\n",
    "print(drone4.get_trim())"
   ]
  },
  {
   "cell_type": "code",
   "execution_count": 102,
   "metadata": {},
   "outputs": [
    {
     "name": "stdout",
     "output_type": "stream",
     "text": [
      "[-5, 5]\n"
     ]
    }
   ],
   "source": [
    "drone2.set_trim(-10, 5)\n",
    "sleep(1)\n",
    "print(drone2.get_trim())"
   ]
  },
  {
   "cell_type": "code",
   "execution_count": 110,
   "metadata": {},
   "outputs": [],
   "source": [
    "drone3.takeoff()\n",
    "drone3.hover(30)\n",
    "drone3.land()"
   ]
  },
  {
   "cell_type": "code",
   "execution_count": 23,
   "metadata": {},
   "outputs": [
    {
     "ename": "SyntaxError",
     "evalue": "unmatched ')' (2996806585.py, line 1)",
     "output_type": "error",
     "traceback": [
      "\u001b[0;36m  Cell \u001b[0;32mIn[23], line 1\u001b[0;36m\u001b[0m\n\u001b[0;31m    drone3.land())\u001b[0m\n\u001b[0m                 ^\u001b[0m\n\u001b[0;31mSyntaxError\u001b[0m\u001b[0;31m:\u001b[0m unmatched ')'\n"
     ]
    }
   ],
   "source": [
    "drone3.land())"
   ]
  },
  {
   "cell_type": "code",
   "execution_count": 116,
   "metadata": {},
   "outputs": [
    {
     "name": "stdout",
     "output_type": "stream",
     "text": [
      "All drones have finished playing.\n"
     ]
    }
   ],
   "source": [
    "import threading\n",
    "\n",
    "# could solve issue by adding fifth drone?\n",
    "\n",
    "# Define the notes and duration\n",
    "\n",
    "# Function generator to create play_drone functions for each drone\n",
    "def create_play_function(drone):\n",
    "    def play_drone():\n",
    "        drone.takeoff()\n",
    "        drone.hover(5)\n",
    "        # drone.set_throttle(100)\n",
    "        # drone.move(2)\n",
    "        # drone.set_throttle(-50)\n",
    "        # drone.move(2)\n",
    "        drone.land()\n",
    "    return play_drone\n",
    "\n",
    "# List of drones (example: drone1, drone2, drone3)\n",
    "drones = [drone1, drone2, drone3, drone4]  # Add your drone objects here\n",
    "\n",
    "# Generate play functions and threads for each drone\n",
    "threads = []\n",
    "for drone in drones:\n",
    "    play_function = create_play_function(drone)\n",
    "    thread = threading.Thread(target=play_function)\n",
    "    threads.append(thread)\n",
    "\n",
    "# Start all threads\n",
    "for thread in threads:\n",
    "    thread.start()\n",
    "\n",
    "# Wait for all threads to complete\n",
    "for thread in threads:\n",
    "    thread.join()\n",
    "\n",
    "# After all threads have completed\n",
    "print(\"All drones have finished playing.\")\n"
   ]
  },
  {
   "cell_type": "code",
   "execution_count": 118,
   "metadata": {},
   "outputs": [
    {
     "name": "stdout",
     "output_type": "stream",
     "text": [
      "All drones have finished playing.\n"
     ]
    }
   ],
   "source": [
    "import threading\n",
    "\n",
    "# Function generator to create play_drone functions for each drone\n",
    "def create_play_function(drone, direction):\n",
    "    def play_drone():\n",
    "        drone.takeoff()\n",
    "        drone.hover(5)\n",
    "        drone.set_throttle(70)\n",
    "        drone.move(1)\n",
    "        \n",
    "        if direction == 'up':\n",
    "            drone.set_throttle(50)\n",
    "            drone.move(1)\n",
    "            drone.set_throttle(-50)\n",
    "            drone.move(1)\n",
    "            drone.set_throttle(50)\n",
    "            drone.move(1)\n",
    "            drone.set_throttle(-50)\n",
    "            drone.move(1)\n",
    "        elif direction == 'down':\n",
    "            drone.set_throttle(-50)\n",
    "            drone.move(1)\n",
    "            drone.set_throttle(50)\n",
    "            drone.move(1)\n",
    "            drone.set_throttle(-50)\n",
    "            drone.move(1)\n",
    "            drone.set_throttle(50)\n",
    "            drone.move(1)\n",
    "        \n",
    "        drone.land()\n",
    "    \n",
    "    return play_drone\n",
    "\n",
    "# List of drones (example: drone1, drone2, drone3, drone4)\n",
    "# Assume drone1, drone2, drone3, drone4 are valid drone objects\n",
    "\n",
    "drones = [drone1, drone2, drone3, drone4]\n",
    "\n",
    "# Generate play functions and threads for each drone with specified directions\n",
    "threads = []\n",
    "directions = ['up', 'down', 'up', 'down']  # Define the direction for each drone\n",
    "\n",
    "for i, drone in enumerate(drones):\n",
    "    direction = directions[i]\n",
    "    play_function = create_play_function(drone, direction)\n",
    "    thread = threading.Thread(target=play_function)\n",
    "    threads.append(thread)\n",
    "\n",
    "# Start all threads\n",
    "for thread in threads:\n",
    "    thread.start()\n",
    "\n",
    "# Wait for all threads to complete\n",
    "for thread in threads:\n",
    "    thread.join()\n",
    "\n",
    "# After all threads have completed\n",
    "print(\"All drones have finished playing.\")\n"
   ]
  },
  {
   "cell_type": "code",
   "execution_count": 119,
   "metadata": {},
   "outputs": [
    {
     "name": "stdout",
     "output_type": "stream",
     "text": [
      "All drones have finished playing.\n"
     ]
    }
   ],
   "source": [
    "\n",
    "\n",
    "import threading\n",
    "\n",
    "# Define the notes and duration\n",
    "\n",
    "# Function generator to create play_drone functions for each drone\n",
    "def create_play_function(drone):\n",
    "    def play_drone():\n",
    "        # Define drone commands\n",
    "        drone.takeoff()\n",
    "        drone.hover(5)\n",
    "        drone.set_pitch(30)  # setting forward pitch\n",
    "        drone.move(4)  # moving forward!\n",
    "        drone.set_pitch(0)  # resetting pitch to 0\n",
    "        drone.set_roll(30)  # setting roll to the right\n",
    "        drone.move(4)  # moving right!\n",
    "        drone.set_roll(0)  # resetting roll to 0\n",
    "        drone.set_pitch(-30)  # setting backwards pitch\n",
    "        drone.move(4)  # moving backwards!\n",
    "        drone.set_pitch(0)  # resetting pitch to 0\n",
    "        drone.set_roll(-30)  # setting roll to the left\n",
    "        drone.move(4)  # moving left!\n",
    "        drone.hover(2)\n",
    "        drone.land()\n",
    "    return play_drone\n",
    "\n",
    "# List of drones (example: drone1, drone2, drone3)\n",
    "drones = [drone1, drone2, drone3, drone4]  # Add your drone objects here\n",
    "\n",
    "# Generate play functions and threads for each drone\n",
    "threads = []\n",
    "for drone in drones:\n",
    "    play_function = create_play_function(drone)\n",
    "    thread = threading.Thread(target=play_function)\n",
    "    threads.append(thread)\n",
    "\n",
    "# Start all threads\n",
    "for thread in threads:\n",
    "    thread.start()\n",
    "\n",
    "# Wait for all threads to complete\n",
    "for thread in threads:\n",
    "    thread.join()\n",
    "\n",
    "# After all threads have completed\n",
    "print(\"All drones have finished playing.\")"
   ]
  },
  {
   "cell_type": "code",
   "execution_count": 7,
   "metadata": {},
   "outputs": [
    {
     "data": {
      "text/plain": [
       "98"
      ]
     },
     "execution_count": 7,
     "metadata": {},
     "output_type": "execute_result"
    }
   ],
   "source": [
    "drone.get_battery()"
   ]
  },
  {
   "cell_type": "markdown",
   "metadata": {},
   "source": [
    "making a square"
   ]
  },
  {
   "cell_type": "code",
   "execution_count": 36,
   "metadata": {},
   "outputs": [
    {
     "name": "stdout",
     "output_type": "stream",
     "text": [
      "Found CoDrone EDU controller.  /dev/cu.usbmodem3591387E34381\n",
      "Connecting to CoDrone EDU controller.\n",
      "Connected to CoDrone EDU\n",
      "Battery = 81 %\n"
     ]
    }
   ],
   "source": [
    "drone.pair()\n",
    "drone.takeoff()\n",
    "drone.set_pitch(90)  # setting forward pitch\n",
    "drone.move(1)  # moving forward!\n",
    "drone.set_pitch(0)  # resetting pitch to 0\n",
    "drone.set_roll(90)  # setting roll to the right\n",
    "drone.move(1)  # moving right!\n",
    "drone.set_roll(0)  # resetting roll to 0\n",
    "drone.set_pitch(-90)  # setting backwards pitch\n",
    "drone.move(1)  # moving backwards!\n",
    "drone.set_pitch(0)  # resetting pitch to 0\n",
    "drone.set_roll(-90)  # setting roll to the left\n",
    "drone.move(1)  # moving left!\n",
    "drone.land()\n",
    "drone.close()"
   ]
  },
  {
   "cell_type": "markdown",
   "metadata": {},
   "source": [
    "Experimenting with yaw and other paramters"
   ]
  },
  {
   "cell_type": "code",
   "execution_count": 20,
   "metadata": {},
   "outputs": [
    {
     "name": "stdout",
     "output_type": "stream",
     "text": [
      "Found CoDrone EDU controller.  /dev/cu.usbmodem3591387E34381\n",
      "Connecting to CoDrone EDU controller.\n",
      "Connected to CoDrone EDU\n",
      "Battery = 77 %\n"
     ]
    }
   ],
   "source": [
    "drone.pair()\n",
    "drone.takeoff()\n",
    "drone.set_yaw(100) # setting the yaw value to 25                        \n",
    "drone.move(10) \n",
    "drone.land()\n",
    "drone.close()"
   ]
  },
  {
   "cell_type": "code",
   "execution_count": 25,
   "metadata": {},
   "outputs": [
    {
     "name": "stdout",
     "output_type": "stream",
     "text": [
      "Found CoDrone EDU controller.  /dev/cu.usbmodem3591387E34381\n",
      "Connecting to CoDrone EDU controller.\n",
      "Connected to CoDrone EDU\n",
      "Battery = 72 %\n"
     ]
    }
   ],
   "source": [
    "drone.pair()\n",
    "drone.takeoff()\n",
    "drone.set_throttle(-50) # setting the yaw value to 25                        \n",
    "drone.move(1) \n",
    "drone.land()\n",
    "drone.close()\n"
   ]
  }
 ],
 "metadata": {
  "kernelspec": {
   "display_name": "Python 3 (ipykernel)",
   "language": "python",
   "name": "python3"
  },
  "language_info": {
   "codemirror_mode": {
    "name": "ipython",
    "version": 3
   },
   "file_extension": ".py",
   "mimetype": "text/x-python",
   "name": "python",
   "nbconvert_exporter": "python",
   "pygments_lexer": "ipython3",
   "version": "3.10.14"
  }
 },
 "nbformat": 4,
 "nbformat_minor": 4
}
