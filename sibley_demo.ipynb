{
 "cells": [
  {
   "cell_type": "markdown",
   "metadata": {},
   "source": [
    "Run `jupyter-lab` in terminal and directly connect to that notebook\n",
    "\n",
    "```\n",
    "ls /dev/cu.usbmodem*\n",
    "```"
   ]
  },
  {
   "cell_type": "markdown",
   "metadata": {},
   "source": [
    "Think about running them in two seperate programs vs in the same one like here"
   ]
  },
  {
   "cell_type": "code",
   "execution_count": 26,
   "metadata": {},
   "outputs": [
    {
     "name": "stdout",
     "output_type": "stream",
     "text": [
      "codrone-edu library version 1.9\n",
      "Please remove AA batteries while plugged into your computer.\n",
      "For more information go to: robolink.com/edu-controller-issue\n",
      "\n",
      "Found CoDrone EDU controller.  /dev/cu.usbmodem205B326132321\n",
      "Connecting to CoDrone EDU controller.\n",
      "Connected to CoDrone EDU\n",
      "Battery = 49 %\n",
      "codrone-edu library version 1.9\n",
      "Please remove AA batteries while plugged into your computer.\n",
      "For more information go to: robolink.com/edu-controller-issue\n",
      "\n",
      "Found CoDrone EDU controller.  /dev/cu.usbmodem205B326132321\n",
      "Connecting to CoDrone EDU controller.\n"
     ]
    },
    {
     "name": "stderr",
     "output_type": "stream",
     "text": [
      "Exception in thread Thread-144 (_receiving):\n",
      "Traceback (most recent call last):\n",
      "  File \"/opt/homebrew/Caskroom/miniconda/base/lib/python3.10/threading.py\", line 1016, in _bootstrap_inner\n",
      "    self.run()\n",
      "  File \"/opt/homebrew/Caskroom/miniconda/base/lib/python3.10/threading.py\", line 953, in run\n",
      "    self._target(*self._args, **self._kwargs)\n",
      "  File \"/opt/homebrew/Caskroom/miniconda/base/lib/python3.10/site-packages/codrone_edu/drone.py\", line 997, in _receiving\n",
      "    "
     ]
    },
    {
     "name": "stdout",
     "output_type": "stream",
     "text": [
      "Connected to CoDrone EDU"
     ]
    },
    {
     "name": "stderr",
     "output_type": "stream",
     "text": [
      "self._bufferQueue.put(self._serialport.read())"
     ]
    },
    {
     "name": "stdout",
     "output_type": "stream",
     "text": [
      "\n"
     ]
    },
    {
     "name": "stderr",
     "output_type": "stream",
     "text": [
      "\n"
     ]
    },
    {
     "name": "stdout",
     "output_type": "stream",
     "text": [
      "Battery = "
     ]
    },
    {
     "name": "stderr",
     "output_type": "stream",
     "text": [
      "  File \"/opt/homebrew/Caskroom/miniconda/base/lib/python3.10/site-packages/serial/serialposix.py\", line 595, in read\n",
      "    "
     ]
    },
    {
     "name": "stdout",
     "output_type": "stream",
     "text": [
      "39"
     ]
    },
    {
     "name": "stderr",
     "output_type": "stream",
     "text": [
      "raise SerialException("
     ]
    },
    {
     "name": "stdout",
     "output_type": "stream",
     "text": [
      " "
     ]
    },
    {
     "name": "stderr",
     "output_type": "stream",
     "text": [
      "\n"
     ]
    },
    {
     "name": "stdout",
     "output_type": "stream",
     "text": [
      "%"
     ]
    },
    {
     "name": "stderr",
     "output_type": "stream",
     "text": [
      "serial.serialutil."
     ]
    },
    {
     "name": "stdout",
     "output_type": "stream",
     "text": [
      "\n"
     ]
    },
    {
     "name": "stderr",
     "output_type": "stream",
     "text": [
      "SerialException: device reports readiness to read but returned no data (device disconnected or multiple access on port?)\n"
     ]
    },
    {
     "name": "stdout",
     "output_type": "stream",
     "text": [
      "Connecting to CoDrone EDU controller.\n",
      "Could not connect to CoDrone EDU.\n",
      "Check that the controller and drone are on and paired.\n",
      "Checkout this lesson on how to pair https://learn.robolink.com/lesson/0-2-power-and-charging/\n",
      "codrone-edu library version 1.9\n",
      "Please remove AA batteries while plugged into your computer.\n",
      "For more information go to: robolink.com/edu-controller-issue\n",
      "\n",
      "Found CoDrone EDU controller.  /dev/cu.usbmodem205B326132321\n",
      "Connecting to CoDrone EDU controller.\n"
     ]
    },
    {
     "name": "stderr",
     "output_type": "stream",
     "text": [
      "Exception in thread Thread-146 (_receiving):\n",
      "Traceback (most recent call last):\n",
      "  File \"/opt/homebrew/Caskroom/miniconda/base/lib/python3.10/threading.py\", line 1016, in _bootstrap_inner\n",
      "    self.run()\n",
      "  File \"/opt/homebrew/Caskroom/miniconda/base/lib/python3.10/threading.py\", line 953, in run\n",
      "    self._target(*self._args, **self._kwargs)\n",
      "  File \"/opt/homebrew/Caskroom/miniconda/base/lib/python3.10/site-packages/codrone_edu/drone.py\", line 997, in _receiving\n",
      "    self._bufferQueue.put(self._serialport.read())\n",
      "  File \"/opt/homebrew/Caskroom/miniconda/base/lib/python3.10/site-packages/serial/serialposix.py\", line 595, in read\n",
      "    raise SerialException(\n",
      "serial.serialutil.SerialException: device reports readiness to read but returned no data (device disconnected or multiple access on port?)\n"
     ]
    },
    {
     "name": "stdout",
     "output_type": "stream",
     "text": [
      "Could not connect to CoDrone EDU.\n",
      "Check that the controller and drone are on and paired.\n",
      "Checkout this lesson on how to pair https://learn.robolink.com/lesson/0-2-power-and-charging/\n",
      "Connecting to CoDrone EDU controller.\n"
     ]
    },
    {
     "name": "stderr",
     "output_type": "stream",
     "text": [
      "Exception in thread Thread-148 (_receiving):\n",
      "Traceback (most recent call last):\n",
      "  File \"/opt/homebrew/Caskroom/miniconda/base/lib/python3.10/threading.py\", line 1016, in _bootstrap_inner\n",
      "Exception in thread     Thread-54 (_receiving)self.run():\n",
      "\n",
      "Traceback (most recent call last):\n",
      "  File \"/opt/homebrew/Caskroom/miniconda/base/lib/python3.10/threading.py\", line 953, in run\n",
      "  File \"/opt/homebrew/Caskroom/miniconda/base/lib/python3.10/threading.py\", line 1016, in _bootstrap_inner\n",
      "    "
     ]
    },
    {
     "name": "stdout",
     "output_type": "stream",
     "text": [
      "Connected to CoDrone EDU"
     ]
    },
    {
     "name": "stderr",
     "output_type": "stream",
     "text": [
      "    self._target(*self._args, **self._kwargs)self.run()"
     ]
    },
    {
     "name": "stdout",
     "output_type": "stream",
     "text": [
      "\n"
     ]
    },
    {
     "name": "stderr",
     "output_type": "stream",
     "text": [
      "\n",
      "\n"
     ]
    },
    {
     "name": "stdout",
     "output_type": "stream",
     "text": [
      "Battery ="
     ]
    },
    {
     "name": "stderr",
     "output_type": "stream",
     "text": [
      "  File \"/opt/homebrew/Caskroom/miniconda/base/lib/python3.10/threading.py\", line 953, in run\n"
     ]
    },
    {
     "name": "stdout",
     "output_type": "stream",
     "text": [
      " "
     ]
    },
    {
     "name": "stderr",
     "output_type": "stream",
     "text": [
      "  File \"/opt/homebrew/Caskroom/miniconda/base/lib/python3.10/site-packages/codrone_edu/drone.py\", line 997, in _receiving\n",
      "        "
     ]
    },
    {
     "name": "stdout",
     "output_type": "stream",
     "text": [
      "100"
     ]
    },
    {
     "name": "stderr",
     "output_type": "stream",
     "text": [
      "self._bufferQueue.put(self._serialport.read())self._target(*self._args, **self._kwargs)"
     ]
    },
    {
     "name": "stdout",
     "output_type": "stream",
     "text": [
      " "
     ]
    },
    {
     "name": "stderr",
     "output_type": "stream",
     "text": [
      "\n",
      "\n"
     ]
    },
    {
     "name": "stdout",
     "output_type": "stream",
     "text": [
      "%"
     ]
    },
    {
     "name": "stderr",
     "output_type": "stream",
     "text": [
      "  File \"/opt/homebrew/Caskroom/miniconda/base/lib/python3.10/site-packages/serial/serialposix.py\", line 595, in read\n",
      "  File \"/opt/homebrew/Caskroom/miniconda/base/lib/python3.10/site-packages/codrone_edu/drone.py\", line 997, in _receiving\n"
     ]
    },
    {
     "name": "stdout",
     "output_type": "stream",
     "text": [
      "\n"
     ]
    },
    {
     "name": "stderr",
     "output_type": "stream",
     "text": [
      "        self._bufferQueue.put(self._serialport.read())raise SerialException(\n",
      "\n",
      "  File \"/opt/homebrew/Caskroom/miniconda/base/lib/python3.10/site-packages/serial/serialposix.py\", line 595, in read\n",
      "serial.serialutil    .raise SerialException(SerialException\n",
      ": serial.serialutildevice reports readiness to read but returned no data (device disconnected or multiple access on port?).\n",
      "SerialException: device reports readiness to read but returned no data (device disconnected or multiple access on port?)\n"
     ]
    },
    {
     "name": "stdout",
     "output_type": "stream",
     "text": [
      "codrone-edu library version 1.9\n",
      "Please remove AA batteries while plugged into your computer.\n",
      "For more information go to: robolink.com/edu-controller-issue\n",
      "\n",
      "Found CoDrone EDU controller.  /dev/cu.usbmodem205B326132321\n",
      "Connecting to CoDrone EDU controller.\n"
     ]
    },
    {
     "name": "stderr",
     "output_type": "stream",
     "text": [
      "Exception in thread Thread-149 (_receiving):\n",
      "Traceback (most recent call last):\n",
      "  File \"/opt/homebrew/Caskroom/miniconda/base/lib/python3.10/threading.py\", line 1016, in _bootstrap_inner\n",
      "    self.run()\n",
      "  File \"/opt/homebrew/Caskroom/miniconda/base/lib/python3.10/threading.py\", line 953, in run\n",
      "    self._target(*self._args, **self._kwargs)\n",
      "  File \"/opt/homebrew/Caskroom/miniconda/base/lib/python3.10/site-packages/codrone_edu/drone.py\", line 997, in _receiving\n",
      "    self._bufferQueue.put(self._serialport.read())\n",
      "  File \"/opt/homebrew/Caskroom/miniconda/base/lib/python3.10/site-packages/serial/serialposix.py\", line 595, in read\n",
      "    raise SerialException(\n",
      "serial.serialutil.SerialException: device reports readiness to read but returned no data (device disconnected or multiple access on port?)\n"
     ]
    },
    {
     "name": "stdout",
     "output_type": "stream",
     "text": [
      "Could not connect to CoDrone EDU.\n",
      "Check that the controller and drone are on and paired.\n",
      "Checkout this lesson on how to pair https://learn.robolink.com/lesson/0-2-power-and-charging/\n",
      "Connecting to CoDrone EDU controller.\n"
     ]
    },
    {
     "name": "stderr",
     "output_type": "stream",
     "text": [
      "Exception in thread Thread-55 (_receiving):\n",
      "Traceback (most recent call last):\n"
     ]
    },
    {
     "name": "stdout",
     "output_type": "stream",
     "text": [
      "Connected to CoDrone EDU"
     ]
    },
    {
     "name": "stderr",
     "output_type": "stream",
     "text": [
      "  File \"/opt/homebrew/Caskroom/miniconda/base/lib/python3.10/threading.py\", line 1016, in _bootstrap_inner\n"
     ]
    },
    {
     "name": "stdout",
     "output_type": "stream",
     "text": [
      "\n"
     ]
    },
    {
     "name": "stderr",
     "output_type": "stream",
     "text": [
      "    "
     ]
    },
    {
     "name": "stdout",
     "output_type": "stream",
     "text": [
      "Battery ="
     ]
    },
    {
     "name": "stderr",
     "output_type": "stream",
     "text": [
      "self.run()"
     ]
    },
    {
     "name": "stdout",
     "output_type": "stream",
     "text": [
      " 100"
     ]
    },
    {
     "name": "stderr",
     "output_type": "stream",
     "text": [
      "\n"
     ]
    },
    {
     "name": "stdout",
     "output_type": "stream",
     "text": [
      " "
     ]
    },
    {
     "name": "stderr",
     "output_type": "stream",
     "text": [
      "  File \"/opt/homebrew/Caskroom/miniconda/base/lib/python3.10/threading.py\", line 953, in run\n",
      "    "
     ]
    },
    {
     "name": "stdout",
     "output_type": "stream",
     "text": [
      "%"
     ]
    },
    {
     "name": "stderr",
     "output_type": "stream",
     "text": [
      "self._target(*self._args, **self._kwargs)"
     ]
    },
    {
     "name": "stdout",
     "output_type": "stream",
     "text": [
      "\n"
     ]
    },
    {
     "name": "stderr",
     "output_type": "stream",
     "text": [
      "\n",
      "  File \"/opt/homebrew/Caskroom/miniconda/base/lib/python3.10/site-packages/codrone_edu/drone.py\", line 997, in _receiving\n",
      "    self._bufferQueue.put(self._serialport.read())\n",
      "  File \"/opt/homebrew/Caskroom/miniconda/base/lib/python3.10/site-packages/serial/serialposix.py\", line 595, in read\n",
      "    raise SerialException(\n",
      "serial.serialutil.SerialException: device reports readiness to read but returned no data (device disconnected or multiple access on port?)\n"
     ]
    },
    {
     "name": "stdout",
     "output_type": "stream",
     "text": [
      "codrone-edu library version 1.9\n",
      "Please remove AA batteries while plugged into your computer.\n",
      "For more information go to: robolink.com/edu-controller-issue\n",
      "\n",
      "Found CoDrone EDU controller.  /dev/cu.usbmodem205B326132321\n",
      "Connecting to CoDrone EDU controller.\n"
     ]
    },
    {
     "name": "stderr",
     "output_type": "stream",
     "text": [
      "Exception in thread Thread-145 (_receiving):\n",
      "Traceback (most recent call last):\n",
      "  File \"/opt/homebrew/Caskroom/miniconda/base/lib/python3.10/threading.py\", line 1016, in _bootstrap_inner\n",
      "    self.run()\n",
      "  File \"/opt/homebrew/Caskroom/miniconda/base/lib/python3.10/threading.py\", line 953, in run\n",
      "    self._target(*self._args, **self._kwargs)\n",
      "  File \"/opt/homebrew/Caskroom/miniconda/base/lib/python3.10/site-packages/codrone_edu/drone.py\", line 997, in _receiving\n",
      "    self._bufferQueue.put(self._serialport.read())\n",
      "  File \"/opt/homebrew/Caskroom/miniconda/base/lib/python3.10/site-packages/serial/serialposix.py\", line 595, in read\n",
      "    raise SerialException(\n",
      "serial.serialutil.SerialException: device reports readiness to read but returned no data (device disconnected or multiple access on port?)\n"
     ]
    },
    {
     "name": "stdout",
     "output_type": "stream",
     "text": [
      "Connected to CoDrone EDU\n",
      "Battery = 100 %\n",
      "Connecting to CoDrone EDU controller.\n",
      "Connected to CoDrone EDU\n",
      "Battery = 100 %\n"
     ]
    },
    {
     "name": "stderr",
     "output_type": "stream",
     "text": [
      "Exception in thread Thread-151 (_receiving):\n",
      "Traceback (most recent call last):\n",
      "  File \"/opt/homebrew/Caskroom/miniconda/base/lib/python3.10/threading.py\", line 1016, in _bootstrap_inner\n",
      "    self.run()\n",
      "  File \"/opt/homebrew/Caskroom/miniconda/base/lib/python3.10/threading.py\", line 953, in run\n",
      "    self._target(*self._args, **self._kwargs)\n",
      "  File \"/opt/homebrew/Caskroom/miniconda/base/lib/python3.10/site-packages/codrone_edu/drone.py\", line 997, in _receiving\n",
      "    self._bufferQueue.put(self._serialport.read())\n",
      "  File \"/opt/homebrew/Caskroom/miniconda/base/lib/python3.10/site-packages/serial/serialposix.py\", line 595, in read\n",
      "    raise SerialException(\n",
      "serial.serialutil.SerialException: device reports readiness to read but returned no data (device disconnected or multiple access on port?)\n",
      "Exception in thread Thread-57 (_receiving):\n",
      "Traceback (most recent call last):\n",
      "  File \"/opt/homebrew/Caskroom/miniconda/base/lib/python3.10/threading.py\", line 1016, in _bootstrap_inner\n",
      "    self.run()\n",
      "  File \"/opt/homebrew/Caskroom/miniconda/base/lib/python3.10/threading.py\", line 953, in run\n",
      "    self._target(*self._args, **self._kwargs)\n",
      "  File \"/opt/homebrew/Caskroom/miniconda/base/lib/python3.10/site-packages/codrone_edu/drone.py\", line 997, in _receiving\n",
      "    self._bufferQueue.put(self._serialport.read())\n",
      "  File \"/opt/homebrew/Caskroom/miniconda/base/lib/python3.10/site-packages/serial/serialposix.py\", line 595, in read\n",
      "    raise SerialException(\n",
      "serial.serialutil.SerialException: device reports readiness to read but returned no data (device disconnected or multiple access on port?)\n"
     ]
    },
    {
     "data": {
      "text/plain": [
       "True"
      ]
     },
     "execution_count": 26,
     "metadata": {},
     "output_type": "execute_result"
    }
   ],
   "source": [
    "from codrone_edu.drone import *\n",
    "\n",
    "# Initialize SA1\n",
    "drone1 = Drone()\n",
    "drone1.pair()\n",
    "\n",
    "# Initialize SA1\n",
    "drone2 = Drone()\n",
    "drone2.pair()\n",
    "drone2.open(\"/dev/cu.usbmodem205B326132321\")  # Replace XXXXX with the first controller's device identifier\n",
    "\n",
    "# Initialize SA2\n",
    "drone3 = Drone()\n",
    "drone3.pair()\n",
    "drone3.open(\"/dev/cu.usbmodem2087327132321\")  # Replace YYYYY with the second controller's device identifier\n",
    "\n",
    "# Initialize SA3\n",
    "drone4 = Drone()\n",
    "drone4.pair()\n",
    "drone4.open(\"/dev/cu.usbmodem205A329432321\")  # Replace XXXXX with the first controller's device identifier\n",
    "\n",
    "# Initialize SA4\n",
    "drone5 = Drone()\n",
    "drone5.pair()\n",
    "drone5.open(\"/dev/cu.usbmodem3975344935381\")  # Replace XXXXX with the first controller's device identifier\n",
    "\n",
    "# drone3.drone_buzzer(Note.C5, 1000)\n",
    "# drone4.drone_buzzer(Note.C4, 1000)\n",
    "# drone3.drone_buzzer(Note.D5, 1000)\n",
    "# drone4.drone_buzzer(Note.D4, 1000)\n",
    "# drone3.drone_buzzer(Note.E5, 1000)\n",
    "# drone4.drone_buzzer(Note.E4, 1000)\n",
    "\n",
    "# drone1.drone_buzzer(Note.C4, 1000)\n",
    "# drone2.drone_buzzer(Note.C3, 1000)\n",
    "# drone1.drone_buzzer(Note.D4, 1000)\n",
    "# drone2.drone_buzzer(Note.D3, 1000)\n",
    "# drone1.drone_buzzer(Note.E4, 1000)\n",
    "# drone2.drone_buzzer(Note.E3, 1000)\n"
   ]
  },
  {
   "cell_type": "code",
   "execution_count": 2,
   "metadata": {},
   "outputs": [],
   "source": [
    "# Test hover\n",
    "drone1.takeoff()\n",
    "drone2.takeoff()\n",
    "drone3.takeoff()\n",
    "drone4.takeoff()\n",
    "drone1.hover(2)\n",
    "drone2.hover(2)\n",
    "drone3.hover(2)\n",
    "drone4.hover(2)\n",
    "\n",
    "drone1.land()\n",
    "drone2.land()\n",
    "drone3.land()\n",
    "drone4.land()\n",
    "\n",
    "# Close connections\n",
    "# drone1.close()\n",
    "# drone2.close()"
   ]
  },
  {
   "cell_type": "code",
   "execution_count": 7,
   "metadata": {},
   "outputs": [],
   "source": [
    "\n",
    "drone3.takeoff()\n",
    "drone3.hover(2)\n",
    "drone3.land()"
   ]
  },
  {
   "cell_type": "code",
   "execution_count": 19,
   "metadata": {},
   "outputs": [
    {
     "ename": "KeyboardInterrupt",
     "evalue": "",
     "output_type": "error",
     "traceback": [
      "\u001b[0;31m---------------------------------------------------------------------------\u001b[0m",
      "\u001b[0;31mKeyboardInterrupt\u001b[0m                         Traceback (most recent call last)",
      "Cell \u001b[0;32mIn[19], line 46\u001b[0m\n\u001b[1;32m     43\u001b[0m thread2\u001b[38;5;241m.\u001b[39mstart()\n\u001b[1;32m     45\u001b[0m \u001b[38;5;66;03m# Wait for both threads to complete\u001b[39;00m\n\u001b[0;32m---> 46\u001b[0m \u001b[43mthread1\u001b[49m\u001b[38;5;241;43m.\u001b[39;49m\u001b[43mjoin\u001b[49m\u001b[43m(\u001b[49m\u001b[43m)\u001b[49m\n\u001b[1;32m     47\u001b[0m thread2\u001b[38;5;241m.\u001b[39mjoin()\n\u001b[1;32m     49\u001b[0m \u001b[38;5;66;03m# Continue with other operations if needed\u001b[39;00m\n",
      "File \u001b[0;32m/opt/homebrew/Caskroom/miniconda/base/lib/python3.10/threading.py:1096\u001b[0m, in \u001b[0;36mThread.join\u001b[0;34m(self, timeout)\u001b[0m\n\u001b[1;32m   1093\u001b[0m     \u001b[38;5;28;01mraise\u001b[39;00m \u001b[38;5;167;01mRuntimeError\u001b[39;00m(\u001b[38;5;124m\"\u001b[39m\u001b[38;5;124mcannot join current thread\u001b[39m\u001b[38;5;124m\"\u001b[39m)\n\u001b[1;32m   1095\u001b[0m \u001b[38;5;28;01mif\u001b[39;00m timeout \u001b[38;5;129;01mis\u001b[39;00m \u001b[38;5;28;01mNone\u001b[39;00m:\n\u001b[0;32m-> 1096\u001b[0m     \u001b[38;5;28;43mself\u001b[39;49m\u001b[38;5;241;43m.\u001b[39;49m\u001b[43m_wait_for_tstate_lock\u001b[49m\u001b[43m(\u001b[49m\u001b[43m)\u001b[49m\n\u001b[1;32m   1097\u001b[0m \u001b[38;5;28;01melse\u001b[39;00m:\n\u001b[1;32m   1098\u001b[0m     \u001b[38;5;66;03m# the behavior of a negative timeout isn't documented, but\u001b[39;00m\n\u001b[1;32m   1099\u001b[0m     \u001b[38;5;66;03m# historically .join(timeout=x) for x<0 has acted as if timeout=0\u001b[39;00m\n\u001b[1;32m   1100\u001b[0m     \u001b[38;5;28mself\u001b[39m\u001b[38;5;241m.\u001b[39m_wait_for_tstate_lock(timeout\u001b[38;5;241m=\u001b[39m\u001b[38;5;28mmax\u001b[39m(timeout, \u001b[38;5;241m0\u001b[39m))\n",
      "File \u001b[0;32m/opt/homebrew/Caskroom/miniconda/base/lib/python3.10/threading.py:1116\u001b[0m, in \u001b[0;36mThread._wait_for_tstate_lock\u001b[0;34m(self, block, timeout)\u001b[0m\n\u001b[1;32m   1113\u001b[0m     \u001b[38;5;28;01mreturn\u001b[39;00m\n\u001b[1;32m   1115\u001b[0m \u001b[38;5;28;01mtry\u001b[39;00m:\n\u001b[0;32m-> 1116\u001b[0m     \u001b[38;5;28;01mif\u001b[39;00m \u001b[43mlock\u001b[49m\u001b[38;5;241;43m.\u001b[39;49m\u001b[43macquire\u001b[49m\u001b[43m(\u001b[49m\u001b[43mblock\u001b[49m\u001b[43m,\u001b[49m\u001b[43m \u001b[49m\u001b[43mtimeout\u001b[49m\u001b[43m)\u001b[49m:\n\u001b[1;32m   1117\u001b[0m         lock\u001b[38;5;241m.\u001b[39mrelease()\n\u001b[1;32m   1118\u001b[0m         \u001b[38;5;28mself\u001b[39m\u001b[38;5;241m.\u001b[39m_stop()\n",
      "\u001b[0;31mKeyboardInterrupt\u001b[0m: "
     ]
    }
   ],
   "source": [
    "import threading\n",
    "\n",
    "def play_drone1():\n",
    "    # Define drone1 commands\n",
    "    drone1.takeoff()\n",
    "    drone1.set_pitch(90)  # setting forward pitch\n",
    "    drone1.move(1)  # moving forward!\n",
    "    drone1.set_pitch(0)  # resetting pitch to 0\n",
    "    drone1.set_roll(90)  # setting roll to the right\n",
    "    drone1.move(1)  # moving right!\n",
    "    drone1.set_roll(0)  # resetting roll to 0\n",
    "    drone1.set_pitch(-90)  # setting backwards pitch\n",
    "    drone1.move(1)  # moving backwards!\n",
    "    drone1.set_pitch(0)  # resetting pitch to 0\n",
    "    drone1.set_roll(-90)  # setting roll to the left\n",
    "    drone1.move(1)  # moving left!\n",
    "    drone1.hover(1)\n",
    "    drone1.land()\n",
    "\n",
    "def play_drone2():\n",
    "    # Define drone2 commands\n",
    "    drone2.takeoff()\n",
    "    drone2.set_pitch(90)  # setting forward pitch\n",
    "    drone2.move(1)  # moving forward!\n",
    "    drone2.set_pitch(0)  # resetting pitch to 0\n",
    "    drone2.set_roll(90)  # setting roll to the right\n",
    "    drone2.move(1)  # moving right!\n",
    "    drone2.set_roll(0)  # resetting roll to 0\n",
    "    drone2.set_pitch(-90)  # setting backwards pitch\n",
    "    drone2.move(1)  # moving backwards!\n",
    "    drone2.set_pitch(0)  # resetting pitch to 0\n",
    "    drone2.set_roll(-90)  # setting roll to the left\n",
    "    drone2.move(1)  # moving left!\n",
    "    drone2.hover(1)\n",
    "    drone2.land()\n",
    "\n",
    "# Create threads for drone1 and drone2\n",
    "thread1 = threading.Thread(target=play_drone1)\n",
    "thread2 = threading.Thread(target=play_drone2)\n",
    "\n",
    "# Start both threads\n",
    "thread1.start()\n",
    "thread2.start()\n",
    "\n",
    "# Wait for both threads to complete\n",
    "thread1.join()\n",
    "thread2.join()\n",
    "\n",
    "# Continue with other operations if needed\n"
   ]
  },
  {
   "cell_type": "code",
   "execution_count": 22,
   "metadata": {},
   "outputs": [
    {
     "name": "stdout",
     "output_type": "stream",
     "text": [
      "All drones have finished playing.\n"
     ]
    }
   ],
   "source": [
    "import threading\n",
    "\n",
    "# could solve issue by adding fifth drone?\n",
    "\n",
    "# Define the notes and duration\n",
    "\n",
    "# Function generator to create play_drone functions for each drone\n",
    "def create_play_function(drone):\n",
    "    def play_drone():\n",
    "        drone.takeoff()\n",
    "        drone.hover(5)\n",
    "        drone.set_throttle(100)\n",
    "        drone.move(2)\n",
    "        drone.set_throttle(-50)\n",
    "        drone.move(2)\n",
    "        drone.land()\n",
    "    return play_drone\n",
    "\n",
    "# List of drones (example: drone1, drone2, drone3)\n",
    "drones = [drone1, drone2, drone3, drone4]  # Add your drone objects here\n",
    "\n",
    "# Generate play functions and threads for each drone\n",
    "threads = []\n",
    "for drone in drones:\n",
    "    play_function = create_play_function(drone)\n",
    "    thread = threading.Thread(target=play_function)\n",
    "    threads.append(thread)\n",
    "\n",
    "# Start all threads\n",
    "for thread in threads:\n",
    "    thread.start()\n",
    "\n",
    "# Wait for all threads to complete\n",
    "for thread in threads:\n",
    "    thread.join()\n",
    "\n",
    "# After all threads have completed\n",
    "print(\"All drones have finished playing.\")\n"
   ]
  },
  {
   "cell_type": "code",
   "execution_count": 30,
   "metadata": {},
   "outputs": [
    {
     "name": "stdout",
     "output_type": "stream",
     "text": [
      "All drones have finished playing.\n"
     ]
    }
   ],
   "source": [
    "import threading\n",
    "\n",
    "# Function generator to create play_drone functions for each drone\n",
    "def create_play_function(drone, direction):\n",
    "    def play_drone():\n",
    "        drone.takeoff()\n",
    "        drone.hover(5)\n",
    "        drone.set_throttle(100)\n",
    "        drone.move(1)\n",
    "        \n",
    "        if direction == 'up':\n",
    "            drone.set_throttle(-70)\n",
    "            drone.move(1)\n",
    "            drone.set_throttle(50)\n",
    "            drone.move(1)\n",
    "            drone.set_throttle(-70)\n",
    "            drone.move(1)\n",
    "            drone.set_throttle(50)\n",
    "            drone.move(1)\n",
    "        elif direction == 'down':\n",
    "            drone.set_throttle(-70)\n",
    "            drone.move(1)\n",
    "            drone.set_throttle(50)\n",
    "            drone.move(1)\n",
    "            drone.set_throttle(-70)\n",
    "            drone.move(1)\n",
    "            drone.set_throttle(50)\n",
    "            drone.move(1)\n",
    "        \n",
    "        drone.land()\n",
    "    \n",
    "    return play_drone\n",
    "\n",
    "# List of drones (example: drone1, drone2, drone3, drone4)\n",
    "# Assume drone1, drone2, drone3, drone4 are valid drone objects\n",
    "\n",
    "drones = [drone1, drone2, drone3, drone4, drone5]\n",
    "\n",
    "# Generate play functions and threads for each drone with specified directions\n",
    "threads = []\n",
    "directions = ['down', 'up', 'down', 'up', 'down']  # Define the direction for each drone\n",
    "\n",
    "for i, drone in enumerate(drones):\n",
    "    direction = directions[i]\n",
    "    play_function = create_play_function(drone, direction)\n",
    "    thread = threading.Thread(target=play_function)\n",
    "    threads.append(thread)\n",
    "\n",
    "# Start all threads\n",
    "for thread in threads:\n",
    "    thread.start()\n",
    "\n",
    "# Wait for all threads to complete\n",
    "for thread in threads:\n",
    "    thread.join()\n",
    "\n",
    "# After all threads have completed\n",
    "print(\"All drones have finished playing.\")\n"
   ]
  },
  {
   "cell_type": "code",
   "execution_count": null,
   "metadata": {},
   "outputs": [
    {
     "name": "stdout",
     "output_type": "stream",
     "text": [
      "All drones have finished playing.\n"
     ]
    },
    {
     "name": "stderr",
     "output_type": "stream",
     "text": [
      "Exception in thread Thread-147 (_receiving):\n",
      "Traceback (most recent call last):\n",
      "  File \"/opt/homebrew/Caskroom/miniconda/base/lib/python3.10/site-packages/serial/serialposix.py\", line 575, in read\n",
      "    buf = os.read(self.fd, size - len(read))\n",
      "OSError: [Errno 6] Device not configured\n",
      "\n",
      "During handling of the above exception, another exception occurred:\n",
      "\n",
      "Traceback (most recent call last):\n",
      "  File \"/opt/homebrew/Caskroom/miniconda/base/lib/python3.10/threading.py\", line 1016, in _bootstrap_inner\n",
      "    self.run()\n",
      "  File \"/opt/homebrew/Caskroom/miniconda/base/lib/python3.10/threading.py\", line 953, in run\n",
      "    self._target(*self._args, **self._kwargs)\n",
      "  File \"/opt/homebrew/Caskroom/miniconda/base/lib/python3.10/site-packages/codrone_edu/drone.py\", line 997, in _receiving\n",
      "    self._bufferQueue.put(self._serialport.read())\n",
      "  File \"/opt/homebrew/Caskroom/miniconda/base/lib/python3.10/site-packages/serial/serialposix.py\", line 581, in read\n",
      "    raise SerialException('read failed: {}'.format(e))\n",
      "serial.serialutil.SerialException: read failed: [Errno 6] Device not configured\n",
      "Exception in thread Thread-152 (_receiving):\n",
      "Traceback (most recent call last):\n",
      "  File \"/opt/homebrew/Caskroom/miniconda/base/lib/python3.10/site-packages/serial/serialposix.py\", line 575, in read\n",
      "    buf = os.read(self.fd, size - len(read))\n",
      "OSError: [Errno 6] Device not configured\n",
      "\n",
      "During handling of the above exception, another exception occurred:\n",
      "\n",
      "Traceback (most recent call last):\n",
      "  File \"/opt/homebrew/Caskroom/miniconda/base/lib/python3.10/threading.py\", line 1016, in _bootstrap_inner\n",
      "    self.run()\n",
      "  File \"/opt/homebrew/Caskroom/miniconda/base/lib/python3.10/threading.py\", line 953, in run\n",
      "    self._target(*self._args, **self._kwargs)\n",
      "  File \"/opt/homebrew/Caskroom/miniconda/base/lib/python3.10/site-packages/codrone_edu/drone.py\", line 997, in _receiving\n",
      "    self._bufferQueue.put(self._serialport.read())\n",
      "  File \"/opt/homebrew/Caskroom/miniconda/base/lib/python3.10/site-packages/serial/serialposix.py\", line 581, in read\n",
      "    raise SerialException('read failed: {}'.format(e))\n",
      "serial.serialutil.SerialException: read failed: [Errno 6] Device not configured\n",
      "Exception in thread Thread-150 (_receiving):\n",
      "Traceback (most recent call last):\n",
      "  File \"/opt/homebrew/Caskroom/miniconda/base/lib/python3.10/site-packages/serial/serialposix.py\", line 575, in read\n",
      "    buf = os.read(self.fd, size - len(read))\n",
      "OSError: [Errno 6] Device not configured\n",
      "\n",
      "During handling of the above exception, another exception occurred:\n",
      "\n",
      "Traceback (most recent call last):\n",
      "  File \"/opt/homebrew/Caskroom/miniconda/base/lib/python3.10/threading.py\", line 1016, in _bootstrap_inner\n",
      "    self.run()\n",
      "  File \"/opt/homebrew/Caskroom/miniconda/base/lib/python3.10/threading.py\", line 953, in run\n",
      "    self._target(*self._args, **self._kwargs)\n",
      "  File \"/opt/homebrew/Caskroom/miniconda/base/lib/python3.10/site-packages/codrone_edu/drone.py\", line 997, in _receiving\n",
      "    self._bufferQueue.put(self._serialport.read())\n",
      "  File \"/opt/homebrew/Caskroom/miniconda/base/lib/python3.10/site-packages/serial/serialposix.py\", line 581, in read\n",
      "    raise SerialException('read failed: {}'.format(e))\n",
      "serial.serialutil.SerialException: read failed: [Errno 6] Device not configured\n"
     ]
    }
   ],
   "source": [
    "\n",
    "\n",
    "import threading\n",
    "\n",
    "# Define the notes and duration\n",
    "\n",
    "# Function generator to create play_drone functions for each drone\n",
    "def create_play_function(drone):\n",
    "    def play_drone():\n",
    "        # Define drone commands\n",
    "        drone.takeoff()\n",
    "        drone.hover(5)\n",
    "        drone.set_pitch(30)  # setting forward pitch\n",
    "        drone.move(4)  # moving forward!\n",
    "        drone.set_pitch(0)  # resetting pitch to 0\n",
    "        drone.set_roll(30)  # setting roll to the right\n",
    "        drone.move(4)  # moving right!\n",
    "        drone.set_roll(0)  # resetting roll to 0\n",
    "        drone.set_pitch(-30)  # setting backwards pitch\n",
    "        drone.move(4)  # moving backwards!\n",
    "        drone.set_pitch(0)  # resetting pitch to 0\n",
    "        drone.set_roll(-30)  # setting roll to the left\n",
    "        drone.move(4)  # moving left!\n",
    "        drone.hover(2)\n",
    "        drone.land()\n",
    "    return play_drone\n",
    "\n",
    "# List of drones (example: drone1, drone2, drone3)\n",
    "drones = [drone1, drone2, drone3, drone4, drone5]  # Add your drone objects here\n",
    "\n",
    "# Generate play functions and threads for each drone\n",
    "threads = []\n",
    "for drone in drones:\n",
    "    play_function = create_play_function(drone)\n",
    "    thread = threading.Thread(target=play_function)\n",
    "    threads.append(thread)\n",
    "\n",
    "# Start all threads\n",
    "for thread in threads:\n",
    "    thread.start()\n",
    "\n",
    "# Wait for all threads to complete\n",
    "for thread in threads:\n",
    "    thread.join()\n",
    "\n",
    "# After all threads have completed\n",
    "print(\"All drones have finished playing.\")"
   ]
  },
  {
   "cell_type": "code",
   "execution_count": 7,
   "metadata": {},
   "outputs": [
    {
     "data": {
      "text/plain": [
       "98"
      ]
     },
     "execution_count": 7,
     "metadata": {},
     "output_type": "execute_result"
    }
   ],
   "source": [
    "drone.get_battery()"
   ]
  },
  {
   "cell_type": "markdown",
   "metadata": {},
   "source": [
    "making a square"
   ]
  },
  {
   "cell_type": "code",
   "execution_count": 36,
   "metadata": {},
   "outputs": [
    {
     "name": "stdout",
     "output_type": "stream",
     "text": [
      "Found CoDrone EDU controller.  /dev/cu.usbmodem3591387E34381\n",
      "Connecting to CoDrone EDU controller.\n",
      "Connected to CoDrone EDU\n",
      "Battery = 81 %\n"
     ]
    }
   ],
   "source": [
    "drone.pair()\n",
    "drone.takeoff()\n",
    "drone.set_pitch(90)  # setting forward pitch\n",
    "drone.move(1)  # moving forward!\n",
    "drone.set_pitch(0)  # resetting pitch to 0\n",
    "drone.set_roll(90)  # setting roll to the right\n",
    "drone.move(1)  # moving right!\n",
    "drone.set_roll(0)  # resetting roll to 0\n",
    "drone.set_pitch(-90)  # setting backwards pitch\n",
    "drone.move(1)  # moving backwards!\n",
    "drone.set_pitch(0)  # resetting pitch to 0\n",
    "drone.set_roll(-90)  # setting roll to the left\n",
    "drone.move(1)  # moving left!\n",
    "drone.land()\n",
    "drone.close()"
   ]
  },
  {
   "cell_type": "markdown",
   "metadata": {},
   "source": [
    "Experimenting with yaw and other paramters"
   ]
  },
  {
   "cell_type": "code",
   "execution_count": 20,
   "metadata": {},
   "outputs": [
    {
     "name": "stdout",
     "output_type": "stream",
     "text": [
      "Found CoDrone EDU controller.  /dev/cu.usbmodem3591387E34381\n",
      "Connecting to CoDrone EDU controller.\n",
      "Connected to CoDrone EDU\n",
      "Battery = 77 %\n"
     ]
    }
   ],
   "source": [
    "drone.pair()\n",
    "drone.takeoff()\n",
    "drone.set_yaw(100) # setting the yaw value to 25                        \n",
    "drone.move(10) \n",
    "drone.land()\n",
    "drone.close()"
   ]
  },
  {
   "cell_type": "code",
   "execution_count": 25,
   "metadata": {},
   "outputs": [
    {
     "name": "stdout",
     "output_type": "stream",
     "text": [
      "Found CoDrone EDU controller.  /dev/cu.usbmodem3591387E34381\n",
      "Connecting to CoDrone EDU controller.\n",
      "Connected to CoDrone EDU\n",
      "Battery = 72 %\n"
     ]
    }
   ],
   "source": [
    "drone.pair()\n",
    "drone.takeoff()\n",
    "drone.set_throttle(-50) # setting the yaw value to 25                        \n",
    "drone.move(1) \n",
    "drone.land()\n",
    "drone.close()\n"
   ]
  }
 ],
 "metadata": {
  "kernelspec": {
   "display_name": "Python 3 (ipykernel)",
   "language": "python",
   "name": "python3"
  },
  "language_info": {
   "codemirror_mode": {
    "name": "ipython",
    "version": 3
   },
   "file_extension": ".py",
   "mimetype": "text/x-python",
   "name": "python",
   "nbconvert_exporter": "python",
   "pygments_lexer": "ipython3",
   "version": "3.10.10"
  }
 },
 "nbformat": 4,
 "nbformat_minor": 4
}
