{
 "cells": [
  {
   "cell_type": "markdown",
   "metadata": {},
   "source": [
    "Run `jupyter-lab` in terminal and directly connect to that notebook\n",
    "\n",
    "```\n",
    "ls /dev/cu.usbmodem*\n",
    "```"
   ]
  },
  {
   "cell_type": "markdown",
   "metadata": {},
   "source": [
    "[3, 4]\n",
    "[2, 1]\n",
    "\n",
    "Viewer facing direction looking from the bottom of the page to the top of the page, just like the quadrant conventions. "
   ]
  },
  {
   "cell_type": "markdown",
   "metadata": {},
   "source": [
    "17 seconds:\n",
    "\n",
    "The Cha Cha Slide Dance\n",
    "\n",
    "Clap: Front Take off and go up and down\n",
    "Clap: Back Take off and go up and down\n",
    "\n",
    "Cha Cha Slide Mr. C from Spotify\n",
    "\n",
    "\"Everybody Clap Your Hands (00:16)\" Seconds -> Drones are powering up\n",
    "\n",
    "Drones go up on \"Clap, Clap clap your hands (00:16-17)\" -> Front Drones\n",
    "\n",
    "Drones go up on \"Clap, Clap clap your hands (00:19-20)\" -> Back Drones\n",
    "\n",
    "00:24: Drones move to the left\n",
    "\n",
    "00:26: Take it back (drones move backwards)\n",
    "\n",
    "00:28: One hop: Just increase throttle for longer\n",
    "\n",
    "00:29: Right foot let's stomp: Drones on the right side do something (left keep hovering)\n",
    "\n",
    "00:31: Left foot let's stop: Drones on the left side do something (right keeps hovering)\n",
    "\n",
    "00:34: Cha cha real smooth"
   ]
  },
  {
   "cell_type": "markdown",
   "metadata": {},
   "source": [
    "Try implementing a milli-second hover between each command & verify that that works"
   ]
  },
  {
   "cell_type": "code",
   "execution_count": 1,
   "metadata": {},
   "outputs": [
    {
     "name": "stdout",
     "output_type": "stream",
     "text": [
      "pygame 2.5.2 (SDL 2.28.3, Python 3.10.14)\n",
      "Hello from the pygame community. https://www.pygame.org/contribute.html\n"
     ]
    }
   ],
   "source": [
    "# Run the following import statements\n",
    "\n",
    "from codrone_edu.drone import *\n",
    "import threading\n",
    "import pygame\n",
    "import time"
   ]
  },
  {
   "cell_type": "code",
   "execution_count": 2,
   "metadata": {},
   "outputs": [
    {
     "name": "stdout",
     "output_type": "stream",
     "text": [
      "codrone-edu library version 1.9\n",
      "Please remove AA batteries while plugged into your computer.\n",
      "For more information go to: robolink.com/edu-controller-issue\n",
      "\n",
      "codrone-edu library version 1.9\n",
      "Please remove AA batteries while plugged into your computer.\n",
      "For more information go to: robolink.com/edu-controller-issue\n",
      "\n",
      "codrone-edu library version 1.9\n",
      "Please remove AA batteries while plugged into your computer.\n",
      "For more information go to: robolink.com/edu-controller-issue\n",
      "\n"
     ]
    }
   ],
   "source": [
    "drone1 = Drone()\n",
    "drone2 = Drone()    \n",
    "drone3 = Drone()\n",
    "# drone4 = Drone()\n",
    "\n",
    "#all_drones = [drone1, drone2, drone3, drone4]\n",
    "all_drones = [drone1, drone2, drone3]\n",
    "\n",
    "def pair():\n",
    "    # # Initialize SA3\n",
    "    drone1.pair()\n",
    "    drone1.open(\"/dev/cu.usbmodem3975344935381\")  # Replace XXXXX with the first controller's device identifier\n",
    "    time.sleep(0.1)\n",
    "    # Initialize SA4 \n",
    "    drone2.pair()\n",
    "    drone2.open(\"/dev/cu.usbmodem3361338F34311\")  # Replace XXXXX with the first controller's device identifier\n",
    "\n",
    "    # Initialize SA4 \n",
    "    drone3.pair()\n",
    "    drone3.open(\"/dev/cu.usbmodem3996345135381\")  # Replace XXXXX with the first controller's device identifier\n",
    "\n",
    "def re_pair():\n",
    "    for drone in all_drones:\n",
    "        drone.close()\n",
    "    pair()\n",
    "\n",
    "def bat_limit():    \n",
    "    for i in range(len(all_drones)):\n",
    "        if all_drones[i].get_battery() < 30:\n",
    "            print('drone ', i + 1, ' has low battery')\n",
    "\n",
    "# emergency function to land drones in case of fuck up & music stop\n",
    "def oh_crap():\n",
    "    pygame.mixer.music.stop()\n",
    "    for drone in all_drones:\n",
    "        drone.land()\n",
    "\n",
    "# definte the function to actually play the song\n",
    "def play_cupid(start_time = 87.5):\n",
    "    pygame.init()\n",
    "    pygame.mixer.init()\n",
    "    pygame.mixer.music.load(\"media/cha_cha_slide.mp3\")\n",
    "    pygame.mixer.music.play()\n",
    "    pygame.mixer.music.set_pos(start_time)"
   ]
  },
  {
   "cell_type": "code",
   "execution_count": 3,
   "metadata": {},
   "outputs": [
    {
     "name": "stdout",
     "output_type": "stream",
     "text": [
      "Found CoDrone EDU controller.  /dev/cu.usbmodem3361338F34311\n",
      "Connecting to CoDrone EDU controller.\n",
      "Connected to CoDrone EDU\n",
      "Battery = 100 %\n",
      "Connecting to CoDrone EDU controller.\n"
     ]
    },
    {
     "name": "stderr",
     "output_type": "stream",
     "text": [
      "Exception in thread Thread-6 (_receiving):\n"
     ]
    },
    {
     "name": "stdout",
     "output_type": "stream",
     "text": [
      "Connected to CoDrone EDU"
     ]
    },
    {
     "name": "stderr",
     "output_type": "stream",
     "text": [
      "Traceback (most recent call last):\n"
     ]
    },
    {
     "name": "stdout",
     "output_type": "stream",
     "text": [
      "\n"
     ]
    },
    {
     "name": "stderr",
     "output_type": "stream",
     "text": [
      "  File \"/opt/homebrew/Caskroom/miniconda/base/lib/python3.10/threading.py\", line 1016, in _bootstrap_inner\n"
     ]
    },
    {
     "name": "stdout",
     "output_type": "stream",
     "text": [
      "Battery = "
     ]
    },
    {
     "name": "stderr",
     "output_type": "stream",
     "text": [
      "    "
     ]
    },
    {
     "name": "stdout",
     "output_type": "stream",
     "text": [
      "100"
     ]
    },
    {
     "name": "stderr",
     "output_type": "stream",
     "text": [
      "self.run()"
     ]
    },
    {
     "name": "stdout",
     "output_type": "stream",
     "text": [
      " "
     ]
    },
    {
     "name": "stderr",
     "output_type": "stream",
     "text": [
      "\n"
     ]
    },
    {
     "name": "stdout",
     "output_type": "stream",
     "text": [
      "%"
     ]
    },
    {
     "name": "stderr",
     "output_type": "stream",
     "text": [
      "  File \"/opt/homebrew/Caskroom/miniconda/base/lib/python3.10/site-packages/ipykernel/ipkernel.py\", line 761, in run_closure\n"
     ]
    },
    {
     "name": "stdout",
     "output_type": "stream",
     "text": [
      "\n"
     ]
    },
    {
     "name": "stderr",
     "output_type": "stream",
     "text": [
      "    _threading_Thread_run(self)\n",
      "  File \"/opt/homebrew/Caskroom/miniconda/base/lib/python3.10/threading.py\", line 953, in run\n",
      "    self._target(*self._args, **self._kwargs)\n",
      "  File \"/opt/homebrew/Caskroom/miniconda/base/lib/python3.10/site-packages/codrone_edu/drone.py\", line 997, in _receiving\n",
      "    self._bufferQueue.put(self._serialport.read())\n",
      "  File \"/opt/homebrew/Caskroom/miniconda/base/lib/python3.10/site-packages/serial/serialposix.py\", line 595, in read\n",
      "    raise SerialException(\n",
      "serial.serialutil.SerialException: device reports readiness to read but returned no data (device disconnected or multiple access on port?)\n"
     ]
    },
    {
     "name": "stdout",
     "output_type": "stream",
     "text": [
      "Found CoDrone EDU controller.  /dev/cu.usbmodem3361338F34311\n",
      "Connecting to CoDrone EDU controller.\n",
      "Connected to CoDrone EDU\n",
      "Battery = 100 %\n",
      "Connecting to CoDrone EDU controller.\n",
      "Connected to CoDrone EDU\n",
      "Battery = 100 %\n"
     ]
    },
    {
     "name": "stderr",
     "output_type": "stream",
     "text": [
      "Exception in thread Thread-8 (_receiving):\n",
      "Traceback (most recent call last):\n",
      "  File \"/opt/homebrew/Caskroom/miniconda/base/lib/python3.10/threading.py\", line 1016, in _bootstrap_inner\n",
      "    self.run()\n",
      "  File \"/opt/homebrew/Caskroom/miniconda/base/lib/python3.10/site-packages/ipykernel/ipkernel.py\", line 761, in run_closure\n",
      "    _threading_Thread_run(self)\n",
      "  File \"/opt/homebrew/Caskroom/miniconda/base/lib/python3.10/threading.py\", line 953, in run\n",
      "    self._target(*self._args, **self._kwargs)\n",
      "  File \"/opt/homebrew/Caskroom/miniconda/base/lib/python3.10/site-packages/codrone_edu/drone.py\", line 997, in _receiving\n",
      "    self._bufferQueue.put(self._serialport.read())\n",
      "  File \"/opt/homebrew/Caskroom/miniconda/base/lib/python3.10/site-packages/serial/serialposix.py\", line 595, in read\n",
      "    raise SerialException(\n",
      "serial.serialutil.SerialException: device reports readiness to read but returned no data (device disconnected or multiple access on port?)\n"
     ]
    },
    {
     "name": "stdout",
     "output_type": "stream",
     "text": [
      "Found CoDrone EDU controller.  /dev/cu.usbmodem3361338F34311\n",
      "Connecting to CoDrone EDU controller.\n"
     ]
    },
    {
     "name": "stderr",
     "output_type": "stream",
     "text": [
      "Exception in thread Thread-7 (_receiving):\n",
      "Traceback (most recent call last):\n",
      "  File \"/opt/homebrew/Caskroom/miniconda/base/lib/python3.10/threading.py\", line 1016, in _bootstrap_inner\n",
      "    self.run()\n",
      "  File \"/opt/homebrew/Caskroom/miniconda/base/lib/python3.10/site-packages/ipykernel/ipkernel.py\", line 761, in run_closure\n",
      "    _threading_Thread_run(self)\n",
      "  File \"/opt/homebrew/Caskroom/miniconda/base/lib/python3.10/threading.py\", line 953, in run\n",
      "    self._target(*self._args, **self._kwargs)\n",
      "  File \"/opt/homebrew/Caskroom/miniconda/base/lib/python3.10/site-packages/codrone_edu/drone.py\", line 997, in _receiving\n",
      "    self._bufferQueue.put(self._serialport.read())\n",
      "  File \"/opt/homebrew/Caskroom/miniconda/base/lib/python3.10/site-packages/serial/serialposix.py\", line 595, in read\n",
      "    raise SerialException(\n",
      "serial.serialutil.SerialException: device reports readiness to read but returned no data (device disconnected or multiple access on port?)\n"
     ]
    },
    {
     "name": "stdout",
     "output_type": "stream",
     "text": [
      "Connected to CoDrone EDU\n",
      "Battery = 100 %\n",
      "Connecting to CoDrone EDU controller.\n",
      "Connected to CoDrone EDU\n",
      "Battery = 80 %\n"
     ]
    },
    {
     "name": "stderr",
     "output_type": "stream",
     "text": [
      "Exception in thread Thread-9 (_receiving):\n",
      "Traceback (most recent call last):\n",
      "  File \"/opt/homebrew/Caskroom/miniconda/base/lib/python3.10/threading.py\", line 1016, in _bootstrap_inner\n",
      "    self.run()\n",
      "  File \"/opt/homebrew/Caskroom/miniconda/base/lib/python3.10/site-packages/ipykernel/ipkernel.py\", line 761, in run_closure\n",
      "    _threading_Thread_run(self)\n",
      "  File \"/opt/homebrew/Caskroom/miniconda/base/lib/python3.10/threading.py\", line 953, in run\n",
      "    self._target(*self._args, **self._kwargs)\n",
      "  File \"/opt/homebrew/Caskroom/miniconda/base/lib/python3.10/site-packages/codrone_edu/drone.py\", line 997, in _receiving\n",
      "    self._bufferQueue.put(self._serialport.read())\n",
      "  File \"/opt/homebrew/Caskroom/miniconda/base/lib/python3.10/site-packages/serial/serialposix.py\", line 595, in read\n",
      "    raise SerialException(\n",
      "serial.serialutil.SerialException: device reports readiness to read but returned no data (device disconnected or multiple access on port?)\n"
     ]
    }
   ],
   "source": [
    "re_pair()"
   ]
  },
  {
   "cell_type": "code",
   "execution_count": 4,
   "metadata": {},
   "outputs": [
    {
     "name": "stdout",
     "output_type": "stream",
     "text": [
      "[0, 0]\n",
      "[0, 0]\n"
     ]
    }
   ],
   "source": [
    "print(drone1.get_trim())\n",
    "print(drone2.get_trim())"
   ]
  },
  {
   "cell_type": "code",
   "execution_count": 8,
   "metadata": {},
   "outputs": [],
   "source": [
    "used_drones = [drone1, drone3]"
   ]
  },
  {
   "cell_type": "code",
   "execution_count": 32,
   "metadata": {},
   "outputs": [],
   "source": [
    "def absolute_z_angle(drone):\n",
    "    z_angle = drone.get_z_angle()\n",
    "    if -180 <= z_angle < 0:\n",
    "        return z_angle + 360\n",
    "    return z_angle\n",
    "\n",
    "# good idea to write safeguard to actually land the drone\n",
    "# making a circle\n",
    "def circle_relative(drone, degrees, direction = True, duration = 2):\n",
    "    start_time = time.time()\n",
    "    current_angle = absolute_z_angle(drone)\n",
    "    target_angle = current_angle + degrees\n",
    "    if target_angle > 360:\n",
    "        target_angle -= 360\n",
    "\n",
    "    while True:\n",
    "        current_angle = absolute_z_angle(drone)\n",
    "        if direction:\n",
    "            if (target_angle - current_angle <= 5) and (time.time() - start_time > duration):\n",
    "                break\n",
    "            if (target_angle - current_angle < 15) and (time.time() - start_time > duration):\n",
    "                drone.set_yaw(5)\n",
    "                drone.set_pitch(0)\n",
    "                drone.set_roll(0)\n",
    "            else:\n",
    "                drone.set_yaw(40)\n",
    "                drone.set_pitch(30)\n",
    "                drone.set_roll(-10)\n",
    "        else:\n",
    "            if (target_angle - current_angle <= 5) and (time.time() - start_time > duration):\n",
    "                break\n",
    "            if (target_angle - current_angle < 15) and (time.time() - start_time > duration):\n",
    "                drone.set_yaw(-5)\n",
    "                drone.set_pitch(0)\n",
    "                drone.set_roll(0)\n",
    "            else:\n",
    "                drone.set_yaw(-40)\n",
    "                drone.set_pitch(-30)\n",
    "                drone.set_roll(10)\n",
    "\n",
    "        drone.move()\n",
    "    drone.set_yaw(0)\n",
    "    drone.set_pitch(0)\n",
    "    drone.set_roll(0)\n",
    "    print(\"Circle done\")\n",
    "\n",
    "# cupid shuffle dance track! \n",
    "\n",
    "# universal time constant for the duration of the drones's flights\n",
    "\n",
    "time_interval = 0.8\n",
    "upper_throt = 90\n",
    "lower_throt = -60\n",
    "\n",
    "def to_the_right(count, drone):\n",
    "    for _ in range(count):\n",
    "        drone.set_roll(90)\n",
    "        drone.move(time_interval)        \n",
    "        drone.set_roll(0)\n",
    "        drone.move(time_interval)\n",
    "    \n",
    "def to_the_left(count, drone):\n",
    "    for _ in range(count):\n",
    "        drone.set_roll(-90)\n",
    "        drone.move(time_interval)        \n",
    "        drone.set_roll(0)\n",
    "        drone.move(time_interval/1.5)\n",
    "\n",
    "def to_the_back(count, drone):\n",
    "    for _ in range(count):\n",
    "        drone.set_pitch(-90)\n",
    "        drone.move(time_interval)        \n",
    "        drone.set_pitch(0)\n",
    "        drone.move(time_interval/1.5)\n",
    "\n",
    "def to_the_front(count, drone):\n",
    "    for _ in range(count):\n",
    "        drone.set_pitch(50)\n",
    "        drone.move(time_interval)        \n",
    "        drone.set_pitch(0)\n",
    "        drone.move(time_interval)\n",
    "\n",
    "def left_stomp(drone):\n",
    "    if (drone == used_drones[0]):\n",
    "        drone.set_throttle(upper_throt)\n",
    "        drone.move(time_interval)\n",
    "    elif (drone == used_drones[1]):\n",
    "        drone.set_throttle(lower_throt)\n",
    "        drone.move(time_interval)\n",
    "    drone.set_throttle(0)\n",
    "\n",
    "\n",
    "def right_stomp(drone):\n",
    "    if (drone == used_drones[1]):\n",
    "        drone.set_throttle(upper_throt)\n",
    "        drone.move(time_interval)\n",
    "    elif (drone == used_drones[0]):\n",
    "        drone.set_throttle(lower_throt)\n",
    "        drone.move(time_interval)\n",
    "    drone.set_throttle(0)\n",
    "\n",
    "\n",
    "# low-key might be better to write a function that gets them to a certain height?\n",
    "def now_kick(count, drone):\n",
    "    # drones change in elevation, opposing would be cool\n",
    "    # upper and lower throttle percentage values\n",
    "    upper_throt = 80\n",
    "    low_throt = -30\n",
    "\n",
    "    for _ in range(count):\n",
    "        drone.set_throttle(upper_throt)\n",
    "        drone.move(.5)\n",
    "        drone.set_throttle(0)\n",
    "\n",
    "        if (drone == used_drones[0]):\n",
    "            drone.set_throttle(upper_throt)\n",
    "            drone.move(.4)\n",
    "            drone.set_throttle(low_throt)\n",
    "            drone.move(.4)\n",
    "        elif (drone == used_drones[1]):\n",
    "            drone.set_throttle(low_throt)\n",
    "            drone.move(.4)\n",
    "            drone.set_throttle(upper_throt)\n",
    "            drone.move(.4)\n",
    "        drone.set_throttle(0)\n",
    "\n",
    "def walk_it_yourself(duration, drone):\n",
    "    # drones go in circles until the end of the song (or perhaps at the end of the song)\n",
    "        if (drone == used_drones[0]):\n",
    "            circle_relative(drone, 360, True, duration)\n",
    "\n",
    "        if (drone == used_drones[1]):\n",
    "            circle_relative(drone, 360, False, duration)"
   ]
  },
  {
   "cell_type": "code",
   "execution_count": 6,
   "metadata": {},
   "outputs": [
    {
     "name": "stdout",
     "output_type": "stream",
     "text": [
      "All drones have finished playing.\n"
     ]
    }
   ],
   "source": [
    "# Cha Cha Side\n",
    "\n",
    "# would be cool to add a function that determines the drone's height\n",
    "\n",
    "# Function generator to create play_drone functions for each drone\n",
    "def create_play_function(drone):\n",
    "    def play_drone():\n",
    "        drone.takeoff()\n",
    "        drone.hover(1)\n",
    "        drone.land()\n",
    "    return play_drone\n",
    "\n",
    "# List of drones (example: drone1, drone2, drone3, drone4)\n",
    "# Assume drone1, drone2, drone3, drone4 are valid drone objects\n",
    "\n",
    "drones = [drone1, drone3]\n",
    "\n",
    "# Generate play functions and threads for each drone with specified directions\n",
    "threads = []\n",
    "\n",
    "for i, drone in enumerate(drones):\n",
    "    play_function = create_play_function(drone)\n",
    "    thread = threading.Thread(target=play_function)\n",
    "    threads.append(thread)\n",
    "\n",
    "# Start all threads\n",
    "for thread in threads:\n",
    "    thread.start()\n",
    "\n",
    "# Wait for all threads to complete\n",
    "for thread in threads:\n",
    "    thread.join()\n",
    "\n",
    "\n",
    "# After all threads have completed\n",
    "print(\"All drones have finished playing.\")"
   ]
  },
  {
   "cell_type": "code",
   "execution_count": 57,
   "metadata": {},
   "outputs": [
    {
     "ename": "KeyboardInterrupt",
     "evalue": "",
     "output_type": "error",
     "traceback": [
      "\u001b[0;31m---------------------------------------------------------------------------\u001b[0m",
      "\u001b[0;31mKeyboardInterrupt\u001b[0m                         Traceback (most recent call last)",
      "Cell \u001b[0;32mIn[57], line 1\u001b[0m\n\u001b[0;32m----> 1\u001b[0m \u001b[43mdrone1\u001b[49m\u001b[38;5;241;43m.\u001b[39;49m\u001b[43mtakeoff\u001b[49m\u001b[43m(\u001b[49m\u001b[43m)\u001b[49m\n\u001b[1;32m      2\u001b[0m drone1\u001b[38;5;241m.\u001b[39mland()\n\u001b[1;32m      3\u001b[0m drone2\u001b[38;5;241m.\u001b[39mtakeoff()\n",
      "File \u001b[0;32m/opt/homebrew/Caskroom/miniconda/base/lib/python3.10/site-packages/codrone_edu/drone.py:1481\u001b[0m, in \u001b[0;36mDrone.takeoff\u001b[0;34m(self)\u001b[0m\n\u001b[1;32m   1478\u001b[0m         \u001b[38;5;28mself\u001b[39m\u001b[38;5;241m.\u001b[39msendTakeOff()\n\u001b[1;32m   1479\u001b[0m         time\u001b[38;5;241m.\u001b[39msleep(\u001b[38;5;241m0.01\u001b[39m)\n\u001b[0;32m-> 1481\u001b[0m \u001b[43mtime\u001b[49m\u001b[38;5;241;43m.\u001b[39;49m\u001b[43msleep\u001b[49m\u001b[43m(\u001b[49m\u001b[38;5;241;43m4\u001b[39;49m\u001b[43m)\u001b[49m\n",
      "\u001b[0;31mKeyboardInterrupt\u001b[0m: "
     ]
    }
   ],
   "source": [
    "drone1.takeoff()\n",
    "drone1.land()\n",
    "drone2.takeoff()\n",
    "drone2.land()"
   ]
  },
  {
   "cell_type": "code",
   "execution_count": 8,
   "metadata": {},
   "outputs": [],
   "source": [
    "drone1.land()\n",
    "drone2.land()"
   ]
  },
  {
   "cell_type": "code",
   "execution_count": 55,
   "metadata": {},
   "outputs": [],
   "source": [
    "play_cupid(29.5)\n",
    "time.sleep(15)\n",
    "pygame.mixer.music.stop()\n"
   ]
  },
  {
   "cell_type": "code",
   "execution_count": 18,
   "metadata": {},
   "outputs": [],
   "source": [
    "pygame.mixer.music.stop()"
   ]
  },
  {
   "cell_type": "code",
   "execution_count": 33,
   "metadata": {},
   "outputs": [
    {
     "name": "stdout",
     "output_type": "stream",
     "text": [
      "All drones have finished playing.\n"
     ]
    }
   ],
   "source": [
    "# Cha Cha Side\n",
    "\n",
    "# would be cool to add a function that determines the drone's height\n",
    "\n",
    "play_cupid(29.5)\n",
    "time.sleep(15)\n",
    "\n",
    "# Function generator to create play_drone functions for each drone\n",
    "def create_play_function(drone):\n",
    "    def play_drone():\n",
    "        drone.set_yaw(0)\n",
    "        drone.set_pitch(0)\n",
    "        drone.set_roll(0)\n",
    "        drone.set_throttle(0)\n",
    "        drone.takeoff()\n",
    "        drone.hover(5)\n",
    "        to_the_left(1, drone)\n",
    "        to_the_back(1, drone)\n",
    "        drone.hover(0.4)\n",
    "        drone.set_throttle(80)\n",
    "        drone.move(0.5)\n",
    "        drone.set_throttle(-30)\n",
    "        drone.move(0.5)\n",
    "        drone.set_throttle(0)\n",
    "        right_stomp(drone)\n",
    "        left_stomp(drone)\n",
    "        #now_kick(1, drone)\n",
    "\n",
    "        # Continue with other movements or actions\n",
    "        drone.set_throttle(-60)\n",
    "        time.sleep(1)\n",
    "        drone.land()\n",
    "    return play_drone\n",
    "\n",
    "# List of drones (example: drone1, drone2, drone3, drone4)\n",
    "# Assume drone1, drone2, drone3, drone4 are valid drone objects\n",
    "\n",
    "drones = used_drones\n",
    "\n",
    "# Generate play functions and threads for each drone with specified directions\n",
    "threads = []\n",
    "\n",
    "for i, drone in enumerate(drones):\n",
    "    play_function = create_play_function(drone)\n",
    "    thread = threading.Thread(target=play_function)\n",
    "    threads.append(thread)\n",
    "\n",
    "# Start all threads\n",
    "for thread in threads:\n",
    "    thread.start()\n",
    "\n",
    "\n",
    "# Wait for all threads to complete\n",
    "for thread in threads:\n",
    "    thread.join()\n",
    "\n",
    "\n",
    "pygame.mixer.music.stop()\n",
    "\n",
    "# After all threads have completed\n",
    "print(\"All drones have finished playing.\")"
   ]
  },
  {
   "cell_type": "code",
   "execution_count": 34,
   "metadata": {},
   "outputs": [
    {
     "ename": "KeyboardInterrupt",
     "evalue": "",
     "output_type": "error",
     "traceback": [
      "\u001b[0;31m---------------------------------------------------------------------------\u001b[0m",
      "\u001b[0;31mKeyboardInterrupt\u001b[0m                         Traceback (most recent call last)",
      "Cell \u001b[0;32mIn[34], line 44\u001b[0m\n\u001b[1;32m     42\u001b[0m \u001b[38;5;66;03m# Wait for all threads to complete\u001b[39;00m\n\u001b[1;32m     43\u001b[0m \u001b[38;5;28;01mfor\u001b[39;00m thread \u001b[38;5;129;01min\u001b[39;00m threads:\n\u001b[0;32m---> 44\u001b[0m     \u001b[43mthread\u001b[49m\u001b[38;5;241;43m.\u001b[39;49m\u001b[43mjoin\u001b[49m\u001b[43m(\u001b[49m\u001b[43m)\u001b[49m\n\u001b[1;32m     46\u001b[0m pygame\u001b[38;5;241m.\u001b[39mmixer\u001b[38;5;241m.\u001b[39mmusic\u001b[38;5;241m.\u001b[39mstop()\n\u001b[1;32m     48\u001b[0m \u001b[38;5;66;03m# After all threads have completed\u001b[39;00m\n",
      "File \u001b[0;32m/opt/homebrew/Caskroom/miniconda/base/lib/python3.10/threading.py:1096\u001b[0m, in \u001b[0;36mThread.join\u001b[0;34m(self, timeout)\u001b[0m\n\u001b[1;32m   1093\u001b[0m     \u001b[38;5;28;01mraise\u001b[39;00m \u001b[38;5;167;01mRuntimeError\u001b[39;00m(\u001b[38;5;124m\"\u001b[39m\u001b[38;5;124mcannot join current thread\u001b[39m\u001b[38;5;124m\"\u001b[39m)\n\u001b[1;32m   1095\u001b[0m \u001b[38;5;28;01mif\u001b[39;00m timeout \u001b[38;5;129;01mis\u001b[39;00m \u001b[38;5;28;01mNone\u001b[39;00m:\n\u001b[0;32m-> 1096\u001b[0m     \u001b[38;5;28;43mself\u001b[39;49m\u001b[38;5;241;43m.\u001b[39;49m\u001b[43m_wait_for_tstate_lock\u001b[49m\u001b[43m(\u001b[49m\u001b[43m)\u001b[49m\n\u001b[1;32m   1097\u001b[0m \u001b[38;5;28;01melse\u001b[39;00m:\n\u001b[1;32m   1098\u001b[0m     \u001b[38;5;66;03m# the behavior of a negative timeout isn't documented, but\u001b[39;00m\n\u001b[1;32m   1099\u001b[0m     \u001b[38;5;66;03m# historically .join(timeout=x) for x<0 has acted as if timeout=0\u001b[39;00m\n\u001b[1;32m   1100\u001b[0m     \u001b[38;5;28mself\u001b[39m\u001b[38;5;241m.\u001b[39m_wait_for_tstate_lock(timeout\u001b[38;5;241m=\u001b[39m\u001b[38;5;28mmax\u001b[39m(timeout, \u001b[38;5;241m0\u001b[39m))\n",
      "File \u001b[0;32m/opt/homebrew/Caskroom/miniconda/base/lib/python3.10/threading.py:1116\u001b[0m, in \u001b[0;36mThread._wait_for_tstate_lock\u001b[0;34m(self, block, timeout)\u001b[0m\n\u001b[1;32m   1113\u001b[0m     \u001b[38;5;28;01mreturn\u001b[39;00m\n\u001b[1;32m   1115\u001b[0m \u001b[38;5;28;01mtry\u001b[39;00m:\n\u001b[0;32m-> 1116\u001b[0m     \u001b[38;5;28;01mif\u001b[39;00m \u001b[43mlock\u001b[49m\u001b[38;5;241;43m.\u001b[39;49m\u001b[43macquire\u001b[49m\u001b[43m(\u001b[49m\u001b[43mblock\u001b[49m\u001b[43m,\u001b[49m\u001b[43m \u001b[49m\u001b[43mtimeout\u001b[49m\u001b[43m)\u001b[49m:\n\u001b[1;32m   1117\u001b[0m         lock\u001b[38;5;241m.\u001b[39mrelease()\n\u001b[1;32m   1118\u001b[0m         \u001b[38;5;28mself\u001b[39m\u001b[38;5;241m.\u001b[39m_stop()\n",
      "\u001b[0;31mKeyboardInterrupt\u001b[0m: "
     ]
    },
    {
     "name": "stdout",
     "output_type": "stream",
     "text": [
      "Circle done\n",
      "Circle done\n"
     ]
    }
   ],
   "source": [
    "# Function generator to create play_drone functions for each drone\n",
    "def create_play_function(drone):\n",
    "    def play_drone():\n",
    "        drone.set_yaw(0)\n",
    "        drone.set_pitch(0)\n",
    "        drone.set_roll(0)\n",
    "        drone.takeoff()\n",
    "        drone.hover(1)\n",
    "        drone.move(1)\n",
    "        drone.set_throttle(0)\n",
    "        to_the_right(4, drone)\n",
    "        drone.hover(0.4)\n",
    "        to_the_left(4, drone)\n",
    "        now_kick(3, drone)\n",
    "        walk_it_yourself(2, drone)\n",
    "\n",
    "        # Continue with other movements or actions\n",
    "        drone.hover(1)\n",
    "        drone.land()\n",
    "    return play_drone\n",
    "\n",
    "# List of drones (example: drone1, drone2, drone3, drone4)\n",
    "# Assume drone1, drone2, drone3, drone4 are valid drone objects\n",
    "\n",
    "drones = all_drones\n",
    "\n",
    "# Generate play functions and threads for each drone with specified directions\n",
    "threads = []\n",
    "\n",
    "for i, drone in enumerate(drones):\n",
    "    play_function = create_play_function(drone)\n",
    "    thread = threading.Thread(target=play_function)\n",
    "    threads.append(thread)\n",
    "\n",
    "# Start all threads\n",
    "for thread in threads:\n",
    "    thread.start()\n",
    "\n",
    "# Start playing the Cupid Song\n",
    "play_cupid(87.5)\n",
    "\n",
    "# Wait for all threads to complete\n",
    "for thread in threads:\n",
    "    thread.join()\n",
    "\n",
    "pygame.mixer.music.stop()\n",
    "\n",
    "# After all threads have completed\n",
    "print(\"All drones have finished playing.\")\n"
   ]
  },
  {
   "cell_type": "code",
   "execution_count": 14,
   "metadata": {},
   "outputs": [
    {
     "name": "stderr",
     "output_type": "stream",
     "text": [
      "Exception in thread Exception in thread Thread-93 (play_drone)Thread-92 (play_drone):\n",
      ":\n",
      "Traceback (most recent call last):\n",
      "Traceback (most recent call last):\n",
      "  File \"/opt/homebrew/Caskroom/miniconda/base/lib/python3.10/threading.py\", line 1016, in _bootstrap_inner\n",
      "  File \"/opt/homebrew/Caskroom/miniconda/base/lib/python3.10/threading.py\", line 1016, in _bootstrap_inner\n",
      "        self.run()self.run()\n",
      "\n",
      "  File \"/opt/homebrew/Caskroom/miniconda/base/lib/python3.10/site-packages/ipykernel/ipkernel.py\", line 761, in run_closure\n",
      "  File \"/opt/homebrew/Caskroom/miniconda/base/lib/python3.10/site-packages/ipykernel/ipkernel.py\", line 761, in run_closure\n",
      "        _threading_Thread_run(self)_threading_Thread_run(self)\n",
      "\n",
      "  File \"/opt/homebrew/Caskroom/miniconda/base/lib/python3.10/threading.py\", line 953, in run\n",
      "  File \"/opt/homebrew/Caskroom/miniconda/base/lib/python3.10/threading.py\", line 953, in run\n",
      "        self._target(*self._args, **self._kwargs)self._target(*self._args, **self._kwargs)\n",
      "\n",
      "  File \"/var/folders/ts/2527553x64jdr9dphwbz4rxc0000gn/T/ipykernel_27529/1388299972.py\", line 12, in play_drone\n",
      "  File \"/var/folders/ts/2527553x64jdr9dphwbz4rxc0000gn/T/ipykernel_27529/1388299972.py\", line 12, in play_drone\n",
      "TypeError: TypeError: Drone.takeoff() takes 1 positional argument but 2 were given\n",
      "Drone.takeoff() takes 1 positional argument but 2 were given\n"
     ]
    },
    {
     "name": "stdout",
     "output_type": "stream",
     "text": [
      "All drones have finished playing.\n"
     ]
    }
   ],
   "source": [
    "# Function generator to create play_drone functions for each drone\n",
    "def create_play_function(drone):\n",
    "    def play_drone():\n",
    "        drone.set_yaw(0)\n",
    "        drone.set_pitch(0)\n",
    "        drone.set_roll(0)\n",
    "        if (drone == drone1) or (drone == drone2):\n",
    "            drone.takeoff()\n",
    "            drone.hover(2)\n",
    "        elif (drone == drone3) or (drone == drone4):\n",
    "            time.sleep(1)\n",
    "            drone.takeoff(1)\n",
    "            drone.hover(1)\n",
    "        drone.land()\n",
    "    return play_drone\n",
    "\n",
    "# List of drones (example: drone1, drone2, drone3, drone4)\n",
    "# Assume drone1, drone2, drone3, drone4 are valid drone objects\n",
    "\n",
    "drones = [drone1, drone2, drone3, drone4]\n",
    "\n",
    "# Generate play functions and threads for each drone with specified directions\n",
    "threads = []\n",
    "\n",
    "for i, drone in enumerate(drones):\n",
    "    play_function = create_play_function(drone)\n",
    "    thread = threading.Thread(target=play_function)\n",
    "    threads.append(thread)\n",
    "\n",
    "# Start all threads\n",
    "for thread in threads:\n",
    "    thread.start()\n",
    "\n",
    "# Start playing the Cupid Song\n",
    "#play_cupid(87.5)\n",
    "\n",
    "# Wait for all threads to complete\n",
    "for thread in threads:\n",
    "    thread.join()\n",
    "\n",
    "#pygame.mixer.music.stop()\n",
    "\n",
    "# After all threads have completed\n",
    "print(\"All drones have finished playing.\")\n"
   ]
  },
  {
   "cell_type": "code",
   "execution_count": null,
   "metadata": {},
   "outputs": [
    {
     "name": "stdout",
     "output_type": "stream",
     "text": [
      "Circle done\n",
      "Circle done\n",
      "Circle done\n",
      "Circle done\n",
      "All drones have finished playing.\n"
     ]
    }
   ],
   "source": [
    "# Function generator to create play_drone functions for each drone\n",
    "def create_play_function(drone, direction):\n",
    "    def play_drone():\n",
    "        drone.takeoff()\n",
    "        drone.hover(5)\n",
    "        if direction == 'right':\n",
    "            drone.set_throttle(60)\n",
    "            drone.move(2)\n",
    "            drone.set_throttle(0)\n",
    "            circle_relative(drone, 360, True, 10)\n",
    "        elif direction == 'left':\n",
    "            drone.set_throttle(20)\n",
    "            drone.move(2)\n",
    "            drone.set_throttle(0)\n",
    "            circle_relative(drone, 360, False, 10)\n",
    "        # Continue with other movements or actions\n",
    "        drone.land()\n",
    "    \n",
    "    return play_drone\n",
    "\n",
    "# List of drones (example: drone1, drone2, drone3, drone4)\n",
    "# Assume drone1, drone2, drone3, drone4 are valid drone objects\n",
    "\n",
    "drones = [drone1, drone2, drone3, drone4]\n",
    "\n",
    "# Generate play functions and threads for each drone with specified directions\n",
    "threads = []\n",
    "directions = ['left', 'left' ,'right', 'right']  # Define the direction for each drone\n",
    "\n",
    "for i, drone in enumerate(drones):\n",
    "    direction = directions[i]\n",
    "    play_function = create_play_function(drone, direction)\n",
    "    thread = threading.Thread(target=play_function)\n",
    "    threads.append(thread)\n",
    "\n",
    "# Start all threads\n",
    "for thread in threads:\n",
    "    thread.start()\n",
    "\n",
    "# Wait for all threads to complete\n",
    "for thread in threads:\n",
    "    thread.join()\n",
    "\n",
    "# After all threads have completed\n",
    "print(\"All drones have finished playing.\")\n"
   ]
  },
  {
   "cell_type": "code",
   "execution_count": 93,
   "metadata": {},
   "outputs": [
    {
     "name": "stdout",
     "output_type": "stream",
     "text": [
      "0\n",
      "Turn done\n",
      "Turn done\n",
      "Turn done\n",
      "Turn done\n",
      "-57\n"
     ]
    }
   ],
   "source": [
    "def absolute_z_angle(drone):\n",
    "    z_angle = drone.get_z_angle()\n",
    "    if -180 <= z_angle < 0:\n",
    "        return z_angle + 360\n",
    "    return z_angle\n",
    "\n",
    "def turn_right_relative(drone, degrees):\n",
    "    current_angle = absolute_z_angle(drone)\n",
    "    target_angle = current_angle + degrees\n",
    "    if target_angle >= 360:\n",
    "        target_angle -= 360\n",
    "\n",
    "    while True:\n",
    "        current_angle = absolute_z_angle(drone)\n",
    "        if current_angle >= target_angle:\n",
    "            break\n",
    "        if target_angle - current_angle < 15:\n",
    "            drone.set_yaw(10)\n",
    "        else:\n",
    "            drone.set_yaw(60)\n",
    "        drone.move()\n",
    "    drone.set_yaw(0)\n",
    "    print(\"Turn done\")\n",
    "\n",
    "# Example usage:\n",
    "drone1.takeoff()\n",
    "print(drone1.get_z_angle())\n",
    "drone1.set_pitch(50)\n",
    "drone1.move(2)\n",
    "drone1.set_pitch(0)\n",
    "turn_right_relative(drone1, 90)\n",
    "drone1.set_pitch(50)\n",
    "drone1.move(2)\n",
    "drone1.set_pitch(0)\n",
    "turn_right_relative(drone1, 90)\n",
    "drone1.set_pitch(50)\n",
    "drone1.move(2)\n",
    "drone1.set_pitch(0)\n",
    "turn_right_relative(drone1, 90)\n",
    "drone1.set_pitch(50)\n",
    "drone1.move(2)\n",
    "drone1.set_pitch(0)\n",
    "turn_right_relative(drone1, 90)\n",
    "print(drone1.get_z_angle())\n",
    "drone1.land()"
   ]
  },
  {
   "cell_type": "code",
   "execution_count": 4,
   "metadata": {},
   "outputs": [
    {
     "name": "stdout",
     "output_type": "stream",
     "text": [
      "All drones have finished playing.\n"
     ]
    }
   ],
   "source": [
    "# Drawing a square\n",
    "\n",
    "# Function generator to create play_drone functions for each drone\n",
    "def create_play_function(drone):\n",
    "    def play_drone():\n",
    "        # Define drone commands\n",
    "        drone.takeoff()\n",
    "        drone.hover(5)\n",
    "        drone.set_pitch(30)  # setting forward pitch\n",
    "        drone.move(4)  # moving forward!\n",
    "        drone.set_pitch(0)  # resetting pitch to 0\n",
    "        drone.set_roll(30)  # setting roll to the right\n",
    "        drone.move(4)  # moving right!\n",
    "        drone.set_roll(0)  # resetting roll to 0\n",
    "        drone.set_pitch(-30)  # setting backwards pitch\n",
    "        drone.move(4)  # moving backwards!\n",
    "        drone.set_pitch(0)  # resetting pitch to 0\n",
    "        drone.set_roll(-30)  # setting roll to the left\n",
    "        drone.move(4)  # moving left!\n",
    "        drone.hover(2)\n",
    "        drone.land()\n",
    "    return play_drone\n",
    "\n",
    "# List of drones (example: drone1, drone2, drone3)\n",
    "drones = [drone1, drone2, drone3, drone4]  # Add your drone objects here\n",
    "\n",
    "# Generate play functions and threads for each drone\n",
    "threads = []\n",
    "for drone in drones:\n",
    "    play_function = create_play_function(drone)\n",
    "    thread = threading.Thread(target=play_function)\n",
    "    threads.append(thread)\n",
    "\n",
    "# Start all threads\n",
    "for thread in threads:\n",
    "    thread.start()\n",
    "\n",
    "# Wait for all threads to complete\n",
    "for thread in threads:\n",
    "    thread.join()\n",
    "\n",
    "# After all threads have completed\n",
    "print(\"All drones have finished playing.\")"
   ]
  }
 ],
 "metadata": {
  "kernelspec": {
   "display_name": "Python 3 (ipykernel)",
   "language": "python",
   "name": "python3"
  },
  "language_info": {
   "codemirror_mode": {
    "name": "ipython",
    "version": 3
   },
   "file_extension": ".py",
   "mimetype": "text/x-python",
   "name": "python",
   "nbconvert_exporter": "python",
   "pygments_lexer": "ipython3",
   "version": "3.10.14"
  }
 },
 "nbformat": 4,
 "nbformat_minor": 4
}
