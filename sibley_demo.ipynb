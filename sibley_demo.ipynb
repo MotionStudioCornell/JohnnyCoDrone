{
 "cells": [
  {
   "cell_type": "markdown",
   "metadata": {},
   "source": [
    "Run `jupyter-lab` in terminal and directly connect to that notebook\n",
    "\n",
    "```\n",
    "ls /dev/cu.usbmodem*\n",
    "```"
   ]
  },
  {
   "cell_type": "markdown",
   "metadata": {},
   "source": [
    "Think about running them in two seperate programs vs in the same one like here\n",
    "\n",
    "[3, 4]\n",
    "[1, 2]\n",
    "\n",
    "Viewer facing direction looking from the bottom of the page to the top of the age"
   ]
  },
  {
   "cell_type": "code",
   "execution_count": null,
   "metadata": {},
   "outputs": [],
   "source": [
    "from codrone_edu.drone import *\n",
    "import threading\n",
    "import pygame"
   ]
  },
  {
   "cell_type": "code",
   "execution_count": 8,
   "metadata": {},
   "outputs": [
    {
     "name": "stdout",
     "output_type": "stream",
     "text": [
      "codrone-edu library version 1.9\n",
      "Please remove AA batteries while plugged into your computer.\n",
      "For more information go to: robolink.com/edu-controller-issue\n",
      "\n",
      "codrone-edu library version 1.9\n",
      "Please remove AA batteries while plugged into your computer.\n",
      "For more information go to: robolink.com/edu-controller-issue\n",
      "\n",
      "codrone-edu library version 1.9\n",
      "Please remove AA batteries while plugged into your computer.\n",
      "For more information go to: robolink.com/edu-controller-issue\n",
      "\n",
      "codrone-edu library version 1.9\n",
      "Please remove AA batteries while plugged into your computer.\n",
      "For more information go to: robolink.com/edu-controller-issue\n",
      "\n"
     ]
    }
   ],
   "source": [
    "drone1 = Drone()\n",
    "drone2 = Drone()    \n",
    "drone3 = Drone()\n",
    "drone4 = Drone()\n",
    "\n",
    "all_drones = [drone1, drone2, drone3, drone4]\n",
    "\n",
    "def pair():\n",
    "    # Initialize SA1\n",
    "    drone1.pair()\n",
    "    drone1.open(\"/dev/cu.usbmodem205B326132321\")  # Replace XXXXX with the first controller's device identifier\n",
    "\n",
    "    # Initialize SA2\n",
    "    drone2.pair()\n",
    "    drone2.open(\"/dev/cu.usbmodem2087327132321\")  # Replace YYYYY with the second controller's device identifier\n",
    "\n",
    "    # Initialize SA3\n",
    "    drone3.pair()\n",
    "    drone3.open(\"/dev/cu.usbmodem205A329432321\")  # Replace XXXXX with the first controller's device identifier\n",
    "\n",
    "    # Initialize SA4\n",
    "    drone4.pair()\n",
    "    drone4.open(\"/dev/cu.usbmodem3975344935381\")  # Replace XXXXX with the first controller's device identifier\n",
    "\n",
    "def re_pair():\n",
    "    for drone in all_drones:\n",
    "        drone.close()\n",
    "    pair()\n",
    "\n",
    "def bat_limit():    \n",
    "    for i in range(len(all_drones)):\n",
    "        if all_drones[i].get_battery() < 30:\n",
    "            print('drone ', i + 1, ' has low battery')\n",
    "\n",
    "# emergency function to land drones in case of fuck up & music stop\n",
    "def oh_crap():\n",
    "    pygame.mixer.music.stop()\n",
    "    for drone in all_drones:\n",
    "        drone.land()\n",
    "\n",
    "# definte the function to actually play the song\n",
    "def play_cupid(start_time = 87.5):\n",
    "    pygame.init()\n",
    "    pygame.mixer.init()\n",
    "    pygame.mixer.music.load(\"media/cupid_shuffle.mp3\")\n",
    "    pygame.mixer.music.play()\n",
    "    pygame.mixer.music.set_pos(start_time)\n"
   ]
  },
  {
   "cell_type": "code",
   "execution_count": 241,
   "metadata": {},
   "outputs": [
    {
     "name": "stdout",
     "output_type": "stream",
     "text": [
      "[-10, 0]\n",
      "[-10, 5]\n",
      "[0, 0]\n",
      "[-3, 3]\n"
     ]
    }
   ],
   "source": [
    "print(drone1.get_trim())\n",
    "print(drone2.get_trim())\n",
    "print(drone3.get_trim())\n",
    "print(drone4.get_trim())"
   ]
  },
  {
   "cell_type": "code",
   "execution_count": 279,
   "metadata": {},
   "outputs": [
    {
     "name": "stdout",
     "output_type": "stream",
     "text": [
      "Found CoDrone EDU controller.  /dev/cu.usbmodem3975344935381\n",
      "Connecting to CoDrone EDU controller.\n"
     ]
    },
    {
     "name": "stderr",
     "output_type": "stream",
     "text": [
      "Exception in thread Thread-913 (_receiving):\n",
      "Traceback (most recent call last):\n",
      "  File \"/opt/homebrew/Caskroom/miniconda/base/lib/python3.10/threading.py\", line 1016, in _bootstrap_inner\n",
      "    self.run()\n",
      "  File \"/opt/homebrew/Caskroom/miniconda/base/lib/python3.10/site-packages/ipykernel/ipkernel.py\", line 761, in run_closure\n",
      "    _threading_Thread_run(self)\n",
      "  File \"/opt/homebrew/Caskroom/miniconda/base/lib/python3.10/threading.py\", line 953, in run\n",
      "    self._target(*self._args, **self._kwargs)\n",
      "  File \"/opt/homebrew/Caskroom/miniconda/base/lib/python3.10/site-packages/codrone_edu/drone.py\", line 997, in _receiving\n",
      "    self._bufferQueue.put(self._serialport.read())\n",
      "  File \"/opt/homebrew/Caskroom/miniconda/base/lib/python3.10/site-packages/serial/serialposix.py\", line 595, in read\n",
      "    raise SerialException(\n",
      "serial.serialutil.SerialException: device reports readiness to read but returned no data (device disconnected or multiple access on port?)\n"
     ]
    },
    {
     "name": "stdout",
     "output_type": "stream",
     "text": [
      "Could not connect to CoDrone EDU.\n",
      "Check that the controller and drone are on and paired.\n",
      "Checkout this lesson on how to pair https://learn.robolink.com/lesson/0-2-power-and-charging/\n",
      "Connecting to CoDrone EDU controller.\n",
      "Connected to CoDrone EDU\n",
      "Battery = 69 %\n",
      "Found CoDrone EDU controller.  /dev/cu.usbmodem3975344935381\n",
      "Connecting to CoDrone EDU controller.\n"
     ]
    },
    {
     "name": "stderr",
     "output_type": "stream",
     "text": [
      "Exception in thread Thread-780 (_receiving):\n",
      "Traceback (most recent call last):\n",
      "  File \"/opt/homebrew/Caskroom/miniconda/base/lib/python3.10/threading.py\", line 1016, in _bootstrap_inner\n",
      "    self.run()\n",
      "  File \"/opt/homebrew/Caskroom/miniconda/base/lib/python3.10/site-packages/ipykernel/ipkernel.py\", line 761, in run_closure\n",
      "    _threading_Thread_run(self)\n",
      "  File \"/opt/homebrew/Caskroom/miniconda/base/lib/python3.10/threading.py\", line 953, in run\n",
      "    self._target(*self._args, **self._kwargs)\n",
      "  File \"/opt/homebrew/Caskroom/miniconda/base/lib/python3.10/site-packages/codrone_edu/drone.py\", line 997, in _receiving\n",
      "    self._bufferQueue.put(self._serialport.read())\n",
      "  File \"/opt/homebrew/Caskroom/miniconda/base/lib/python3.10/site-packages/serial/serialposix.py\", line 595, in read\n",
      "    raise SerialException(\n",
      "serial.serialutil.SerialException: device reports readiness to read but returned no data (device disconnected or multiple access on port?)\n",
      "Exception in thread Thread-785 (_receiving):\n",
      "Traceback (most recent call last):\n",
      "  File \"/opt/homebrew/Caskroom/miniconda/base/lib/python3.10/threading.py\", line 1016, in _bootstrap_inner\n",
      "    self.run()\n",
      "  File \"/opt/homebrew/Caskroom/miniconda/base/lib/python3.10/site-packages/ipykernel/ipkernel.py\", line 761, in run_closure\n",
      "    _threading_Thread_run(self)\n",
      "  File \"/opt/homebrew/Caskroom/miniconda/base/lib/python3.10/threading.py\", line 953, in run\n",
      "    self._target(*self._args, **self._kwargs)\n",
      "  File \"/opt/homebrew/Caskroom/miniconda/base/lib/python3.10/site-packages/codrone_edu/drone.py\", line 997, in _receiving\n",
      "    self._bufferQueue.put(self._serialport.read())\n",
      "  File \"/opt/homebrew/Caskroom/miniconda/base/lib/python3.10/site-packages/serial/serialposix.py\", line 595, in read\n",
      "    raise SerialException(\n",
      "serial.serialutil.SerialException: device reports readiness to read but returned no data (device disconnected or multiple access on port?)\n",
      "Exception in thread Thread-786 (_receiving):\n",
      "Traceback (most recent call last):\n",
      "  File \"/opt/homebrew/Caskroom/miniconda/base/lib/python3.10/threading.py\", line 1016, in _bootstrap_inner\n",
      "    self.run()\n",
      "  File \"/opt/homebrew/Caskroom/miniconda/base/lib/python3.10/site-packages/ipykernel/ipkernel.py\", line 761, in run_closure\n",
      "    _threading_Thread_run(self)\n",
      "  File \"/opt/homebrew/Caskroom/miniconda/base/lib/python3.10/threading.py\", line 953, in run\n",
      "    self._target(*self._args, **self._kwargs)\n",
      "  File \"/opt/homebrew/Caskroom/miniconda/base/lib/python3.10/site-packages/codrone_edu/drone.py\", line 997, in _receiving\n",
      "    self._bufferQueue.put(self._serialport.read())\n",
      "  File \"/opt/homebrew/Caskroom/miniconda/base/lib/python3.10/site-packages/serial/serialposix.py\", line 595, in read\n",
      "    raise SerialException(\n",
      "serial.serialutil.SerialException: device reports readiness to read but returned no data (device disconnected or multiple access on port?)\n",
      "Exception in thread Thread-783 (_receiving):\n",
      "Traceback (most recent call last):\n",
      "  File \"/opt/homebrew/Caskroom/miniconda/base/lib/python3.10/threading.py\", line 1016, in _bootstrap_inner\n",
      "    self.run()\n",
      "  File \"/opt/homebrew/Caskroom/miniconda/base/lib/python3.10/site-packages/ipykernel/ipkernel.py\", line 761, in run_closure\n",
      "    _threading_Thread_run(self)\n",
      "  File \"/opt/homebrew/Caskroom/miniconda/base/lib/python3.10/threading.py\", line 953, in run\n",
      "    self._target(*self._args, **self._kwargs)\n",
      "  File \"/opt/homebrew/Caskroom/miniconda/base/lib/python3.10/site-packages/codrone_edu/drone.py\", line 997, in _receiving\n",
      "    self._bufferQueue.put(self._serialport.read())\n",
      "  File \"/opt/homebrew/Caskroom/miniconda/base/lib/python3.10/site-packages/serial/serialposix.py\", line 595, in read\n",
      "    raise SerialException(\n",
      "serial.serialutil.SerialException: device reports readiness to read but returned no data (device disconnected or multiple access on port?)\n"
     ]
    },
    {
     "name": "stderr",
     "output_type": "stream",
     "text": [
      "Exception in thread Thread-915 (_receiving):\n",
      "Traceback (most recent call last):\n",
      "  File \"/opt/homebrew/Caskroom/miniconda/base/lib/python3.10/threading.py\", line 1016, in _bootstrap_inner\n",
      "    self.run()\n",
      "  File \"/opt/homebrew/Caskroom/miniconda/base/lib/python3.10/site-packages/ipykernel/ipkernel.py\", line 761, in run_closure\n",
      "    _threading_Thread_run(self)\n",
      "  File \"/opt/homebrew/Caskroom/miniconda/base/lib/python3.10/threading.py\", line 953, in run\n",
      "    self._target(*self._args, **self._kwargs)\n",
      "  File \"/opt/homebrew/Caskroom/miniconda/base/lib/python3.10/site-packages/codrone_edu/drone.py\", line 997, in _receiving\n",
      "    self._bufferQueue.put(self._serialport.read())\n",
      "  File \"/opt/homebrew/Caskroom/miniconda/base/lib/python3.10/site-packages/serial/serialposix.py\", line 595, in read\n",
      "    raise SerialException(\n",
      "serial.serialutil.SerialException: device reports readiness to read but returned no data (device disconnected or multiple access on port?)\n"
     ]
    },
    {
     "name": "stdout",
     "output_type": "stream",
     "text": [
      "Could not connect to CoDrone EDU.\n",
      "Check that the controller and drone are on and paired.\n",
      "Checkout this lesson on how to pair https://learn.robolink.com/lesson/0-2-power-and-charging/\n",
      "Connecting to CoDrone EDU controller.\n"
     ]
    },
    {
     "name": "stderr",
     "output_type": "stream",
     "text": [
      "Exception in thread Thread-916 (_receiving):\n",
      "Traceback (most recent call last):\n",
      "  File \"/opt/homebrew/Caskroom/miniconda/base/lib/python3.10/threading.py\", line 1016, in _bootstrap_inner\n",
      "    self.run()\n",
      "  File \"/opt/homebrew/Caskroom/miniconda/base/lib/python3.10/site-packages/ipykernel/ipkernel.py\", line 761, in run_closure\n",
      "    _threading_Thread_run(self)\n",
      "  File \"/opt/homebrew/Caskroom/miniconda/base/lib/python3.10/threading.py\", line 953, in run\n",
      "    self._target(*self._args, **self._kwargs)\n",
      "  File \"/opt/homebrew/Caskroom/miniconda/base/lib/python3.10/site-packages/codrone_edu/drone.py\", line 997, in _receiving\n",
      "    self._bufferQueue.put(self._serialport.read())\n",
      "  File \"/opt/homebrew/Caskroom/miniconda/base/lib/python3.10/site-packages/serial/serialposix.py\", line 595, in read\n",
      "    raise SerialException(\n",
      "serial.serialutil.SerialException: device reports readiness to read but returned no data (device disconnected or multiple access on port?)\n"
     ]
    },
    {
     "name": "stdout",
     "output_type": "stream",
     "text": [
      "Could not connect to CoDrone EDU.\n",
      "Check that the controller and drone are on and paired.\n",
      "Checkout this lesson on how to pair https://learn.robolink.com/lesson/0-2-power-and-charging/\n",
      "Found CoDrone EDU controller.  /dev/cu.usbmodem3975344935381\n",
      "Connecting to CoDrone EDU controller.\n"
     ]
    },
    {
     "name": "stderr",
     "output_type": "stream",
     "text": [
      "Exception in thread Thread-917 (_receiving):\n",
      "Traceback (most recent call last):\n",
      "  File \"/opt/homebrew/Caskroom/miniconda/base/lib/python3.10/threading.py\", line 1016, in _bootstrap_inner\n",
      "    self.run()\n",
      "  File \"/opt/homebrew/Caskroom/miniconda/base/lib/python3.10/site-packages/ipykernel/ipkernel.py\", line 761, in run_closure\n",
      "    _threading_Thread_run(self)\n",
      "  File \"/opt/homebrew/Caskroom/miniconda/base/lib/python3.10/threading.py\", line 953, in run\n",
      "    self._target(*self._args, **self._kwargs)\n",
      "  File \"/opt/homebrew/Caskroom/miniconda/base/lib/python3.10/site-packages/codrone_edu/drone.py\", line 997, in _receiving\n",
      "    self._bufferQueue.put(self._serialport.read())\n",
      "  File \"/opt/homebrew/Caskroom/miniconda/base/lib/python3.10/site-packages/serial/serialposix.py\", line 595, in read\n",
      "    raise SerialException(\n",
      "serial.serialutil.SerialException: device reports readiness to read but returned no data (device disconnected or multiple access on port?)\n"
     ]
    },
    {
     "name": "stdout",
     "output_type": "stream",
     "text": [
      "Could not connect to CoDrone EDU.\n",
      "Check that the controller and drone are on and paired.\n",
      "Checkout this lesson on how to pair https://learn.robolink.com/lesson/0-2-power-and-charging/\n",
      "Connecting to CoDrone EDU controller.\n",
      "Connected to CoDrone EDU\n",
      "Battery = 53 %\n",
      "Found CoDrone EDU controller.  /dev/cu.usbmodem3975344935381\n",
      "Connecting to CoDrone EDU controller.\n"
     ]
    },
    {
     "name": "stderr",
     "output_type": "stream",
     "text": [
      "Exception in thread Thread-919 (_receiving):\n",
      "Traceback (most recent call last):\n",
      "  File \"/opt/homebrew/Caskroom/miniconda/base/lib/python3.10/threading.py\", line 1016, in _bootstrap_inner\n",
      "    self.run()\n",
      "  File \"/opt/homebrew/Caskroom/miniconda/base/lib/python3.10/site-packages/ipykernel/ipkernel.py\", line 761, in run_closure\n",
      "    _threading_Thread_run(self)\n",
      "  File \"/opt/homebrew/Caskroom/miniconda/base/lib/python3.10/threading.py\", line 953, in run\n",
      "    self._target(*self._args, **self._kwargs)\n",
      "  File \"/opt/homebrew/Caskroom/miniconda/base/lib/python3.10/site-packages/codrone_edu/drone.py\", line 997, in _receiving\n",
      "    self._bufferQueue.put(self._serialport.read())\n",
      "  File \"/opt/homebrew/Caskroom/miniconda/base/lib/python3.10/site-packages/serial/serialposix.py\", line 595, in read\n",
      "    raise SerialException(\n",
      "serial.serialutil.SerialException: device reports readiness to read but returned no data (device disconnected or multiple access on port?)\n"
     ]
    },
    {
     "name": "stdout",
     "output_type": "stream",
     "text": [
      "Could not connect to CoDrone EDU.\n",
      "Check that the controller and drone are on and paired.\n",
      "Checkout this lesson on how to pair https://learn.robolink.com/lesson/0-2-power-and-charging/\n",
      "Connecting to CoDrone EDU controller.\n",
      "Connected to CoDrone EDU\n",
      "Battery = 48 %\n",
      "drone  2  has low battery\n"
     ]
    },
    {
     "data": {
      "text/plain": [
       "53"
      ]
     },
     "execution_count": 279,
     "metadata": {},
     "output_type": "execute_result"
    }
   ],
   "source": [
    "re_pair()\n",
    "\n",
    "bat_limit()"
   ]
  },
  {
   "cell_type": "code",
   "execution_count": 14,
   "metadata": {},
   "outputs": [
    {
     "name": "stdout",
     "output_type": "stream",
     "text": [
      "All drones have finished playing.\n"
     ]
    }
   ],
   "source": [
    "# cupid shuffle dance track! \n",
    "\n",
    "def to_the_right(count, drone):\n",
    "    for _ in range(count):\n",
    "        drone.set_roll(90)\n",
    "        drone.move(.5)        \n",
    "        drone.set_roll(0)\n",
    "        drone.move(.3)\n",
    "    \n",
    "def to_the_left(count, drone):\n",
    "    for _ in range(count):\n",
    "        drone.set_roll(-90)\n",
    "        drone.move(.5)        \n",
    "        drone.set_roll(0)\n",
    "        drone.move(.35)\n",
    "\n",
    "def now_kick(count, drone):\n",
    "    # drones change in elevation, opposing would be cool\n",
    "    True\n",
    "\n",
    "def walk_it_yourself(count, drone):\n",
    "    # drones go in circles until the end of the song (or perhaps at the end of the song)\n",
    "    True\n",
    "\n",
    "# Function generator to create play_drone functions for each drone\n",
    "def create_play_function(drone):\n",
    "    def play_drone():\n",
    "        drone.takeoff()\n",
    "        drone.hover(1)\n",
    "        drone.set_throttle(50)\n",
    "        drone.move(2)\n",
    "        drone.set_throttle(0)\n",
    "        to_the_right(4, drone)\n",
    "        to_the_left(4, drone)\n",
    "\n",
    "        # Continue with other movements or actions\n",
    "        drone.hover(1)\n",
    "        drone.land()\n",
    "    \n",
    "    return play_drone\n",
    "\n",
    "# List of drones (example: drone1, drone2, drone3, drone4)\n",
    "# Assume drone1, drone2, drone3, drone4 are valid drone objects\n",
    "\n",
    "drones = [drone1, drone2, drone3, drone4]\n",
    "\n",
    "# Generate play functions and threads for each drone with specified directions\n",
    "threads = []\n",
    "\n",
    "for i, drone in enumerate(drones):\n",
    "    play_function = create_play_function(drone)\n",
    "    thread = threading.Thread(target=play_function)\n",
    "    threads.append(thread)\n",
    "\n",
    "# Start all threads\n",
    "for thread in threads:\n",
    "    thread.start()\n",
    "\n",
    "# Start playing the Cupid Song\n",
    "play_cupid(87.5)\n",
    "\n",
    "# Wait for all threads to complete\n",
    "for thread in threads:\n",
    "    thread.join()\n",
    "\n",
    "pygame.mixer.music.stop()\n",
    "\n",
    "# After all threads have completed\n",
    "print(\"All drones have finished playing.\")\n"
   ]
  },
  {
   "cell_type": "code",
   "execution_count": 236,
   "metadata": {},
   "outputs": [],
   "source": [
    "def absolute_z_angle(drone):\n",
    "    z_angle = drone.get_z_angle()\n",
    "    if -180 <= z_angle < 0:\n",
    "        return z_angle + 360\n",
    "    return z_angle\n",
    "\n",
    "# making a circle\n",
    "def circle_relative(drone, degrees, direction = True, duration = 2):\n",
    "    start_time = time.time()\n",
    "    current_angle = absolute_z_angle(drone)\n",
    "    target_angle = current_angle + degrees\n",
    "    if target_angle > 360:\n",
    "        target_angle -= 360\n",
    "\n",
    "    while True:\n",
    "        current_angle = absolute_z_angle(drone)\n",
    "        if direction:\n",
    "            if (target_angle - current_angle <= 5) and (time.time() - start_time > duration):\n",
    "                break\n",
    "            if (target_angle - current_angle < 15) and (time.time() - start_time > duration):\n",
    "                drone.set_yaw(5)\n",
    "                drone.set_pitch(0)\n",
    "                drone.set_roll(0)\n",
    "            else:\n",
    "                drone.set_yaw(40)\n",
    "                drone.set_pitch(30)\n",
    "                drone.set_roll(-10)\n",
    "        else:\n",
    "            if (target_angle - current_angle <= 5) and (time.time() - start_time > duration):\n",
    "                break\n",
    "            if (target_angle - current_angle < 15) and (time.time() - start_time > duration):\n",
    "                drone.set_yaw(-5)\n",
    "                drone.set_pitch(0)\n",
    "                drone.set_roll(0)\n",
    "            else:\n",
    "                drone.set_yaw(-40)\n",
    "                drone.set_pitch(-30)\n",
    "                drone.set_roll(10)\n",
    "\n",
    "        drone.move()\n",
    "    drone.set_yaw(0)\n",
    "    drone.set_pitch(0)\n",
    "    drone.set_roll(0)\n",
    "    print(\"Circle done\")"
   ]
  },
  {
   "cell_type": "code",
   "execution_count": null,
   "metadata": {},
   "outputs": [
    {
     "name": "stdout",
     "output_type": "stream",
     "text": [
      "Circle done\n",
      "Circle done\n",
      "Circle done\n",
      "Circle done\n",
      "All drones have finished playing.\n"
     ]
    }
   ],
   "source": [
    "# Function generator to create play_drone functions for each drone\n",
    "def create_play_function(drone, direction):\n",
    "    def play_drone():\n",
    "        drone.takeoff()\n",
    "        drone.hover(5)\n",
    "        if direction == 'right':\n",
    "            drone.set_throttle(60)\n",
    "            drone.move(2)\n",
    "            drone.set_throttle(0)\n",
    "            circle_relative(drone, 360, True, 10)\n",
    "        elif direction == 'left':\n",
    "            drone.set_throttle(20)\n",
    "            drone.move(2)\n",
    "            drone.set_throttle(0)\n",
    "            circle_relative(drone, 360, False, 10)\n",
    "        # Continue with other movements or actions\n",
    "        drone.land()\n",
    "    \n",
    "    return play_drone\n",
    "\n",
    "# List of drones (example: drone1, drone2, drone3, drone4)\n",
    "# Assume drone1, drone2, drone3, drone4 are valid drone objects\n",
    "\n",
    "drones = [drone1, drone2, drone3, drone4]\n",
    "\n",
    "# Generate play functions and threads for each drone with specified directions\n",
    "threads = []\n",
    "directions = ['left', 'left' ,'right', 'right']  # Define the direction for each drone\n",
    "\n",
    "for i, drone in enumerate(drones):\n",
    "    direction = directions[i]\n",
    "    play_function = create_play_function(drone, direction)\n",
    "    thread = threading.Thread(target=play_function)\n",
    "    threads.append(thread)\n",
    "\n",
    "# Start all threads\n",
    "for thread in threads:\n",
    "    thread.start()\n",
    "\n",
    "# Wait for all threads to complete\n",
    "for thread in threads:\n",
    "    thread.join()\n",
    "\n",
    "# After all threads have completed\n",
    "print(\"All drones have finished playing.\")\n"
   ]
  },
  {
   "cell_type": "code",
   "execution_count": 93,
   "metadata": {},
   "outputs": [
    {
     "name": "stdout",
     "output_type": "stream",
     "text": [
      "0\n",
      "Turn done\n",
      "Turn done\n",
      "Turn done\n",
      "Turn done\n",
      "-57\n"
     ]
    }
   ],
   "source": [
    "def absolute_z_angle(drone):\n",
    "    z_angle = drone.get_z_angle()\n",
    "    if -180 <= z_angle < 0:\n",
    "        return z_angle + 360\n",
    "    return z_angle\n",
    "\n",
    "def turn_right_relative(drone, degrees):\n",
    "    current_angle = absolute_z_angle(drone)\n",
    "    target_angle = current_angle + degrees\n",
    "    if target_angle >= 360:\n",
    "        target_angle -= 360\n",
    "\n",
    "    while True:\n",
    "        current_angle = absolute_z_angle(drone)\n",
    "        if current_angle >= target_angle:\n",
    "            break\n",
    "        if target_angle - current_angle < 15:\n",
    "            drone.set_yaw(10)\n",
    "        else:\n",
    "            drone.set_yaw(60)\n",
    "        drone.move()\n",
    "    drone.set_yaw(0)\n",
    "    print(\"Turn done\")\n",
    "\n",
    "# Example usage:\n",
    "drone1.takeoff()\n",
    "print(drone1.get_z_angle())\n",
    "drone1.set_pitch(50)\n",
    "drone1.move(2)\n",
    "drone1.set_pitch(0)\n",
    "turn_right_relative(drone1, 90)\n",
    "drone1.set_pitch(50)\n",
    "drone1.move(2)\n",
    "drone1.set_pitch(0)\n",
    "turn_right_relative(drone1, 90)\n",
    "drone1.set_pitch(50)\n",
    "drone1.move(2)\n",
    "drone1.set_pitch(0)\n",
    "turn_right_relative(drone1, 90)\n",
    "drone1.set_pitch(50)\n",
    "drone1.move(2)\n",
    "drone1.set_pitch(0)\n",
    "turn_right_relative(drone1, 90)\n",
    "print(drone1.get_z_angle())\n",
    "drone1.land()"
   ]
  },
  {
   "cell_type": "code",
   "execution_count": 4,
   "metadata": {},
   "outputs": [
    {
     "name": "stdout",
     "output_type": "stream",
     "text": [
      "All drones have finished playing.\n"
     ]
    }
   ],
   "source": [
    "\n",
    "# Define the notes and duration\n",
    "\n",
    "# Function generator to create play_drone functions for each drone\n",
    "def create_play_function(drone):\n",
    "    def play_drone():\n",
    "        # Define drone commands\n",
    "        drone.takeoff()\n",
    "        drone.hover(5)\n",
    "        drone.set_pitch(30)  # setting forward pitch\n",
    "        drone.move(4)  # moving forward!\n",
    "        drone.set_pitch(0)  # resetting pitch to 0\n",
    "        drone.set_roll(30)  # setting roll to the right\n",
    "        drone.move(4)  # moving right!\n",
    "        drone.set_roll(0)  # resetting roll to 0\n",
    "        drone.set_pitch(-30)  # setting backwards pitch\n",
    "        drone.move(4)  # moving backwards!\n",
    "        drone.set_pitch(0)  # resetting pitch to 0\n",
    "        drone.set_roll(-30)  # setting roll to the left\n",
    "        drone.move(4)  # moving left!\n",
    "        drone.hover(2)\n",
    "        drone.land()\n",
    "    return play_drone\n",
    "\n",
    "# List of drones (example: drone1, drone2, drone3)\n",
    "drones = [drone1, drone2, drone3, drone4]  # Add your drone objects here\n",
    "\n",
    "# Generate play functions and threads for each drone\n",
    "threads = []\n",
    "for drone in drones:\n",
    "    play_function = create_play_function(drone)\n",
    "    thread = threading.Thread(target=play_function)\n",
    "    threads.append(thread)\n",
    "\n",
    "# Start all threads\n",
    "for thread in threads:\n",
    "    thread.start()\n",
    "\n",
    "# Wait for all threads to complete\n",
    "for thread in threads:\n",
    "    thread.join()\n",
    "\n",
    "# After all threads have completed\n",
    "print(\"All drones have finished playing.\")"
   ]
  }
 ],
 "metadata": {
  "kernelspec": {
   "display_name": "Python 3 (ipykernel)",
   "language": "python",
   "name": "python3"
  },
  "language_info": {
   "codemirror_mode": {
    "name": "ipython",
    "version": 3
   },
   "file_extension": ".py",
   "mimetype": "text/x-python",
   "name": "python",
   "nbconvert_exporter": "python",
   "pygments_lexer": "ipython3",
   "version": "3.10.14"
  }
 },
 "nbformat": 4,
 "nbformat_minor": 4
}
