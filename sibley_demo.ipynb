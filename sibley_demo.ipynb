{
 "cells": [
  {
   "cell_type": "markdown",
   "metadata": {},
   "source": [
    "Run `jupyter-lab` in terminal and directly connect to that notebook\n",
    "\n",
    "```\n",
    "ls /dev/cu.usbmodem*\n",
    "```"
   ]
  },
  {
   "cell_type": "markdown",
   "metadata": {},
   "source": [
    "[2, 1]\n",
    "\n",
    "Viewer facing direction looking from the bottom of the page to the top of the page, just like the quadrant conventions. "
   ]
  },
  {
   "cell_type": "markdown",
   "metadata": {},
   "source": [
    "Instructions:\n",
    "\n",
    "Trick drone2 into being the delayed drone, basically just run this code a few times for it to work, until it works. More of a bandaid solutin than anything, but it does work! "
   ]
  },
  {
   "cell_type": "code",
   "execution_count": 37,
   "metadata": {},
   "outputs": [],
   "source": [
    "# Run the following import statements\n",
    "\n",
    "from codrone_edu.drone import *\n",
    "import threading\n",
    "import pygame\n",
    "import time"
   ]
  },
  {
   "cell_type": "code",
   "execution_count": 2,
   "metadata": {},
   "outputs": [
    {
     "name": "stdout",
     "output_type": "stream",
     "text": [
      "codrone-edu library version 1.9\n",
      "Please remove AA batteries while plugged into your computer.\n",
      "For more information go to: robolink.com/edu-controller-issue\n",
      "\n",
      "codrone-edu library version 1.9\n",
      "Please remove AA batteries while plugged into your computer.\n",
      "For more information go to: robolink.com/edu-controller-issue\n",
      "\n",
      "codrone-edu library version 1.9\n",
      "Please remove AA batteries while plugged into your computer.\n",
      "For more information go to: robolink.com/edu-controller-issue\n",
      "\n"
     ]
    }
   ],
   "source": [
    "drone1 = Drone()\n",
    "drone2 = Drone()    \n",
    "drone3 = Drone()\n",
    "\n",
    "all_drones = [drone1, drone2, drone3]\n",
    "\n",
    "def pair():\n",
    "    # # Initialize SA3\n",
    "    drone1.pair()\n",
    "    drone1.open(\"/dev/cu.usbmodem3975344935381\")  # Replace XXXXX with the first controller's device identifier\n",
    "    time.sleep(0.1)\n",
    "    # Initialize SA4 \n",
    "    drone2.pair()\n",
    "    drone2.open(\"/dev/cu.usbmodem3361338F34311\")  # Replace XXXXX with the first controller's device identifier\n",
    "\n",
    "    # Initialize SA4 \n",
    "    drone3.pair()\n",
    "    drone3.open(\"/dev/cu.usbmodem3996345135381\")  # Replace XXXXX with the first controller's device identifier\n",
    "\n",
    "def re_pair():\n",
    "    for drone in all_drones:\n",
    "        drone.close()\n",
    "    pair()\n",
    "\n",
    "def bat_limit():    \n",
    "    for i in range(len(all_drones)):\n",
    "        if all_drones[i].get_battery() < 30:\n",
    "            print('drone ', i + 1, ' has low battery')\n",
    "\n",
    "# emergency function to land drones in case of fuck up & music stop\n",
    "def oh_crap():\n",
    "    pygame.mixer.music.stop()\n",
    "    for drone in all_drones:\n",
    "        drone.land()\n",
    "\n",
    "# definte the function to actually play the song\n",
    "def play_cupid(start_time = 87.5):\n",
    "    pygame.init()\n",
    "    pygame.mixer.init()\n",
    "    pygame.mixer.music.load(\"media/cha_cha_slide.mp3\")\n",
    "    pygame.mixer.music.play()\n",
    "    pygame.mixer.music.set_pos(start_time)"
   ]
  },
  {
   "cell_type": "code",
   "execution_count": 10,
   "metadata": {},
   "outputs": [
    {
     "name": "stdout",
     "output_type": "stream",
     "text": [
      "Found CoDrone EDU controller.  /dev/cu.usbmodem3996345135381\n",
      "Connecting to CoDrone EDU controller.\n",
      "Connected to CoDrone EDU\n",
      "Battery = 100 %\n",
      "Connecting to CoDrone EDU controller.\n",
      "Connected to CoDrone EDU\n",
      "Battery = 98 %\n"
     ]
    },
    {
     "name": "stderr",
     "output_type": "stream",
     "text": [
      "Exception in thread Thread-27 (_receiving):\n",
      "Traceback (most recent call last):\n",
      "  File \"/opt/homebrew/Caskroom/miniconda/base/lib/python3.10/threading.py\", line 1016, in _bootstrap_inner\n",
      "    self.run()\n",
      "  File \"/opt/homebrew/Caskroom/miniconda/base/lib/python3.10/site-packages/ipykernel/ipkernel.py\", line 761, in run_closure\n",
      "    _threading_Thread_run(self)\n",
      "  File \"/opt/homebrew/Caskroom/miniconda/base/lib/python3.10/threading.py\", line 953, in run\n",
      "    self._target(*self._args, **self._kwargs)\n",
      "  File \"/opt/homebrew/Caskroom/miniconda/base/lib/python3.10/site-packages/codrone_edu/drone.py\", line 997, in _receiving\n",
      "    self._bufferQueue.put(self._serialport.read())\n",
      "  File \"/opt/homebrew/Caskroom/miniconda/base/lib/python3.10/site-packages/serial/serialposix.py\", line 595, in read\n",
      "    raise SerialException(\n",
      "serial.serialutil.SerialException: device reports readiness to read but returned no data (device disconnected or multiple access on port?)\n"
     ]
    },
    {
     "name": "stdout",
     "output_type": "stream",
     "text": [
      "Found CoDrone EDU controller.  /dev/cu.usbmodem3996345135381\n",
      "Connecting to CoDrone EDU controller.\n",
      "Connected to CoDrone EDU\n",
      "Battery = 100 %\n",
      "Connecting to CoDrone EDU controller.\n",
      "Connected to CoDrone EDU\n",
      "Battery = 100 %\n"
     ]
    },
    {
     "name": "stderr",
     "output_type": "stream",
     "text": [
      "Exception in thread Thread-30 (_receiving):\n",
      "Traceback (most recent call last):\n",
      "  File \"/opt/homebrew/Caskroom/miniconda/base/lib/python3.10/threading.py\", line 1016, in _bootstrap_inner\n",
      "    self.run()\n",
      "  File \"/opt/homebrew/Caskroom/miniconda/base/lib/python3.10/site-packages/ipykernel/ipkernel.py\", line 761, in run_closure\n",
      "    _threading_Thread_run(self)\n",
      "  File \"/opt/homebrew/Caskroom/miniconda/base/lib/python3.10/threading.py\", line 953, in run\n",
      "    self._target(*self._args, **self._kwargs)\n",
      "  File \"/opt/homebrew/Caskroom/miniconda/base/lib/python3.10/site-packages/codrone_edu/drone.py\", line 997, in _receiving\n",
      "    self._bufferQueue.put(self._serialport.read())\n",
      "  File \"/opt/homebrew/Caskroom/miniconda/base/lib/python3.10/site-packages/serial/serialposix.py\", line 595, in read\n",
      "    raise SerialException(\n",
      "serial.serialutil.SerialException: device reports readiness to read but returned no data (device disconnected or multiple access on port?)\n"
     ]
    },
    {
     "name": "stdout",
     "output_type": "stream",
     "text": [
      "Found CoDrone EDU controller.  /dev/cu.usbmodem3996345135381\n",
      "Connecting to CoDrone EDU controller.\n",
      "Connected to CoDrone EDU\n",
      "Battery = 100 %\n",
      "Connecting to CoDrone EDU controller.\n",
      "Connected to CoDrone EDU\n",
      "Battery = 100 %\n"
     ]
    },
    {
     "name": "stderr",
     "output_type": "stream",
     "text": [
      "Exception in thread Thread-31 (_receiving):\n",
      "Traceback (most recent call last):\n",
      "  File \"/opt/homebrew/Caskroom/miniconda/base/lib/python3.10/threading.py\", line 1016, in _bootstrap_inner\n",
      "    self.run()\n",
      "  File \"/opt/homebrew/Caskroom/miniconda/base/lib/python3.10/site-packages/ipykernel/ipkernel.py\", line 761, in run_closure\n",
      "    _threading_Thread_run(self)\n",
      "  File \"/opt/homebrew/Caskroom/miniconda/base/lib/python3.10/threading.py\", line 953, in run\n",
      "    self._target(*self._args, **self._kwargs)\n",
      "  File \"/opt/homebrew/Caskroom/miniconda/base/lib/python3.10/site-packages/codrone_edu/drone.py\", line 997, in _receiving\n",
      "    self._bufferQueue.put(self._serialport.read())\n",
      "  File \"/opt/homebrew/Caskroom/miniconda/base/lib/python3.10/site-packages/serial/serialposix.py\", line 595, in read\n",
      "    raise SerialException(\n",
      "serial.serialutil.SerialException: device reports readiness to read but returned no data (device disconnected or multiple access on port?)\n"
     ]
    }
   ],
   "source": [
    "re_pair()"
   ]
  },
  {
   "cell_type": "code",
   "execution_count": 4,
   "metadata": {},
   "outputs": [
    {
     "name": "stdout",
     "output_type": "stream",
     "text": [
      "[-3, 3]\n",
      "[0, 10]\n"
     ]
    }
   ],
   "source": [
    "print(drone1.get_trim())\n",
    "print(drone2.get_trim())\n",
    "print(drone3.get_trim())"
   ]
  },
  {
   "cell_type": "code",
   "execution_count": 11,
   "metadata": {},
   "outputs": [],
   "source": [
    "used_drones = [drone1, drone3]"
   ]
  },
  {
   "cell_type": "code",
   "execution_count": 30,
   "metadata": {},
   "outputs": [],
   "source": [
    "def absolute_z_angle(drone):\n",
    "    z_angle = drone.get_z_angle()\n",
    "    if -180 <= z_angle < 0:\n",
    "        return z_angle + 360\n",
    "    return z_angle\n",
    "\n",
    "# good idea to write safeguard to actually land the drone\n",
    "# making a circle\n",
    "def circle_relative(drone, degrees, direction = True, duration = 2):\n",
    "    start_time = time.time()\n",
    "    current_angle = absolute_z_angle(drone)\n",
    "    target_angle = current_angle + degrees\n",
    "    if target_angle > 360:\n",
    "        target_angle -= 360\n",
    "\n",
    "    while True:\n",
    "        current_angle = absolute_z_angle(drone)\n",
    "        if direction:\n",
    "            if (target_angle - current_angle <= 5) and (time.time() - start_time > duration):\n",
    "                break\n",
    "            if (target_angle - current_angle < 15) and (time.time() - start_time > duration):\n",
    "                drone.set_yaw(5)\n",
    "                drone.set_pitch(0)\n",
    "                drone.set_roll(0)\n",
    "            else:\n",
    "                drone.set_yaw(40)\n",
    "                drone.set_pitch(30)\n",
    "                drone.set_roll(-10)\n",
    "        else:\n",
    "            if (target_angle - current_angle <= 5) and (time.time() - start_time > duration):\n",
    "                break\n",
    "            if (target_angle - current_angle < 15) and (time.time() - start_time > duration):\n",
    "                drone.set_yaw(-5)\n",
    "                drone.set_pitch(0)\n",
    "                drone.set_roll(0)\n",
    "            else:\n",
    "                drone.set_yaw(-40)\n",
    "                drone.set_pitch(-30)\n",
    "                drone.set_roll(10)\n",
    "\n",
    "        drone.move()\n",
    "    drone.set_yaw(0)\n",
    "    drone.set_pitch(0)\n",
    "    drone.set_roll(0)\n",
    "    print(\"Circle done\")\n",
    "\n",
    "# cupid shuffle dance track! \n",
    "\n",
    "# universal time constant for the duration of the drones's flights\n",
    "\n",
    "time_interval = 0.8\n",
    "upper_throt = 80\n",
    "lower_throt = -80\n",
    "\n",
    "def to_the_right(count, drone):\n",
    "    for _ in range(count):\n",
    "        drone.set_roll(90)\n",
    "        drone.move(time_interval)        \n",
    "        drone.set_roll(0)\n",
    "        drone.move(time_interval)\n",
    "    \n",
    "def to_the_left(count, drone):\n",
    "    for _ in range(count):\n",
    "        drone.set_roll(-90)\n",
    "        drone.move(time_interval)        \n",
    "        drone.set_roll(0)\n",
    "        drone.move(time_interval/1.5)\n",
    "\n",
    "def to_the_back(count, drone):\n",
    "    for _ in range(count):\n",
    "        drone.set_pitch(-90)\n",
    "        drone.move(time_interval)        \n",
    "        drone.set_pitch(0)\n",
    "        drone.move(time_interval/1.5)\n",
    "\n",
    "def to_the_front(count, drone):\n",
    "    for _ in range(count):\n",
    "        drone.set_pitch(50)\n",
    "        drone.move(time_interval)        \n",
    "        drone.set_pitch(0)\n",
    "        drone.move(time_interval)\n",
    "\n",
    "def left_stomp(drone):\n",
    "    if (drone == used_drones[0]):\n",
    "        drone.set_throttle(upper_throt)\n",
    "        drone.move(time_interval)\n",
    "    elif (drone == used_drones[1]):\n",
    "        drone.set_throttle(lower_throt)\n",
    "        drone.move(time_interval)\n",
    "    drone.set_throttle(0)\n",
    "    drone.move(time_interval/1.5)\n",
    "\n",
    "\n",
    "def right_stomp(drone):\n",
    "    if (drone == used_drones[1]):\n",
    "        drone.set_throttle(upper_throt)\n",
    "        drone.move(time_interval)\n",
    "    elif (drone == used_drones[0]):\n",
    "        drone.set_throttle(lower_throt)\n",
    "        drone.move(time_interval)\n",
    "    drone.set_throttle(0)\n",
    "    drone.move(time_interval/1.5)\n",
    "\n",
    "\n",
    "# low-key might be better to write a function that gets them to a certain height?\n",
    "def now_kick(count, drone):\n",
    "    # drones change in elevation, opposing would be cool\n",
    "    # upper and lower throttle percentage values\n",
    "    upper_throt = 80\n",
    "    low_throt = -30\n",
    "\n",
    "    for _ in range(count):\n",
    "        drone.set_throttle(upper_throt)\n",
    "        drone.move(.5)\n",
    "        drone.set_throttle(0)\n",
    "\n",
    "        if (drone == used_drones[0]):\n",
    "            drone.set_throttle(upper_throt)\n",
    "            drone.move(.4)\n",
    "            drone.set_throttle(low_throt)\n",
    "            drone.move(.4)\n",
    "        elif (drone == used_drones[1]):\n",
    "            drone.set_throttle(low_throt)\n",
    "            drone.move(.4)\n",
    "            drone.set_throttle(upper_throt)\n",
    "            drone.move(.4)\n",
    "        drone.set_throttle(0)\n",
    "\n",
    "def walk_it_yourself(duration, drone):\n",
    "    # drones go in circles until the end of the song (or perhaps at the end of the song)\n",
    "        if (drone == used_drones[0]):\n",
    "            circle_relative(drone, 360, True, duration)\n",
    "\n",
    "        if (drone == used_drones[1]):\n",
    "            circle_relative(drone, 360, False, duration)"
   ]
  },
  {
   "cell_type": "code",
   "execution_count": 18,
   "metadata": {},
   "outputs": [],
   "source": [
    "pygame.mixer.music.stop()"
   ]
  },
  {
   "cell_type": "code",
   "execution_count": 43,
   "metadata": {},
   "outputs": [
    {
     "name": "stdout",
     "output_type": "stream",
     "text": [
      "All drones have landed.\n"
     ]
    }
   ],
   "source": [
    "# Cha Cha Side\n",
    "\n",
    "# would be cool to add a function that determines the drone's height\n",
    "\n",
    "play_cupid(29.5)\n",
    "time.sleep(14.5)\n",
    "\n",
    "# Function generator to create play_drone functions for each drone\n",
    "def create_play_function(drone):\n",
    "    def play_drone():\n",
    "        drone.set_yaw(0)\n",
    "        drone.set_pitch(0)\n",
    "        drone.set_roll(0)\n",
    "        drone.set_throttle(0)\n",
    "        drone.takeoff()\n",
    "        drone.hover(5.5)\n",
    "        to_the_left(1, drone)\n",
    "        to_the_back(1, drone)\n",
    "        drone.hover(0.4)\n",
    "        drone.set_throttle(100)\n",
    "        drone.move(0.5)\n",
    "        drone.set_throttle(-30)\n",
    "        drone.move(0.5)\n",
    "        drone.set_throttle(0)\n",
    "        right_stomp(drone)\n",
    "        drone.hover(0.5)\n",
    "        left_stomp(drone)\n",
    "        #now_kick(1, drone)\n",
    "        #could maybe be fun to have them fly around in circles but that could definitely be optional\n",
    "\n",
    "        # Continue with other movements or actions\n",
    "        # walk_it_yourself(2, drone)\n",
    "        drone.hover(4)\n",
    "        drone.set_throttle(-60)\n",
    "        time.sleep(1)\n",
    "        drone.land()\n",
    "    return play_drone\n",
    "\n",
    "# List of drones (example: drone1, drone2, drone3, drone4)\n",
    "# Assume drone1, drone2, drone3, drone4 are valid drone objects\n",
    "\n",
    "drones = used_drones\n",
    "\n",
    "# Generate play functions and threads for each drone with specified directions\n",
    "threads = []\n",
    "\n",
    "for i, drone in enumerate(drones):\n",
    "    play_function = create_play_function(drone)\n",
    "    thread = threading.Thread(target=play_function)\n",
    "    threads.append(thread)\n",
    "\n",
    "# Start all threads\n",
    "for thread in threads:\n",
    "    thread.start()\n",
    "\n",
    "\n",
    "# Wait for all threads to complete\n",
    "for thread in threads:\n",
    "    thread.join()\n",
    "\n",
    "# After all threads have completed\n",
    "print(\"All drones have landed.\")\n",
    "\n",
    "time.sleep(1)\n",
    "\n",
    "pygame.mixer.music.stop()"
   ]
  },
  {
   "cell_type": "code",
   "execution_count": 32,
   "metadata": {},
   "outputs": [
    {
     "name": "stdout",
     "output_type": "stream",
     "text": [
      "All drones have finished playing.\n"
     ]
    }
   ],
   "source": [
    "# # Cha Cha Side\n",
    "\n",
    "# # would be cool to add a function that determines the drone's height\n",
    "\n",
    "# # Function generator to create play_drone functions for each drone\n",
    "# def create_play_function(drone):\n",
    "#     def play_drone():\n",
    "#         drone.takeoff()\n",
    "#         drone.hover(1)\n",
    "#         drone.land()\n",
    "#     return play_drone\n",
    "\n",
    "# # List of drones (example: drone1, drone2, drone3, drone4)\n",
    "# # Assume drone1, drone2, drone3, drone4 are valid drone objects\n",
    "\n",
    "# drones = used_drones\n",
    "\n",
    "# # Generate play functions and threads for each drone with specified directions\n",
    "# threads = []\n",
    "\n",
    "# for i, drone in enumerate(drones):\n",
    "#     play_function = create_play_function(drone)\n",
    "#     thread = threading.Thread(target=play_function)\n",
    "#     threads.append(thread)\n",
    "\n",
    "# # Start all threads\n",
    "# for thread in threads:\n",
    "#     thread.start()\n",
    "\n",
    "# # Wait for all threads to complete\n",
    "# for thread in threads:\n",
    "#     thread.join()\n",
    "\n",
    "\n",
    "# # After all threads have completed\n",
    "# print(\"All drones have finished playing.\")"
   ]
  },
  {
   "cell_type": "code",
   "execution_count": null,
   "metadata": {},
   "outputs": [],
   "source": []
  }
 ],
 "metadata": {
  "kernelspec": {
   "display_name": "Python 3 (ipykernel)",
   "language": "python",
   "name": "python3"
  },
  "language_info": {
   "codemirror_mode": {
    "name": "ipython",
    "version": 3
   },
   "file_extension": ".py",
   "mimetype": "text/x-python",
   "name": "python",
   "nbconvert_exporter": "python",
   "pygments_lexer": "ipython3",
   "version": "3.10.14"
  }
 },
 "nbformat": 4,
 "nbformat_minor": 4
}
