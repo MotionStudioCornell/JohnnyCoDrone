{
 "cells": [
  {
   "cell_type": "markdown",
   "metadata": {},
   "source": [
    "Run `jupyter-lab` in terminal and directly connect to that notebook\n",
    "\n",
    "```\n",
    "ls /dev/cu.usbmodem*\n",
    "```"
   ]
  },
  {
   "cell_type": "markdown",
   "metadata": {},
   "source": [
    "Think about running them in two seperate programs vs in the same one like here\n",
    "\n",
    "[3, 4]\n",
    "[1, 2]\n",
    "\n",
    "Viewer facing direction"
   ]
  },
  {
   "cell_type": "code",
   "execution_count": 248,
   "metadata": {},
   "outputs": [],
   "source": [
    "drone1.close()\n",
    "drone2.close()\n",
    "drone3.close()\n",
    "drone4.close()"
   ]
  },
  {
   "cell_type": "code",
   "execution_count": 265,
   "metadata": {},
   "outputs": [],
   "source": [
    "import sys"
   ]
  },
  {
   "cell_type": "code",
   "execution_count": 8,
   "metadata": {},
   "outputs": [
    {
     "name": "stdout",
     "output_type": "stream",
     "text": [
      "codrone-edu library version 1.9\n",
      "Please remove AA batteries while plugged into your computer.\n",
      "For more information go to: robolink.com/edu-controller-issue\n",
      "\n",
      "codrone-edu library version 1.9\n",
      "Please remove AA batteries while plugged into your computer.\n",
      "For more information go to: robolink.com/edu-controller-issue\n",
      "\n",
      "codrone-edu library version 1.9\n",
      "Please remove AA batteries while plugged into your computer.\n",
      "For more information go to: robolink.com/edu-controller-issue\n",
      "\n",
      "codrone-edu library version 1.9\n",
      "Please remove AA batteries while plugged into your computer.\n",
      "For more information go to: robolink.com/edu-controller-issue\n",
      "\n"
     ]
    }
   ],
   "source": [
    "from codrone_edu.drone import *\n",
    "\n",
    "drone1 = Drone()\n",
    "drone2 = Drone()    \n",
    "drone3 = Drone()\n",
    "drone4 = Drone()\n",
    "\n",
    "all_drones = [drone1, drone2, drone3, drone4]\n",
    "\n",
    "def pair():\n",
    "    # Initialize SA1\n",
    "    drone1.pair()\n",
    "    drone1.open(\"/dev/cu.usbmodem205B326132321\")  # Replace XXXXX with the first controller's device identifier\n",
    "\n",
    "    # Initialize SA2\n",
    "    drone2.pair()\n",
    "    drone2.open(\"/dev/cu.usbmodem2087327132321\")  # Replace YYYYY with the second controller's device identifier\n",
    "\n",
    "    # Initialize SA3\n",
    "    drone3.pair()\n",
    "    drone3.open(\"/dev/cu.usbmodem205A329432321\")  # Replace XXXXX with the first controller's device identifier\n",
    "\n",
    "    # Initialize SA4\n",
    "    drone4.pair()\n",
    "    drone4.open(\"/dev/cu.usbmodem3975344935381\")  # Replace XXXXX with the first controller's device identifier\n",
    "\n",
    "def re_pair():\n",
    "    for drone in all_drones:\n",
    "        drone.close()\n",
    "    pair()\n",
    "\n",
    "def bat_limit():    \n",
    "    for i in range(len(all_drones)):\n",
    "        if all_drones[i].get_battery() < 30:\n",
    "            print('drone ', i + 1, ' has low battery')\n",
    "\n",
    "\n",
    "# drone3.drone_buzzer(Note.C5, 1000)\n",
    "# drone4.drone_buzzer(Note.C4, 1000)\n",
    "# drone3.drone_buzzer(Note.D5, 1000)\n",
    "# drone4.drone_buzzer(Note.D4, 1000)\n",
    "# drone3.drone_buzzer(Note.E5, 1000)\n",
    "# drone4.drone_buzzer(Note.E4, 1000)\n",
    "\n",
    "# drone1.drone_buzzer(Note.C4, 1000)\n",
    "# drone2.drone_buzzer(Note.C3, 1000)\n",
    "# drone1.drone_buzzer(Note.D4, 1000)\n",
    "# drone2.drone_buzzer(Note.D3, 1000)\n",
    "# drone1.drone_buzzer(Note.E4, 1000)\n",
    "# drone2.drone_buzzer(Note.E3, 1000)\n"
   ]
  },
  {
   "cell_type": "code",
   "execution_count": 2,
   "metadata": {},
   "outputs": [],
   "source": [
    "# Test hover\n",
    "drone1.takeoff()\n",
    "drone2.takeoff()\n",
    "drone3.takeoff()\n",
    "drone4.takeoff()\n",
    "drone1.hover(2)\n",
    "drone2.hover(2)\n",
    "drone3.hover(2)\n",
    "drone4.hover(2)\n",
    "\n",
    "drone1.land()\n",
    "drone2.land()\n",
    "drone3.land()\n",
    "drone4.land()\n",
    "\n",
    "# Close connections\n",
    "# drone1.close()\n",
    "# drone2.close()"
   ]
  },
  {
   "cell_type": "code",
   "execution_count": 29,
   "metadata": {},
   "outputs": [],
   "source": [
    "drone1.land()"
   ]
  },
  {
   "cell_type": "code",
   "execution_count": 241,
   "metadata": {},
   "outputs": [
    {
     "name": "stdout",
     "output_type": "stream",
     "text": [
      "[-10, 0]\n",
      "[-10, 5]\n",
      "[0, 0]\n",
      "[-3, 3]\n"
     ]
    }
   ],
   "source": [
    "print(drone1.get_trim())\n",
    "print(drone2.get_trim())\n",
    "print(drone3.get_trim())\n",
    "print(drone4.get_trim())"
   ]
  },
  {
   "cell_type": "code",
   "execution_count": 102,
   "metadata": {},
   "outputs": [
    {
     "name": "stdout",
     "output_type": "stream",
     "text": [
      "[-5, 5]\n"
     ]
    }
   ],
   "source": [
    "drone2.set_trim(-10, 5)\n",
    "sleep(1)\n",
    "print(drone2.get_trim())"
   ]
  },
  {
   "cell_type": "code",
   "execution_count": 245,
   "metadata": {},
   "outputs": [],
   "source": [
    "drones = [drone1, drone2, drone3, drone4]\n",
    "\n",
    "for drone in drones:\n",
    "    drone.land()\n",
    "\n",
    "re_pair()"
   ]
  },
  {
   "cell_type": "code",
   "execution_count": 261,
   "metadata": {},
   "outputs": [
    {
     "name": "stdout",
     "output_type": "stream",
     "text": [
      "Found CoDrone EDU controller.  /dev/cu.usbmodem3975344935381\n",
      "Connecting to CoDrone EDU controller.\n",
      "Connected to CoDrone EDU\n",
      "Battery = 65 %\n",
      "Connecting to CoDrone EDU controller.\n",
      "Connected to CoDrone EDU\n",
      "Battery = 65 %\n"
     ]
    },
    {
     "name": "stderr",
     "output_type": "stream",
     "text": [
      "Exception in thread Thread-781 (_receiving):\n",
      "Traceback (most recent call last):\n",
      "  File \"/opt/homebrew/Caskroom/miniconda/base/lib/python3.10/threading.py\", line 1016, in _bootstrap_inner\n",
      "    self.run()\n",
      "  File \"/opt/homebrew/Caskroom/miniconda/base/lib/python3.10/site-packages/ipykernel/ipkernel.py\", line 761, in run_closure\n",
      "    _threading_Thread_run(self)\n",
      "  File \"/opt/homebrew/Caskroom/miniconda/base/lib/python3.10/threading.py\", line 953, in run\n",
      "    self._target(*self._args, **self._kwargs)\n",
      "  File \"/opt/homebrew/Caskroom/miniconda/base/lib/python3.10/site-packages/codrone_edu/drone.py\", line 997, in _receiving\n",
      "    self._bufferQueue.put(self._serialport.read())\n",
      "  File \"/opt/homebrew/Caskroom/miniconda/base/lib/python3.10/site-packages/serial/serialposix.py\", line 595, in read\n",
      "    raise SerialException(\n",
      "serial.serialutil.SerialException: device reports readiness to read but returned no data (device disconnected or multiple access on port?)\n"
     ]
    },
    {
     "name": "stdout",
     "output_type": "stream",
     "text": [
      "Found CoDrone EDU controller.  /dev/cu.usbmodem3975344935381\n",
      "Connecting to CoDrone EDU controller.\n",
      "Connected to CoDrone EDU\n",
      "Battery = 53 %\n",
      "Connecting to CoDrone EDU controller.\n",
      "Connected to CoDrone EDU\n",
      "Battery = 49 %"
     ]
    },
    {
     "name": "stderr",
     "output_type": "stream",
     "text": [
      "Exception in thread "
     ]
    },
    {
     "name": "stdout",
     "output_type": "stream",
     "text": [
      "\n"
     ]
    },
    {
     "name": "stderr",
     "output_type": "stream",
     "text": [
      "Thread-782 (_receiving):\n",
      "Traceback (most recent call last):\n",
      "  File \"/opt/homebrew/Caskroom/miniconda/base/lib/python3.10/threading.py\", line 1016, in _bootstrap_inner\n",
      "    self.run()\n",
      "  File \"/opt/homebrew/Caskroom/miniconda/base/lib/python3.10/site-packages/ipykernel/ipkernel.py\", line 761, in run_closure\n",
      "    _threading_Thread_run(self)\n",
      "  File \"/opt/homebrew/Caskroom/miniconda/base/lib/python3.10/threading.py\", line 953, in run\n",
      "    self._target(*self._args, **self._kwargs)\n",
      "  File \"/opt/homebrew/Caskroom/miniconda/base/lib/python3.10/site-packages/codrone_edu/drone.py\", line 997, in _receiving\n",
      "    self._bufferQueue.put(self._serialport.read())\n",
      "  File \"/opt/homebrew/Caskroom/miniconda/base/lib/python3.10/site-packages/serial/serialposix.py\", line 595, in read\n",
      "    raise SerialException(\n",
      "serial.serialutil.SerialException: device reports readiness to read but returned no data (device disconnected or multiple access on port?)\n"
     ]
    },
    {
     "name": "stdout",
     "output_type": "stream",
     "text": [
      "Found CoDrone EDU controller.  /dev/cu.usbmodem3975344935381\n",
      "Connecting to CoDrone EDU controller.\n",
      "Connected to CoDrone EDU\n",
      "Battery = 53 %\n",
      "Connecting to CoDrone EDU controller.\n",
      "Connected to CoDrone EDU\n",
      "Battery = 53"
     ]
    },
    {
     "name": "stderr",
     "output_type": "stream",
     "text": [
      "Exception in thread "
     ]
    },
    {
     "name": "stdout",
     "output_type": "stream",
     "text": [
      " "
     ]
    },
    {
     "name": "stderr",
     "output_type": "stream",
     "text": [
      "Thread-784 (_receiving)"
     ]
    },
    {
     "name": "stdout",
     "output_type": "stream",
     "text": [
      "%"
     ]
    },
    {
     "name": "stderr",
     "output_type": "stream",
     "text": [
      ":\n"
     ]
    },
    {
     "name": "stdout",
     "output_type": "stream",
     "text": [
      "\n"
     ]
    },
    {
     "name": "stderr",
     "output_type": "stream",
     "text": [
      "Traceback (most recent call last):\n",
      "  File \"/opt/homebrew/Caskroom/miniconda/base/lib/python3.10/threading.py\", line 1016, in _bootstrap_inner\n",
      "    self.run()\n",
      "  File \"/opt/homebrew/Caskroom/miniconda/base/lib/python3.10/site-packages/ipykernel/ipkernel.py\", line 761, in run_closure\n",
      "    _threading_Thread_run(self)\n",
      "  File \"/opt/homebrew/Caskroom/miniconda/base/lib/python3.10/threading.py\", line 953, in run\n",
      "    self._target(*self._args, **self._kwargs)\n",
      "  File \"/opt/homebrew/Caskroom/miniconda/base/lib/python3.10/site-packages/codrone_edu/drone.py\", line 997, in _receiving\n",
      "    self._bufferQueue.put(self._serialport.read())\n",
      "  File \"/opt/homebrew/Caskroom/miniconda/base/lib/python3.10/site-packages/serial/serialposix.py\", line 595, in read\n",
      "    raise SerialException(\n",
      "serial.serialutil.SerialException: device reports readiness to read but returned no data (device disconnected or multiple access on port?)\n"
     ]
    },
    {
     "name": "stdout",
     "output_type": "stream",
     "text": [
      "Found CoDrone EDU controller.  /dev/cu.usbmodem3975344935381\n",
      "Connecting to CoDrone EDU controller.\n",
      "Connected to CoDrone EDU\n",
      "Battery = 49 %\n",
      "Connecting to CoDrone EDU controller.\n",
      "Connected to CoDrone EDU\n",
      "Battery = 49 %\n"
     ]
    },
    {
     "name": "stderr",
     "output_type": "stream",
     "text": [
      "Exception in thread Thread-787 (_receiving):\n",
      "Traceback (most recent call last):\n",
      "  File \"/opt/homebrew/Caskroom/miniconda/base/lib/python3.10/threading.py\", line 1016, in _bootstrap_inner\n",
      "    self.run()\n",
      "  File \"/opt/homebrew/Caskroom/miniconda/base/lib/python3.10/site-packages/ipykernel/ipkernel.py\", line 761, in run_closure\n",
      "    _threading_Thread_run(self)\n",
      "  File \"/opt/homebrew/Caskroom/miniconda/base/lib/python3.10/threading.py\", line 953, in run\n",
      "    self._target(*self._args, **self._kwargs)\n",
      "  File \"/opt/homebrew/Caskroom/miniconda/base/lib/python3.10/site-packages/codrone_edu/drone.py\", line 997, in _receiving\n",
      "    self._bufferQueue.put(self._serialport.read())\n",
      "  File \"/opt/homebrew/Caskroom/miniconda/base/lib/python3.10/site-packages/serial/serialposix.py\", line 595, in read\n",
      "    raise SerialException(\n",
      "serial.serialutil.SerialException: device reports readiness to read but returned no data (device disconnected or multiple access on port?)\n"
     ]
    }
   ],
   "source": [
    "re_pair()"
   ]
  },
  {
   "cell_type": "code",
   "execution_count": 279,
   "metadata": {},
   "outputs": [
    {
     "name": "stdout",
     "output_type": "stream",
     "text": [
      "Found CoDrone EDU controller.  /dev/cu.usbmodem3975344935381\n",
      "Connecting to CoDrone EDU controller.\n"
     ]
    },
    {
     "name": "stderr",
     "output_type": "stream",
     "text": [
      "Exception in thread Thread-913 (_receiving):\n",
      "Traceback (most recent call last):\n",
      "  File \"/opt/homebrew/Caskroom/miniconda/base/lib/python3.10/threading.py\", line 1016, in _bootstrap_inner\n",
      "    self.run()\n",
      "  File \"/opt/homebrew/Caskroom/miniconda/base/lib/python3.10/site-packages/ipykernel/ipkernel.py\", line 761, in run_closure\n",
      "    _threading_Thread_run(self)\n",
      "  File \"/opt/homebrew/Caskroom/miniconda/base/lib/python3.10/threading.py\", line 953, in run\n",
      "    self._target(*self._args, **self._kwargs)\n",
      "  File \"/opt/homebrew/Caskroom/miniconda/base/lib/python3.10/site-packages/codrone_edu/drone.py\", line 997, in _receiving\n",
      "    self._bufferQueue.put(self._serialport.read())\n",
      "  File \"/opt/homebrew/Caskroom/miniconda/base/lib/python3.10/site-packages/serial/serialposix.py\", line 595, in read\n",
      "    raise SerialException(\n",
      "serial.serialutil.SerialException: device reports readiness to read but returned no data (device disconnected or multiple access on port?)\n"
     ]
    },
    {
     "name": "stdout",
     "output_type": "stream",
     "text": [
      "Could not connect to CoDrone EDU.\n",
      "Check that the controller and drone are on and paired.\n",
      "Checkout this lesson on how to pair https://learn.robolink.com/lesson/0-2-power-and-charging/\n",
      "Connecting to CoDrone EDU controller.\n",
      "Connected to CoDrone EDU\n",
      "Battery = 69 %\n",
      "Found CoDrone EDU controller.  /dev/cu.usbmodem3975344935381\n",
      "Connecting to CoDrone EDU controller.\n"
     ]
    },
    {
     "name": "stderr",
     "output_type": "stream",
     "text": [
      "Exception in thread Thread-780 (_receiving):\n",
      "Traceback (most recent call last):\n",
      "  File \"/opt/homebrew/Caskroom/miniconda/base/lib/python3.10/threading.py\", line 1016, in _bootstrap_inner\n",
      "    self.run()\n",
      "  File \"/opt/homebrew/Caskroom/miniconda/base/lib/python3.10/site-packages/ipykernel/ipkernel.py\", line 761, in run_closure\n",
      "    _threading_Thread_run(self)\n",
      "  File \"/opt/homebrew/Caskroom/miniconda/base/lib/python3.10/threading.py\", line 953, in run\n",
      "    self._target(*self._args, **self._kwargs)\n",
      "  File \"/opt/homebrew/Caskroom/miniconda/base/lib/python3.10/site-packages/codrone_edu/drone.py\", line 997, in _receiving\n",
      "    self._bufferQueue.put(self._serialport.read())\n",
      "  File \"/opt/homebrew/Caskroom/miniconda/base/lib/python3.10/site-packages/serial/serialposix.py\", line 595, in read\n",
      "    raise SerialException(\n",
      "serial.serialutil.SerialException: device reports readiness to read but returned no data (device disconnected or multiple access on port?)\n",
      "Exception in thread Thread-785 (_receiving):\n",
      "Traceback (most recent call last):\n",
      "  File \"/opt/homebrew/Caskroom/miniconda/base/lib/python3.10/threading.py\", line 1016, in _bootstrap_inner\n",
      "    self.run()\n",
      "  File \"/opt/homebrew/Caskroom/miniconda/base/lib/python3.10/site-packages/ipykernel/ipkernel.py\", line 761, in run_closure\n",
      "    _threading_Thread_run(self)\n",
      "  File \"/opt/homebrew/Caskroom/miniconda/base/lib/python3.10/threading.py\", line 953, in run\n",
      "    self._target(*self._args, **self._kwargs)\n",
      "  File \"/opt/homebrew/Caskroom/miniconda/base/lib/python3.10/site-packages/codrone_edu/drone.py\", line 997, in _receiving\n",
      "    self._bufferQueue.put(self._serialport.read())\n",
      "  File \"/opt/homebrew/Caskroom/miniconda/base/lib/python3.10/site-packages/serial/serialposix.py\", line 595, in read\n",
      "    raise SerialException(\n",
      "serial.serialutil.SerialException: device reports readiness to read but returned no data (device disconnected or multiple access on port?)\n",
      "Exception in thread Thread-786 (_receiving):\n",
      "Traceback (most recent call last):\n",
      "  File \"/opt/homebrew/Caskroom/miniconda/base/lib/python3.10/threading.py\", line 1016, in _bootstrap_inner\n",
      "    self.run()\n",
      "  File \"/opt/homebrew/Caskroom/miniconda/base/lib/python3.10/site-packages/ipykernel/ipkernel.py\", line 761, in run_closure\n",
      "    _threading_Thread_run(self)\n",
      "  File \"/opt/homebrew/Caskroom/miniconda/base/lib/python3.10/threading.py\", line 953, in run\n",
      "    self._target(*self._args, **self._kwargs)\n",
      "  File \"/opt/homebrew/Caskroom/miniconda/base/lib/python3.10/site-packages/codrone_edu/drone.py\", line 997, in _receiving\n",
      "    self._bufferQueue.put(self._serialport.read())\n",
      "  File \"/opt/homebrew/Caskroom/miniconda/base/lib/python3.10/site-packages/serial/serialposix.py\", line 595, in read\n",
      "    raise SerialException(\n",
      "serial.serialutil.SerialException: device reports readiness to read but returned no data (device disconnected or multiple access on port?)\n",
      "Exception in thread Thread-783 (_receiving):\n",
      "Traceback (most recent call last):\n",
      "  File \"/opt/homebrew/Caskroom/miniconda/base/lib/python3.10/threading.py\", line 1016, in _bootstrap_inner\n",
      "    self.run()\n",
      "  File \"/opt/homebrew/Caskroom/miniconda/base/lib/python3.10/site-packages/ipykernel/ipkernel.py\", line 761, in run_closure\n",
      "    _threading_Thread_run(self)\n",
      "  File \"/opt/homebrew/Caskroom/miniconda/base/lib/python3.10/threading.py\", line 953, in run\n",
      "    self._target(*self._args, **self._kwargs)\n",
      "  File \"/opt/homebrew/Caskroom/miniconda/base/lib/python3.10/site-packages/codrone_edu/drone.py\", line 997, in _receiving\n",
      "    self._bufferQueue.put(self._serialport.read())\n",
      "  File \"/opt/homebrew/Caskroom/miniconda/base/lib/python3.10/site-packages/serial/serialposix.py\", line 595, in read\n",
      "    raise SerialException(\n",
      "serial.serialutil.SerialException: device reports readiness to read but returned no data (device disconnected or multiple access on port?)\n"
     ]
    },
    {
     "name": "stderr",
     "output_type": "stream",
     "text": [
      "Exception in thread Thread-915 (_receiving):\n",
      "Traceback (most recent call last):\n",
      "  File \"/opt/homebrew/Caskroom/miniconda/base/lib/python3.10/threading.py\", line 1016, in _bootstrap_inner\n",
      "    self.run()\n",
      "  File \"/opt/homebrew/Caskroom/miniconda/base/lib/python3.10/site-packages/ipykernel/ipkernel.py\", line 761, in run_closure\n",
      "    _threading_Thread_run(self)\n",
      "  File \"/opt/homebrew/Caskroom/miniconda/base/lib/python3.10/threading.py\", line 953, in run\n",
      "    self._target(*self._args, **self._kwargs)\n",
      "  File \"/opt/homebrew/Caskroom/miniconda/base/lib/python3.10/site-packages/codrone_edu/drone.py\", line 997, in _receiving\n",
      "    self._bufferQueue.put(self._serialport.read())\n",
      "  File \"/opt/homebrew/Caskroom/miniconda/base/lib/python3.10/site-packages/serial/serialposix.py\", line 595, in read\n",
      "    raise SerialException(\n",
      "serial.serialutil.SerialException: device reports readiness to read but returned no data (device disconnected or multiple access on port?)\n"
     ]
    },
    {
     "name": "stdout",
     "output_type": "stream",
     "text": [
      "Could not connect to CoDrone EDU.\n",
      "Check that the controller and drone are on and paired.\n",
      "Checkout this lesson on how to pair https://learn.robolink.com/lesson/0-2-power-and-charging/\n",
      "Connecting to CoDrone EDU controller.\n"
     ]
    },
    {
     "name": "stderr",
     "output_type": "stream",
     "text": [
      "Exception in thread Thread-916 (_receiving):\n",
      "Traceback (most recent call last):\n",
      "  File \"/opt/homebrew/Caskroom/miniconda/base/lib/python3.10/threading.py\", line 1016, in _bootstrap_inner\n",
      "    self.run()\n",
      "  File \"/opt/homebrew/Caskroom/miniconda/base/lib/python3.10/site-packages/ipykernel/ipkernel.py\", line 761, in run_closure\n",
      "    _threading_Thread_run(self)\n",
      "  File \"/opt/homebrew/Caskroom/miniconda/base/lib/python3.10/threading.py\", line 953, in run\n",
      "    self._target(*self._args, **self._kwargs)\n",
      "  File \"/opt/homebrew/Caskroom/miniconda/base/lib/python3.10/site-packages/codrone_edu/drone.py\", line 997, in _receiving\n",
      "    self._bufferQueue.put(self._serialport.read())\n",
      "  File \"/opt/homebrew/Caskroom/miniconda/base/lib/python3.10/site-packages/serial/serialposix.py\", line 595, in read\n",
      "    raise SerialException(\n",
      "serial.serialutil.SerialException: device reports readiness to read but returned no data (device disconnected or multiple access on port?)\n"
     ]
    },
    {
     "name": "stdout",
     "output_type": "stream",
     "text": [
      "Could not connect to CoDrone EDU.\n",
      "Check that the controller and drone are on and paired.\n",
      "Checkout this lesson on how to pair https://learn.robolink.com/lesson/0-2-power-and-charging/\n",
      "Found CoDrone EDU controller.  /dev/cu.usbmodem3975344935381\n",
      "Connecting to CoDrone EDU controller.\n"
     ]
    },
    {
     "name": "stderr",
     "output_type": "stream",
     "text": [
      "Exception in thread Thread-917 (_receiving):\n",
      "Traceback (most recent call last):\n",
      "  File \"/opt/homebrew/Caskroom/miniconda/base/lib/python3.10/threading.py\", line 1016, in _bootstrap_inner\n",
      "    self.run()\n",
      "  File \"/opt/homebrew/Caskroom/miniconda/base/lib/python3.10/site-packages/ipykernel/ipkernel.py\", line 761, in run_closure\n",
      "    _threading_Thread_run(self)\n",
      "  File \"/opt/homebrew/Caskroom/miniconda/base/lib/python3.10/threading.py\", line 953, in run\n",
      "    self._target(*self._args, **self._kwargs)\n",
      "  File \"/opt/homebrew/Caskroom/miniconda/base/lib/python3.10/site-packages/codrone_edu/drone.py\", line 997, in _receiving\n",
      "    self._bufferQueue.put(self._serialport.read())\n",
      "  File \"/opt/homebrew/Caskroom/miniconda/base/lib/python3.10/site-packages/serial/serialposix.py\", line 595, in read\n",
      "    raise SerialException(\n",
      "serial.serialutil.SerialException: device reports readiness to read but returned no data (device disconnected or multiple access on port?)\n"
     ]
    },
    {
     "name": "stdout",
     "output_type": "stream",
     "text": [
      "Could not connect to CoDrone EDU.\n",
      "Check that the controller and drone are on and paired.\n",
      "Checkout this lesson on how to pair https://learn.robolink.com/lesson/0-2-power-and-charging/\n",
      "Connecting to CoDrone EDU controller.\n",
      "Connected to CoDrone EDU\n",
      "Battery = 53 %\n",
      "Found CoDrone EDU controller.  /dev/cu.usbmodem3975344935381\n",
      "Connecting to CoDrone EDU controller.\n"
     ]
    },
    {
     "name": "stderr",
     "output_type": "stream",
     "text": [
      "Exception in thread Thread-919 (_receiving):\n",
      "Traceback (most recent call last):\n",
      "  File \"/opt/homebrew/Caskroom/miniconda/base/lib/python3.10/threading.py\", line 1016, in _bootstrap_inner\n",
      "    self.run()\n",
      "  File \"/opt/homebrew/Caskroom/miniconda/base/lib/python3.10/site-packages/ipykernel/ipkernel.py\", line 761, in run_closure\n",
      "    _threading_Thread_run(self)\n",
      "  File \"/opt/homebrew/Caskroom/miniconda/base/lib/python3.10/threading.py\", line 953, in run\n",
      "    self._target(*self._args, **self._kwargs)\n",
      "  File \"/opt/homebrew/Caskroom/miniconda/base/lib/python3.10/site-packages/codrone_edu/drone.py\", line 997, in _receiving\n",
      "    self._bufferQueue.put(self._serialport.read())\n",
      "  File \"/opt/homebrew/Caskroom/miniconda/base/lib/python3.10/site-packages/serial/serialposix.py\", line 595, in read\n",
      "    raise SerialException(\n",
      "serial.serialutil.SerialException: device reports readiness to read but returned no data (device disconnected or multiple access on port?)\n"
     ]
    },
    {
     "name": "stdout",
     "output_type": "stream",
     "text": [
      "Could not connect to CoDrone EDU.\n",
      "Check that the controller and drone are on and paired.\n",
      "Checkout this lesson on how to pair https://learn.robolink.com/lesson/0-2-power-and-charging/\n",
      "Connecting to CoDrone EDU controller.\n",
      "Connected to CoDrone EDU\n",
      "Battery = 48 %\n",
      "drone  2  has low battery\n"
     ]
    },
    {
     "data": {
      "text/plain": [
       "53"
      ]
     },
     "execution_count": 279,
     "metadata": {},
     "output_type": "execute_result"
    }
   ],
   "source": [
    "re_pair()\n",
    "\n",
    "bat_limit()\n",
    "\n",
    "drone3.get_battery()"
   ]
  },
  {
   "cell_type": "code",
   "execution_count": 288,
   "metadata": {},
   "outputs": [
    {
     "name": "stdout",
     "output_type": "stream",
     "text": [
      "drone  2  has low battery\n"
     ]
    },
    {
     "data": {
      "text/plain": [
       "0"
      ]
     },
     "execution_count": 288,
     "metadata": {},
     "output_type": "execute_result"
    }
   ],
   "source": [
    "bat_limit()\n",
    "\n",
    "drone2.get_battery()"
   ]
  },
  {
   "cell_type": "code",
   "execution_count": 278,
   "metadata": {},
   "outputs": [
    {
     "data": {
      "text/plain": [
       "0"
      ]
     },
     "execution_count": 278,
     "metadata": {},
     "output_type": "execute_result"
    }
   ],
   "source": [
    "drone1.get_battery()"
   ]
  },
  {
   "cell_type": "code",
   "execution_count": 292,
   "metadata": {},
   "outputs": [
    {
     "name": "stdout",
     "output_type": "stream",
     "text": [
      "Found CoDrone EDU controller.  /dev/cu.usbmodem3975344935381\n",
      "Connecting to CoDrone EDU controller.\n",
      "Connected to CoDrone EDU\n",
      "Battery = 60 %\n",
      "Connecting to CoDrone EDU controller.\n",
      "Connected to CoDrone EDU\n",
      "Battery = 60 %\n"
     ]
    },
    {
     "name": "stderr",
     "output_type": "stream",
     "text": [
      "Exception in thread Thread-1012 (_receiving):\n",
      "Traceback (most recent call last):\n",
      "  File \"/opt/homebrew/Caskroom/miniconda/base/lib/python3.10/threading.py\", line 1016, in _bootstrap_inner\n",
      "    self.run()\n",
      "  File \"/opt/homebrew/Caskroom/miniconda/base/lib/python3.10/site-packages/ipykernel/ipkernel.py\", line 761, in run_closure\n",
      "    _threading_Thread_run(self)\n",
      "  File \"/opt/homebrew/Caskroom/miniconda/base/lib/python3.10/threading.py\", line 953, in run\n",
      "    self._target(*self._args, **self._kwargs)\n",
      "  File \"/opt/homebrew/Caskroom/miniconda/base/lib/python3.10/site-packages/codrone_edu/drone.py\", line 997, in _receiving\n",
      "    self._bufferQueue.put(self._serialport.read())\n",
      "  File \"/opt/homebrew/Caskroom/miniconda/base/lib/python3.10/site-packages/serial/serialposix.py\", line 595, in read\n",
      "    raise SerialException(\n",
      "serial.serialutil.SerialException: device reports readiness to read but returned no data (device disconnected or multiple access on port?)\n"
     ]
    },
    {
     "name": "stdout",
     "output_type": "stream",
     "text": [
      "Found CoDrone EDU controller.  /dev/cu.usbmodem3975344935381\n",
      "Connecting to CoDrone EDU controller.\n",
      "Connected to CoDrone EDU\n",
      "Battery = 60 %\n",
      "Connecting to CoDrone EDU controller.\n",
      "Connected to CoDrone EDU\n",
      "Battery = 65 %\n"
     ]
    },
    {
     "name": "stderr",
     "output_type": "stream",
     "text": [
      "Exception in thread Thread-1014 (_receiving):\n",
      "Traceback (most recent call last):\n",
      "  File \"/opt/homebrew/Caskroom/miniconda/base/lib/python3.10/threading.py\", line 1016, in _bootstrap_inner\n",
      "    self.run()\n",
      "  File \"/opt/homebrew/Caskroom/miniconda/base/lib/python3.10/site-packages/ipykernel/ipkernel.py\", line 761, in run_closure\n",
      "    _threading_Thread_run(self)\n",
      "  File \"/opt/homebrew/Caskroom/miniconda/base/lib/python3.10/threading.py\", line 953, in run\n",
      "    self._target(*self._args, **self._kwargs)\n",
      "  File \"/opt/homebrew/Caskroom/miniconda/base/lib/python3.10/site-packages/codrone_edu/drone.py\", line 997, in _receiving\n",
      "    self._bufferQueue.put(self._serialport.read())\n",
      "  File \"/opt/homebrew/Caskroom/miniconda/base/lib/python3.10/site-packages/serial/serialposix.py\", line 595, in read\n",
      "    raise SerialException(\n",
      "serial.serialutil.SerialException: device reports readiness to read but returned no data (device disconnected or multiple access on port?)\n"
     ]
    },
    {
     "name": "stdout",
     "output_type": "stream",
     "text": [
      "Found CoDrone EDU controller.  /dev/cu.usbmodem3975344935381\n",
      "Connecting to CoDrone EDU controller.\n",
      "Connected to CoDrone EDU\n",
      "Battery = 60 %\n",
      "Connecting to CoDrone EDU controller.\n",
      "Connected to CoDrone EDU\n",
      "Battery = 60 %\n"
     ]
    },
    {
     "name": "stderr",
     "output_type": "stream",
     "text": [
      "Exception in thread Thread-1016 (_receiving):\n",
      "Traceback (most recent call last):\n",
      "  File \"/opt/homebrew/Caskroom/miniconda/base/lib/python3.10/threading.py\", line 1016, in _bootstrap_inner\n",
      "    self.run()\n",
      "  File \"/opt/homebrew/Caskroom/miniconda/base/lib/python3.10/site-packages/ipykernel/ipkernel.py\", line 761, in run_closure\n",
      "    _threading_Thread_run(self)\n",
      "  File \"/opt/homebrew/Caskroom/miniconda/base/lib/python3.10/threading.py\", line 953, in run\n",
      "    self._target(*self._args, **self._kwargs)\n",
      "  File \"/opt/homebrew/Caskroom/miniconda/base/lib/python3.10/site-packages/codrone_edu/drone.py\", line 997, in _receiving\n",
      "    self._bufferQueue.put(self._serialport.read())\n",
      "  File \"/opt/homebrew/Caskroom/miniconda/base/lib/python3.10/site-packages/serial/serialposix.py\", line 595, in read\n",
      "    raise SerialException(\n",
      "serial.serialutil.SerialException: device reports readiness to read but returned no data (device disconnected or multiple access on port?)\n"
     ]
    },
    {
     "name": "stdout",
     "output_type": "stream",
     "text": [
      "Found CoDrone EDU controller.  /dev/cu.usbmodem3975344935381\n",
      "Connecting to CoDrone EDU controller.\n",
      "Connected to CoDrone EDU\n",
      "Battery = 60 %\n",
      "Connecting to CoDrone EDU controller.\n",
      "Connected to CoDrone EDU\n",
      "Battery = "
     ]
    },
    {
     "name": "stderr",
     "output_type": "stream",
     "text": [
      "Exception in thread "
     ]
    },
    {
     "name": "stdout",
     "output_type": "stream",
     "text": [
      "60"
     ]
    },
    {
     "name": "stderr",
     "output_type": "stream",
     "text": [
      "Thread-1018 (_receiving)"
     ]
    },
    {
     "name": "stdout",
     "output_type": "stream",
     "text": [
      " "
     ]
    },
    {
     "name": "stderr",
     "output_type": "stream",
     "text": [
      ":\n"
     ]
    },
    {
     "name": "stdout",
     "output_type": "stream",
     "text": [
      "%"
     ]
    },
    {
     "name": "stderr",
     "output_type": "stream",
     "text": [
      "Traceback (most recent call last):\n"
     ]
    },
    {
     "name": "stdout",
     "output_type": "stream",
     "text": [
      "\n"
     ]
    },
    {
     "name": "stderr",
     "output_type": "stream",
     "text": [
      "  File \"/opt/homebrew/Caskroom/miniconda/base/lib/python3.10/threading.py\", line 1016, in _bootstrap_inner\n",
      "    self.run()\n",
      "  File \"/opt/homebrew/Caskroom/miniconda/base/lib/python3.10/site-packages/ipykernel/ipkernel.py\", line 761, in run_closure\n",
      "    _threading_Thread_run(self)\n",
      "  File \"/opt/homebrew/Caskroom/miniconda/base/lib/python3.10/threading.py\", line 953, in run\n",
      "    self._target(*self._args, **self._kwargs)\n",
      "  File \"/opt/homebrew/Caskroom/miniconda/base/lib/python3.10/site-packages/codrone_edu/drone.py\", line 997, in _receiving\n",
      "    self._bufferQueue.put(self._serialport.read())\n",
      "  File \"/opt/homebrew/Caskroom/miniconda/base/lib/python3.10/site-packages/serial/serialposix.py\", line 595, in read\n",
      "    raise SerialException(\n",
      "serial.serialutil.SerialException: device reports readiness to read but returned no data (device disconnected or multiple access on port?)\n"
     ]
    }
   ],
   "source": [
    "re_pair()"
   ]
  },
  {
   "cell_type": "code",
   "execution_count": 1,
   "metadata": {},
   "outputs": [
    {
     "name": "stdout",
     "output_type": "stream",
     "text": [
      "pygame 2.5.2 (SDL 2.28.3, Python 3.10.14)\n",
      "Hello from the pygame community. https://www.pygame.org/contribute.html\n"
     ]
    },
    {
     "ename": "error",
     "evalue": "Music isn't playing",
     "output_type": "error",
     "traceback": [
      "\u001b[0;31m---------------------------------------------------------------------------\u001b[0m",
      "\u001b[0;31merror\u001b[0m                                     Traceback (most recent call last)",
      "Cell \u001b[0;32mIn[1], line 13\u001b[0m\n\u001b[1;32m     11\u001b[0m file_path \u001b[38;5;241m=\u001b[39m \u001b[38;5;124m\"\u001b[39m\u001b[38;5;124mcupid_shuffle.mp3\u001b[39m\u001b[38;5;124m\"\u001b[39m  \u001b[38;5;66;03m# Path to your MP3 file\u001b[39;00m\n\u001b[1;32m     12\u001b[0m start_time \u001b[38;5;241m=\u001b[39m \u001b[38;5;241m30\u001b[39m  \u001b[38;5;66;03m# Start playing at 30 seconds into the song\u001b[39;00m\n\u001b[0;32m---> 13\u001b[0m \u001b[43mplay_mp3\u001b[49m\u001b[43m(\u001b[49m\u001b[43mfile_path\u001b[49m\u001b[43m,\u001b[49m\u001b[43m \u001b[49m\u001b[43mstart_time\u001b[49m\u001b[43m)\u001b[49m\n",
      "Cell \u001b[0;32mIn[1], line 7\u001b[0m, in \u001b[0;36mplay_mp3\u001b[0;34m(file_path, start_time)\u001b[0m\n\u001b[1;32m      5\u001b[0m pygame\u001b[38;5;241m.\u001b[39mmixer\u001b[38;5;241m.\u001b[39minit()\n\u001b[1;32m      6\u001b[0m pygame\u001b[38;5;241m.\u001b[39mmixer\u001b[38;5;241m.\u001b[39mmusic\u001b[38;5;241m.\u001b[39mload(file_path)\n\u001b[0;32m----> 7\u001b[0m \u001b[43mpygame\u001b[49m\u001b[38;5;241;43m.\u001b[39;49m\u001b[43mmixer\u001b[49m\u001b[38;5;241;43m.\u001b[39;49m\u001b[43mmusic\u001b[49m\u001b[38;5;241;43m.\u001b[39;49m\u001b[43mset_pos\u001b[49m\u001b[43m(\u001b[49m\u001b[43mstart_time\u001b[49m\u001b[43m)\u001b[49m  \u001b[38;5;66;03m# Set the playback position\u001b[39;00m\n\u001b[1;32m      8\u001b[0m pygame\u001b[38;5;241m.\u001b[39mmixer\u001b[38;5;241m.\u001b[39mmusic\u001b[38;5;241m.\u001b[39mplay()\n",
      "\u001b[0;31merror\u001b[0m: Music isn't playing"
     ]
    }
   ],
   "source": [
    "import pygame\n",
    "\n",
    "def play_mp3(file_path, start_time):\n",
    "    pygame.init()\n",
    "    pygame.mixer.init()\n",
    "    pygame.mixer.music.load(file_path)\n",
    "    pygame.mixer.music.set_pos(start_time)  # Set the playback position\n",
    "    pygame.mixer.music.play()\n",
    "\n",
    "# Example usage:\n",
    "file_path = \"cupid_shuffle.mp3\"  # Path to your MP3 file\n",
    "start_time = 30  # Start playing at 30 seconds into the song\n",
    "play_mp3(file_path, start_time)"
   ]
  },
  {
   "cell_type": "code",
   "execution_count": 5,
   "metadata": {},
   "outputs": [],
   "source": [
    "pygame.init()\n",
    "pygame.mixer.init()\n",
    "pygame.mixer.music.load(\"cupid_shuffle.mp3\")\n",
    "pygame.mixer.music.play()\n",
    "pygame.mixer.music.set_pos(0)"
   ]
  },
  {
   "cell_type": "code",
   "execution_count": 6,
   "metadata": {},
   "outputs": [],
   "source": [
    "pygame.mixer.music.stop()"
   ]
  },
  {
   "cell_type": "code",
   "execution_count": 9,
   "metadata": {},
   "outputs": [
    {
     "name": "stdout",
     "output_type": "stream",
     "text": [
      "Found CoDrone EDU controller.  /dev/cu.usbmodem3975344935381\n",
      "Connecting to CoDrone EDU controller.\n",
      "Connected to CoDrone EDU\n",
      "Battery = 59 %\n",
      "Connecting to CoDrone EDU controller.\n",
      "Connected to CoDrone EDU\n",
      "Battery = 59 %\n"
     ]
    },
    {
     "name": "stderr",
     "output_type": "stream",
     "text": [
      "Exception in thread Thread-7 (_receiving):\n",
      "Traceback (most recent call last):\n",
      "  File \"/opt/homebrew/Caskroom/miniconda/base/lib/python3.10/threading.py\", line 1016, in _bootstrap_inner\n",
      "    self.run()\n",
      "  File \"/opt/homebrew/Caskroom/miniconda/base/lib/python3.10/site-packages/ipykernel/ipkernel.py\", line 761, in run_closure\n",
      "    _threading_Thread_run(self)\n",
      "  File \"/opt/homebrew/Caskroom/miniconda/base/lib/python3.10/threading.py\", line 953, in run\n",
      "    self._target(*self._args, **self._kwargs)\n",
      "  File \"/opt/homebrew/Caskroom/miniconda/base/lib/python3.10/site-packages/codrone_edu/drone.py\", line 997, in _receiving\n",
      "    self._bufferQueue.put(self._serialport.read())\n",
      "  File \"/opt/homebrew/Caskroom/miniconda/base/lib/python3.10/site-packages/serial/serialposix.py\", line 595, in read\n",
      "    raise SerialException(\n",
      "serial.serialutil.SerialException: device reports readiness to read but returned no data (device disconnected or multiple access on port?)\n"
     ]
    },
    {
     "name": "stdout",
     "output_type": "stream",
     "text": [
      "Found CoDrone EDU controller.  /dev/cu.usbmodem3975344935381\n",
      "Connecting to CoDrone EDU controller.\n",
      "Connected to CoDrone EDU\n",
      "Battery = 59 %\n",
      "Connecting to CoDrone EDU controller.\n",
      "Connected to CoDrone EDU\n",
      "Battery = 64 %\n"
     ]
    },
    {
     "name": "stderr",
     "output_type": "stream",
     "text": [
      "Exception in thread Thread-9 (_receiving):\n",
      "Traceback (most recent call last):\n",
      "  File \"/opt/homebrew/Caskroom/miniconda/base/lib/python3.10/threading.py\", line 1016, in _bootstrap_inner\n",
      "    self.run()\n",
      "  File \"/opt/homebrew/Caskroom/miniconda/base/lib/python3.10/site-packages/ipykernel/ipkernel.py\", line 761, in run_closure\n",
      "    _threading_Thread_run(self)\n",
      "  File \"/opt/homebrew/Caskroom/miniconda/base/lib/python3.10/threading.py\", line 953, in run\n",
      "    self._target(*self._args, **self._kwargs)\n",
      "  File \"/opt/homebrew/Caskroom/miniconda/base/lib/python3.10/site-packages/codrone_edu/drone.py\", line 997, in _receiving\n",
      "    self._bufferQueue.put(self._serialport.read())\n",
      "  File \"/opt/homebrew/Caskroom/miniconda/base/lib/python3.10/site-packages/serial/serialposix.py\", line 595, in read\n",
      "    raise SerialException(\n",
      "serial.serialutil.SerialException: device reports readiness to read but returned no data (device disconnected or multiple access on port?)\n"
     ]
    },
    {
     "name": "stdout",
     "output_type": "stream",
     "text": [
      "Found CoDrone EDU controller.  /dev/cu.usbmodem3975344935381\n",
      "Connecting to CoDrone EDU controller.\n",
      "Connected to CoDrone EDU\n",
      "Battery = 59 %\n",
      "Connecting to CoDrone EDU controller.\n",
      "Connected to CoDrone EDU\n",
      "Battery = 100 %\n"
     ]
    },
    {
     "name": "stderr",
     "output_type": "stream",
     "text": [
      "Exception in thread Thread-11 (_receiving):\n",
      "Traceback (most recent call last):\n",
      "  File \"/opt/homebrew/Caskroom/miniconda/base/lib/python3.10/threading.py\", line 1016, in _bootstrap_inner\n",
      "    self.run()\n",
      "  File \"/opt/homebrew/Caskroom/miniconda/base/lib/python3.10/site-packages/ipykernel/ipkernel.py\", line 761, in run_closure\n",
      "    _threading_Thread_run(self)\n",
      "  File \"/opt/homebrew/Caskroom/miniconda/base/lib/python3.10/threading.py\", line 953, in run\n",
      "    self._target(*self._args, **self._kwargs)\n",
      "  File \"/opt/homebrew/Caskroom/miniconda/base/lib/python3.10/site-packages/codrone_edu/drone.py\", line 997, in _receiving\n",
      "    self._bufferQueue.put(self._serialport.read())\n",
      "  File \"/opt/homebrew/Caskroom/miniconda/base/lib/python3.10/site-packages/serial/serialposix.py\", line 595, in read\n",
      "    raise SerialException(\n",
      "serial.serialutil.SerialException: device reports readiness to read but returned no data (device disconnected or multiple access on port?)\n"
     ]
    },
    {
     "name": "stdout",
     "output_type": "stream",
     "text": [
      "Found CoDrone EDU controller.  /dev/cu.usbmodem3975344935381\n",
      "Connecting to CoDrone EDU controller.\n",
      "Connected to CoDrone EDU\n",
      "Battery = 59 %\n",
      "Connecting to CoDrone EDU controller.\n",
      "Connected to CoDrone EDU\n",
      "Battery = 59 %\n"
     ]
    },
    {
     "name": "stderr",
     "output_type": "stream",
     "text": [
      "Exception in thread Thread-14 (_receiving):\n",
      "Traceback (most recent call last):\n",
      "  File \"/opt/homebrew/Caskroom/miniconda/base/lib/python3.10/threading.py\", line 1016, in _bootstrap_inner\n",
      "    self.run()\n",
      "  File \"/opt/homebrew/Caskroom/miniconda/base/lib/python3.10/site-packages/ipykernel/ipkernel.py\", line 761, in run_closure\n",
      "    _threading_Thread_run(self)\n",
      "  File \"/opt/homebrew/Caskroom/miniconda/base/lib/python3.10/threading.py\", line 953, in run\n",
      "    self._target(*self._args, **self._kwargs)\n",
      "  File \"/opt/homebrew/Caskroom/miniconda/base/lib/python3.10/site-packages/codrone_edu/drone.py\", line 997, in _receiving\n",
      "    self._bufferQueue.put(self._serialport.read())\n",
      "  File \"/opt/homebrew/Caskroom/miniconda/base/lib/python3.10/site-packages/serial/serialposix.py\", line 595, in read\n",
      "    raise SerialException(\n",
      "serial.serialutil.SerialException: device reports readiness to read but returned no data (device disconnected or multiple access on port?)\n"
     ]
    }
   ],
   "source": [
    "re_pair()"
   ]
  },
  {
   "cell_type": "code",
   "execution_count": 14,
   "metadata": {},
   "outputs": [
    {
     "name": "stdout",
     "output_type": "stream",
     "text": [
      "All drones have finished playing.\n"
     ]
    }
   ],
   "source": [
    "# cupid shuffle dance track! \n",
    "\n",
    "import threading\n",
    "\n",
    "def to_the_right(count, drone):\n",
    "    for _ in range(count):\n",
    "        drone.set_roll(90)\n",
    "        drone.move(.5)        \n",
    "        drone.set_roll(0)\n",
    "        drone.move(.3)\n",
    "    \n",
    "def to_the_left(count, drone):\n",
    "    for _ in range(count):\n",
    "        drone.set_roll(-90)\n",
    "        drone.move(.5)        \n",
    "        drone.set_roll(0)\n",
    "        drone.move(.35)\n",
    "\n",
    "def now_kick(count, drone):\n",
    "    # drones change in elevation\n",
    "    True\n",
    "\n",
    "def walk_it_yourself(count, drone):\n",
    "    # drones go in circles\n",
    "    True\n",
    "\n",
    "# Function generator to create play_drone functions for each drone\n",
    "def create_play_function(drone):\n",
    "    def play_drone():\n",
    "        drone.takeoff()\n",
    "        drone.hover(1)\n",
    "        drone.set_throttle(50)\n",
    "        drone.move(2)\n",
    "        drone.set_throttle(0)\n",
    "        to_the_right(4, drone)\n",
    "        to_the_left(4, drone)\n",
    "\n",
    "        # Continue with other movements or actions\n",
    "        drone.hover(1)\n",
    "        drone.land()\n",
    "    \n",
    "    return play_drone\n",
    "\n",
    "# List of drones (example: drone1, drone2, drone3, drone4)\n",
    "# Assume drone1, drone2, drone3, drone4 are valid drone objects\n",
    "\n",
    "drones = [drone1, drone2, drone3, drone4]\n",
    "\n",
    "# Generate play functions and threads for each drone with specified directions\n",
    "threads = []\n",
    "\n",
    "for i, drone in enumerate(drones):\n",
    "    play_function = create_play_function(drone)\n",
    "    thread = threading.Thread(target=play_function)\n",
    "    threads.append(thread)\n",
    "\n",
    "# Start all threads\n",
    "for thread in threads:\n",
    "    thread.start()\n",
    "\n",
    "pygame.init()\n",
    "pygame.mixer.init()\n",
    "pygame.mixer.music.load(\"cupid_shuffle.mp3\")\n",
    "pygame.mixer.music.play()\n",
    "pygame.mixer.music.set_pos(87.5)\n",
    "\n",
    "# Wait for all threads to complete\n",
    "for thread in threads:\n",
    "    thread.join()\n",
    "\n",
    "pygame.mixer.music.stop()\n",
    "\n",
    "# After all threads have completed\n",
    "print(\"All drones have finished playing.\")\n"
   ]
  },
  {
   "cell_type": "code",
   "execution_count": 236,
   "metadata": {},
   "outputs": [],
   "source": [
    "def absolute_z_angle(drone):\n",
    "    z_angle = drone.get_z_angle()\n",
    "    if -180 <= z_angle < 0:\n",
    "        return z_angle + 360\n",
    "    return z_angle\n",
    "\n",
    "# making a circle\n",
    "def circle_relative(drone, degrees, direction = True, duration = 2):\n",
    "    start_time = time.time()\n",
    "    current_angle = absolute_z_angle(drone)\n",
    "    target_angle = current_angle + degrees\n",
    "    if target_angle > 360:\n",
    "        target_angle -= 360\n",
    "\n",
    "    while True:\n",
    "        current_angle = absolute_z_angle(drone)\n",
    "        if direction:\n",
    "            if (target_angle - current_angle <= 5) and (time.time() - start_time > duration):\n",
    "                break\n",
    "            if (target_angle - current_angle < 15) and (time.time() - start_time > duration):\n",
    "                drone.set_yaw(5)\n",
    "                drone.set_pitch(0)\n",
    "                drone.set_roll(0)\n",
    "            else:\n",
    "                drone.set_yaw(40)\n",
    "                drone.set_pitch(30)\n",
    "                drone.set_roll(-10)\n",
    "        else:\n",
    "            if (target_angle - current_angle <= 5) and (time.time() - start_time > duration):\n",
    "                break\n",
    "            if (target_angle - current_angle < 15) and (time.time() - start_time > duration):\n",
    "                drone.set_yaw(-5)\n",
    "                drone.set_pitch(0)\n",
    "                drone.set_roll(0)\n",
    "            else:\n",
    "                drone.set_yaw(-40)\n",
    "                drone.set_pitch(-30)\n",
    "                drone.set_roll(10)\n",
    "\n",
    "        drone.move()\n",
    "    drone.set_yaw(0)\n",
    "    drone.set_pitch(0)\n",
    "    drone.set_roll(0)\n",
    "    print(\"Circle done\")"
   ]
  },
  {
   "cell_type": "code",
   "execution_count": 83,
   "metadata": {},
   "outputs": [
    {
     "name": "stdout",
     "output_type": "stream",
     "text": [
      "turn done\n",
      "turn done\n",
      "turn done\n"
     ]
    },
    {
     "ename": "KeyboardInterrupt",
     "evalue": "",
     "output_type": "error",
     "traceback": [
      "\u001b[0;31m---------------------------------------------------------------------------\u001b[0m",
      "\u001b[0;31mKeyboardInterrupt\u001b[0m                         Traceback (most recent call last)",
      "Cell \u001b[0;32mIn[83], line 35\u001b[0m\n\u001b[1;32m     33\u001b[0m drone1\u001b[38;5;241m.\u001b[39mmove(\u001b[38;5;241m1\u001b[39m)\n\u001b[1;32m     34\u001b[0m drone1\u001b[38;5;241m.\u001b[39mset_pitch(\u001b[38;5;241m0\u001b[39m)\n\u001b[0;32m---> 35\u001b[0m \u001b[43mturn_right_degrees\u001b[49m\u001b[43m(\u001b[49m\u001b[38;5;241;43m357\u001b[39;49m\u001b[43m)\u001b[49m\n\u001b[1;32m     36\u001b[0m time\u001b[38;5;241m.\u001b[39msleep(\u001b[38;5;241m0.05\u001b[39m)\n\u001b[1;32m     37\u001b[0m drone1\u001b[38;5;241m.\u001b[39mland()\n",
      "Cell \u001b[0;32mIn[83], line 12\u001b[0m, in \u001b[0;36mturn_right_degrees\u001b[0;34m(degrees)\u001b[0m\n\u001b[1;32m     10\u001b[0m     drone1\u001b[38;5;241m.\u001b[39mset_yaw(\u001b[38;5;241m30\u001b[39m)\n\u001b[1;32m     11\u001b[0m     drone1\u001b[38;5;241m.\u001b[39mmove()\n\u001b[0;32m---> 12\u001b[0m     z_angle \u001b[38;5;241m=\u001b[39m \u001b[43mabsolute_z_angle\u001b[49m\u001b[43m(\u001b[49m\u001b[43mdrone1\u001b[49m\u001b[43m)\u001b[49m\n\u001b[1;32m     13\u001b[0m drone1\u001b[38;5;241m.\u001b[39mset_yaw(\u001b[38;5;241m0\u001b[39m)\n\u001b[1;32m     14\u001b[0m \u001b[38;5;28mprint\u001b[39m(\u001b[38;5;124m\"\u001b[39m\u001b[38;5;124mturn done\u001b[39m\u001b[38;5;124m\"\u001b[39m)\n",
      "Cell \u001b[0;32mIn[83], line 2\u001b[0m, in \u001b[0;36mabsolute_z_angle\u001b[0;34m(drone)\u001b[0m\n\u001b[1;32m      1\u001b[0m \u001b[38;5;28;01mdef\u001b[39;00m \u001b[38;5;21mabsolute_z_angle\u001b[39m(drone):\n\u001b[0;32m----> 2\u001b[0m     z_angle \u001b[38;5;241m=\u001b[39m \u001b[43mdrone\u001b[49m\u001b[38;5;241;43m.\u001b[39;49m\u001b[43mget_z_angle\u001b[49m\u001b[43m(\u001b[49m\u001b[43m)\u001b[49m\n\u001b[1;32m      3\u001b[0m     \u001b[38;5;28;01mif\u001b[39;00m \u001b[38;5;241m-\u001b[39m\u001b[38;5;241m180\u001b[39m \u001b[38;5;241m<\u001b[39m\u001b[38;5;241m=\u001b[39m z_angle \u001b[38;5;241m<\u001b[39m \u001b[38;5;241m0\u001b[39m:\n\u001b[1;32m      4\u001b[0m         \u001b[38;5;28;01mreturn\u001b[39;00m z_angle \u001b[38;5;241m+\u001b[39m \u001b[38;5;241m360\u001b[39m\n",
      "File \u001b[0;32m/opt/homebrew/Caskroom/miniconda/base/lib/python3.10/site-packages/codrone_edu/drone.py:770\u001b[0m, in \u001b[0;36mDrone.get_z_angle\u001b[0;34m(self)\u001b[0m\n\u001b[1;32m    769\u001b[0m \u001b[38;5;28;01mdef\u001b[39;00m \u001b[38;5;21mget_z_angle\u001b[39m(\u001b[38;5;28mself\u001b[39m):\n\u001b[0;32m--> 770\u001b[0m     \u001b[38;5;28;01mreturn\u001b[39;00m \u001b[38;5;28;43mself\u001b[39;49m\u001b[38;5;241;43m.\u001b[39;49m\u001b[43mget_motion_data\u001b[49m\u001b[43m(\u001b[49m\u001b[43m)\u001b[49m[\u001b[38;5;241m9\u001b[39m]\n",
      "File \u001b[0;32m/opt/homebrew/Caskroom/miniconda/base/lib/python3.10/site-packages/codrone_edu/drone.py:733\u001b[0m, in \u001b[0;36mDrone.get_motion_data\u001b[0;34m(self, delay)\u001b[0m\n\u001b[1;32m    731\u001b[0m \u001b[38;5;28;01mdef\u001b[39;00m \u001b[38;5;21mget_motion_data\u001b[39m(\u001b[38;5;28mself\u001b[39m, delay\u001b[38;5;241m=\u001b[39m\u001b[38;5;241m0.01\u001b[39m):\n\u001b[1;32m    732\u001b[0m     \u001b[38;5;28mself\u001b[39m\u001b[38;5;241m.\u001b[39msendRequest(DeviceType\u001b[38;5;241m.\u001b[39mDrone, DataType\u001b[38;5;241m.\u001b[39mMotion)\n\u001b[0;32m--> 733\u001b[0m     \u001b[43mtime\u001b[49m\u001b[38;5;241;43m.\u001b[39;49m\u001b[43msleep\u001b[49m\u001b[43m(\u001b[49m\u001b[43mdelay\u001b[49m\u001b[43m)\u001b[49m\n\u001b[1;32m    734\u001b[0m     \u001b[38;5;28;01mreturn\u001b[39;00m \u001b[38;5;28mself\u001b[39m\u001b[38;5;241m.\u001b[39mmotion_data\n",
      "\u001b[0;31mKeyboardInterrupt\u001b[0m: "
     ]
    }
   ],
   "source": [
    "def absolute_z_angle(drone):\n",
    "    z_angle = drone.get_z_angle()\n",
    "    if -180 <= z_angle < 0:\n",
    "        return z_angle + 360\n",
    "    return z_angle\n",
    "\n",
    "def turn_right_degrees(degrees):\n",
    "    z_angle = absolute_z_angle(drone1)\n",
    "    while z_angle < degrees:\n",
    "        drone1.set_yaw(30)\n",
    "        drone1.move()\n",
    "        z_angle = absolute_z_angle(drone1)\n",
    "    drone1.set_yaw(0)\n",
    "    print(\"turn done\")\n",
    "\n",
    "\n",
    "\n",
    "drone1.takeoff()\n",
    "drone1.set_pitch(30)\n",
    "drone1.move(1)\n",
    "drone1.set_pitch(0)\n",
    "#for i in range(4):\n",
    "turn_right_degrees(90)\n",
    "drone1.set_pitch(30)\n",
    "drone1.move(1)\n",
    "drone1.set_pitch(0)\n",
    "turn_right_degrees(179)\n",
    "drone1.set_pitch(30)\n",
    "drone1.move(1)\n",
    "drone1.set_pitch(0)\n",
    "turn_right_degrees(270)\n",
    "drone1.set_pitch(30)\n",
    "drone1.move(1)\n",
    "drone1.set_pitch(0)\n",
    "turn_right_degrees(357)\n",
    "time.sleep(0.05)\n",
    "drone1.land()\n",
    "#drone1.close()"
   ]
  },
  {
   "cell_type": "code",
   "execution_count": 93,
   "metadata": {},
   "outputs": [
    {
     "name": "stdout",
     "output_type": "stream",
     "text": [
      "0\n",
      "Turn done\n",
      "Turn done\n",
      "Turn done\n",
      "Turn done\n",
      "-57\n"
     ]
    }
   ],
   "source": [
    "def absolute_z_angle(drone):\n",
    "    z_angle = drone.get_z_angle()\n",
    "    if -180 <= z_angle < 0:\n",
    "        return z_angle + 360\n",
    "    return z_angle\n",
    "\n",
    "def turn_right_relative(drone, degrees):\n",
    "    current_angle = absolute_z_angle(drone)\n",
    "    target_angle = current_angle + degrees\n",
    "    if target_angle >= 360:\n",
    "        target_angle -= 360\n",
    "\n",
    "    while True:\n",
    "        current_angle = absolute_z_angle(drone)\n",
    "        if current_angle >= target_angle:\n",
    "            break\n",
    "        if target_angle - current_angle < 15:\n",
    "            drone.set_yaw(10)\n",
    "        else:\n",
    "            drone.set_yaw(60)\n",
    "        drone.move()\n",
    "    drone.set_yaw(0)\n",
    "    print(\"Turn done\")\n",
    "\n",
    "# Example usage:\n",
    "drone1.takeoff()\n",
    "print(drone1.get_z_angle())\n",
    "drone1.set_pitch(50)\n",
    "drone1.move(2)\n",
    "drone1.set_pitch(0)\n",
    "turn_right_relative(drone1, 90)\n",
    "drone1.set_pitch(50)\n",
    "drone1.move(2)\n",
    "drone1.set_pitch(0)\n",
    "turn_right_relative(drone1, 90)\n",
    "drone1.set_pitch(50)\n",
    "drone1.move(2)\n",
    "drone1.set_pitch(0)\n",
    "turn_right_relative(drone1, 90)\n",
    "drone1.set_pitch(50)\n",
    "drone1.move(2)\n",
    "drone1.set_pitch(0)\n",
    "turn_right_relative(drone1, 90)\n",
    "print(drone1.get_z_angle())\n",
    "drone1.land()"
   ]
  },
  {
   "cell_type": "code",
   "execution_count": 209,
   "metadata": {},
   "outputs": [],
   "source": [
    "drone1.takeoff()\n",
    "drone1.land()"
   ]
  },
  {
   "cell_type": "code",
   "execution_count": 212,
   "metadata": {},
   "outputs": [],
   "source": [
    "drone2.land()"
   ]
  },
  {
   "cell_type": "code",
   "execution_count": 240,
   "metadata": {},
   "outputs": [
    {
     "name": "stdout",
     "output_type": "stream",
     "text": [
      "Circle done\n",
      "Circle done\n",
      "Circle done\n",
      "Circle done\n",
      "All drones have finished playing.\n"
     ]
    }
   ],
   "source": [
    "import threading\n",
    "\n",
    "# Function generator to create play_drone functions for each drone\n",
    "def create_play_function(drone, direction):\n",
    "    def play_drone():\n",
    "        drone.takeoff()\n",
    "        drone.hover(5)\n",
    "        if direction == 'right':\n",
    "            drone.set_throttle(60)\n",
    "            drone.move(2)\n",
    "            drone.set_throttle(0)\n",
    "            circle_relative(drone, 360, True, 10)\n",
    "        elif direction == 'left':\n",
    "            drone.set_throttle(20)\n",
    "            drone.move(2)\n",
    "            drone.set_throttle(0)\n",
    "            circle_relative(drone, 360, False, 10)\n",
    "        # Continue with other movements or actions\n",
    "        drone.land()\n",
    "    \n",
    "    return play_drone\n",
    "\n",
    "# List of drones (example: drone1, drone2, drone3, drone4)\n",
    "# Assume drone1, drone2, drone3, drone4 are valid drone objects\n",
    "\n",
    "drones = [drone1, drone2, drone3, drone4]\n",
    "\n",
    "# Generate play functions and threads for each drone with specified directions\n",
    "threads = []\n",
    "directions = ['left', 'left' ,'right', 'right']  # Define the direction for each drone\n",
    "\n",
    "for i, drone in enumerate(drones):\n",
    "    direction = directions[i]\n",
    "    play_function = create_play_function(drone, direction)\n",
    "    thread = threading.Thread(target=play_function)\n",
    "    threads.append(thread)\n",
    "\n",
    "# Start all threads\n",
    "for thread in threads:\n",
    "    thread.start()\n",
    "\n",
    "# Wait for all threads to complete\n",
    "for thread in threads:\n",
    "    thread.join()\n",
    "\n",
    "# After all threads have completed\n",
    "print(\"All drones have finished playing.\")\n"
   ]
  },
  {
   "cell_type": "code",
   "execution_count": 232,
   "metadata": {},
   "outputs": [],
   "source": [
    "drone1.land()\n",
    "drone2.land()\n",
    "drone3.land()\n",
    "drone4.land()"
   ]
  },
  {
   "cell_type": "code",
   "execution_count": 4,
   "metadata": {},
   "outputs": [
    {
     "name": "stdout",
     "output_type": "stream",
     "text": [
      "All drones have finished playing.\n"
     ]
    }
   ],
   "source": [
    "\n",
    "\n",
    "import threading\n",
    "\n",
    "# Define the notes and duration\n",
    "\n",
    "# Function generator to create play_drone functions for each drone\n",
    "def create_play_function(drone):\n",
    "    def play_drone():\n",
    "        # Define drone commands\n",
    "        drone.takeoff()\n",
    "        drone.hover(5)\n",
    "        drone.set_pitch(30)  # setting forward pitch\n",
    "        drone.move(4)  # moving forward!\n",
    "        drone.set_pitch(0)  # resetting pitch to 0\n",
    "        drone.set_roll(30)  # setting roll to the right\n",
    "        drone.move(4)  # moving right!\n",
    "        drone.set_roll(0)  # resetting roll to 0\n",
    "        drone.set_pitch(-30)  # setting backwards pitch\n",
    "        drone.move(4)  # moving backwards!\n",
    "        drone.set_pitch(0)  # resetting pitch to 0\n",
    "        drone.set_roll(-30)  # setting roll to the left\n",
    "        drone.move(4)  # moving left!\n",
    "        drone.hover(2)\n",
    "        drone.land()\n",
    "    return play_drone\n",
    "\n",
    "# List of drones (example: drone1, drone2, drone3)\n",
    "drones = [drone1, drone2, drone3, drone4]  # Add your drone objects here\n",
    "\n",
    "# Generate play functions and threads for each drone\n",
    "threads = []\n",
    "for drone in drones:\n",
    "    play_function = create_play_function(drone)\n",
    "    thread = threading.Thread(target=play_function)\n",
    "    threads.append(thread)\n",
    "\n",
    "# Start all threads\n",
    "for thread in threads:\n",
    "    thread.start()\n",
    "\n",
    "# Wait for all threads to complete\n",
    "for thread in threads:\n",
    "    thread.join()\n",
    "\n",
    "# After all threads have completed\n",
    "print(\"All drones have finished playing.\")"
   ]
  },
  {
   "cell_type": "code",
   "execution_count": 7,
   "metadata": {},
   "outputs": [
    {
     "data": {
      "text/plain": [
       "98"
      ]
     },
     "execution_count": 7,
     "metadata": {},
     "output_type": "execute_result"
    }
   ],
   "source": [
    "drone.get_battery()"
   ]
  },
  {
   "cell_type": "markdown",
   "metadata": {},
   "source": [
    "making a square"
   ]
  },
  {
   "cell_type": "code",
   "execution_count": 36,
   "metadata": {},
   "outputs": [
    {
     "name": "stdout",
     "output_type": "stream",
     "text": [
      "Found CoDrone EDU controller.  /dev/cu.usbmodem3591387E34381\n",
      "Connecting to CoDrone EDU controller.\n",
      "Connected to CoDrone EDU\n",
      "Battery = 81 %\n"
     ]
    }
   ],
   "source": [
    "drone.pair()\n",
    "drone.takeoff()\n",
    "drone.set_pitch(90)  # setting forward pitch\n",
    "drone.move(1)  # moving forward!\n",
    "drone.set_pitch(0)  # resetting pitch to 0\n",
    "drone.set_roll(90)  # setting roll to the right\n",
    "drone.move(1)  # moving right!\n",
    "drone.set_roll(0)  # resetting roll to 0\n",
    "drone.set_pitch(-90)  # setting backwards pitch\n",
    "drone.move(1)  # moving backwards!\n",
    "drone.set_pitch(0)  # resetting pitch to 0\n",
    "drone.set_roll(-90)  # setting roll to the left\n",
    "drone.move(1)  # moving left!\n",
    "drone.land()\n",
    "drone.close()"
   ]
  },
  {
   "cell_type": "markdown",
   "metadata": {},
   "source": [
    "Experimenting with yaw and other paramters"
   ]
  },
  {
   "cell_type": "code",
   "execution_count": 20,
   "metadata": {},
   "outputs": [
    {
     "name": "stdout",
     "output_type": "stream",
     "text": [
      "Found CoDrone EDU controller.  /dev/cu.usbmodem3591387E34381\n",
      "Connecting to CoDrone EDU controller.\n",
      "Connected to CoDrone EDU\n",
      "Battery = 77 %\n"
     ]
    }
   ],
   "source": [
    "drone.pair()\n",
    "drone.takeoff()\n",
    "drone.set_yaw(100) # setting the yaw value to 25                        \n",
    "drone.move(10) \n",
    "drone.land()\n",
    "drone.close()"
   ]
  },
  {
   "cell_type": "code",
   "execution_count": 25,
   "metadata": {},
   "outputs": [
    {
     "name": "stdout",
     "output_type": "stream",
     "text": [
      "Found CoDrone EDU controller.  /dev/cu.usbmodem3591387E34381\n",
      "Connecting to CoDrone EDU controller.\n",
      "Connected to CoDrone EDU\n",
      "Battery = 72 %\n"
     ]
    }
   ],
   "source": [
    "drone.pair()\n",
    "drone.takeoff()\n",
    "drone.set_throttle(-50) # setting the yaw value to 25                        \n",
    "drone.move(1) \n",
    "drone.land()\n",
    "drone.close()\n"
   ]
  }
 ],
 "metadata": {
  "kernelspec": {
   "display_name": "Python 3 (ipykernel)",
   "language": "python",
   "name": "python3"
  },
  "language_info": {
   "codemirror_mode": {
    "name": "ipython",
    "version": 3
   },
   "file_extension": ".py",
   "mimetype": "text/x-python",
   "name": "python",
   "nbconvert_exporter": "python",
   "pygments_lexer": "ipython3",
   "version": "3.10.14"
  }
 },
 "nbformat": 4,
 "nbformat_minor": 4
}
