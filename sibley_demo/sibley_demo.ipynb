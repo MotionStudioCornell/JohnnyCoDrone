{
 "cells": [
  {
   "cell_type": "markdown",
   "metadata": {},
   "source": [
    "Run `jupyter-lab` in terminal and directly connect to that notebook\n",
    "\n",
    "To connect with the controllers over USB, use run the following command in Terminal (MacOS):\n",
    "\n",
    "```\n",
    "ls /dev/cu.usbmodem*\n",
    "```\n",
    "\n",
    "Then, replace the `drone1_control_addy`, `drone2_control_addy`, and `drone3_control_addy` with the respective controller addresses that the Terminal command outputs."
   ]
  },
  {
   "cell_type": "markdown",
   "metadata": {},
   "source": [
    "Drones used were SA1, SA2, and SA3. \n",
    "\n",
    "With SA2 and SA1 in the following arrangement:\n",
    "\n",
    "[SA2, SA1]\n",
    "\n",
    "Viewer facing direction looking from the bottom of the page to the top of the page, just like the quadrant conventions. "
   ]
  },
  {
   "cell_type": "markdown",
   "metadata": {},
   "source": [
    "Overview of functionality:\n",
    "\n",
    "Trick drone2 into being the delayed drone, basically just run this code a few times for it to work, until it works. More of a bandaid solutin than anything, but it does work! \n",
    "\n",
    "> Note the error statements from running the code as a result of the re_pair function can be ignored and are a result of the codrone_edu package not being compatible with multiple drones."
   ]
  },
  {
   "cell_type": "code",
   "execution_count": 1,
   "metadata": {},
   "outputs": [
    {
     "name": "stdout",
     "output_type": "stream",
     "text": [
      "pygame 2.5.2 (SDL 2.28.3, Python 3.10.14)\n",
      "Hello from the pygame community. https://www.pygame.org/contribute.html\n"
     ]
    }
   ],
   "source": [
    "# Import necessary packages\n",
    "\n",
    "from codrone_edu.drone import *\n",
    "import threading\n",
    "import pygame\n",
    "import time"
   ]
  },
  {
   "cell_type": "code",
   "execution_count": 2,
   "metadata": {},
   "outputs": [
    {
     "name": "stdout",
     "output_type": "stream",
     "text": [
      "codrone-edu library version 1.9\n",
      "Please remove AA batteries while plugged into your computer.\n",
      "For more information go to: robolink.com/edu-controller-issue\n",
      "\n",
      "codrone-edu library version 1.9\n",
      "Please remove AA batteries while plugged into your computer.\n",
      "For more information go to: robolink.com/edu-controller-issue\n",
      "\n",
      "codrone-edu library version 1.9\n",
      "Please remove AA batteries while plugged into your computer.\n",
      "For more information go to: robolink.com/edu-controller-issue\n",
      "\n"
     ]
    }
   ],
   "source": [
    "drone1_control_addy = \"/dev/cu.usbmodem3975344935381\"\n",
    "drone2_control_addy = \"/dev/cu.usbmodem3361338F34311\"\n",
    "drone3_control_addy = \"/dev/cu.usbmodem3996345135381\"\n",
    "\n",
    "drone1 = Drone()\n",
    "drone2 = Drone()    \n",
    "drone3 = Drone()\n",
    "\n",
    "all_drones = [drone1, drone2, drone3]\n",
    "\n",
    "def pair():\n",
    "    # Initialize drone1\n",
    "    drone1.pair()\n",
    "    drone1.open(drone1_control_addy)\n",
    "    time.sleep(0.1)\n",
    "\n",
    "    # Initialize drone2\n",
    "    drone2.pair()\n",
    "    drone2.open(drone2_control_addy)\n",
    "\n",
    "    # Initialize drone3\n",
    "    drone3.pair()\n",
    "    drone3.open(drone3_control_addy)\n",
    "\n",
    "# funtion to reconnect to the drones\n",
    "def re_pair():\n",
    "    for drone in all_drones:\n",
    "        drone.close()\n",
    "    pair()\n",
    "\n",
    "# emergency function to land drones in case of issue & music stop\n",
    "def oh_crap():\n",
    "    pygame.mixer.music.stop()\n",
    "    for drone in all_drones:\n",
    "        drone.land()\n",
    "\n",
    "# define the function to actually play the song\n",
    "def play_cupid(start_time = 87.5):\n",
    "    pygame.init()\n",
    "    pygame.mixer.init()\n",
    "    pygame.mixer.music.load(\"cha_cha_slide.mp3\")\n",
    "    pygame.mixer.music.play()\n",
    "    pygame.mixer.music.set_pos(start_time)"
   ]
  },
  {
   "cell_type": "code",
   "execution_count": null,
   "metadata": {},
   "outputs": [
    {
     "name": "stdout",
     "output_type": "stream",
     "text": [
      "Found CoDrone EDU controller.  /dev/cu.usbmodem3361338F34311\n",
      "Connecting to CoDrone EDU controller.\n",
      "Connected to CoDrone EDU\n",
      "Battery = 100 %\n",
      "Connecting to CoDrone EDU controller.\n",
      "Connected to CoDrone EDU\n",
      "Battery = 100 %\n"
     ]
    },
    {
     "name": "stderr",
     "output_type": "stream",
     "text": [
      "Exception in thread Thread-6 (_receiving):\n",
      "Traceback (most recent call last):\n",
      "  File \"/opt/homebrew/Caskroom/miniconda/base/lib/python3.10/threading.py\", line 1016, in _bootstrap_inner\n",
      "    self.run()\n",
      "  File \"/opt/homebrew/Caskroom/miniconda/base/lib/python3.10/site-packages/ipykernel/ipkernel.py\", line 761, in run_closure\n",
      "    _threading_Thread_run(self)\n",
      "  File \"/opt/homebrew/Caskroom/miniconda/base/lib/python3.10/threading.py\", line 953, in run\n",
      "    self._target(*self._args, **self._kwargs)\n",
      "  File \"/opt/homebrew/Caskroom/miniconda/base/lib/python3.10/site-packages/codrone_edu/drone.py\", line 997, in _receiving\n",
      "    self._bufferQueue.put(self._serialport.read())\n",
      "  File \"/opt/homebrew/Caskroom/miniconda/base/lib/python3.10/site-packages/serial/serialposix.py\", line 595, in read\n",
      "    raise SerialException(\n",
      "serial.serialutil.SerialException: device reports readiness to read but returned no data (device disconnected or multiple access on port?)\n"
     ]
    },
    {
     "name": "stdout",
     "output_type": "stream",
     "text": [
      "Found CoDrone EDU controller.  /dev/cu.usbmodem3361338F34311\n",
      "Connecting to CoDrone EDU controller.\n",
      "Connected to CoDrone EDU\n",
      "Battery = 100 %\n",
      "Connecting to CoDrone EDU controller.\n",
      "Connected to CoDrone EDU\n",
      "Battery = 100 %\n"
     ]
    },
    {
     "name": "stderr",
     "output_type": "stream",
     "text": [
      "Exception in thread Thread-8 (_receiving):\n",
      "Traceback (most recent call last):\n",
      "  File \"/opt/homebrew/Caskroom/miniconda/base/lib/python3.10/threading.py\", line 1016, in _bootstrap_inner\n",
      "    self.run()\n",
      "  File \"/opt/homebrew/Caskroom/miniconda/base/lib/python3.10/site-packages/ipykernel/ipkernel.py\", line 761, in run_closure\n",
      "    _threading_Thread_run(self)\n",
      "  File \"/opt/homebrew/Caskroom/miniconda/base/lib/python3.10/threading.py\", line 953, in run\n",
      "    self._target(*self._args, **self._kwargs)\n",
      "  File \"/opt/homebrew/Caskroom/miniconda/base/lib/python3.10/site-packages/codrone_edu/drone.py\", line 997, in _receiving\n",
      "    self._bufferQueue.put(self._serialport.read())\n",
      "  File \"/opt/homebrew/Caskroom/miniconda/base/lib/python3.10/site-packages/serial/serialposix.py\", line 595, in read\n",
      "    raise SerialException(\n",
      "serial.serialutil.SerialException: device reports readiness to read but returned no data (device disconnected or multiple access on port?)\n"
     ]
    },
    {
     "name": "stdout",
     "output_type": "stream",
     "text": [
      "Found CoDrone EDU controller.  /dev/cu.usbmodem3361338F34311\n",
      "Connecting to CoDrone EDU controller.\n"
     ]
    },
    {
     "name": "stderr",
     "output_type": "stream",
     "text": [
      "Exception in thread Thread-9 (_receiving):\n",
      "Traceback (most recent call last):\n",
      "  File \"/opt/homebrew/Caskroom/miniconda/base/lib/python3.10/threading.py\", line 1016, in _bootstrap_inner\n",
      "    self.run()\n",
      "  File \"/opt/homebrew/Caskroom/miniconda/base/lib/python3.10/site-packages/ipykernel/ipkernel.py\", line 761, in run_closure\n",
      "    _threading_Thread_run(self)\n",
      "  File \"/opt/homebrew/Caskroom/miniconda/base/lib/python3.10/threading.py\", line 953, in run\n",
      "    self._target(*self._args, **self._kwargs)\n",
      "  File \"/opt/homebrew/Caskroom/miniconda/base/lib/python3.10/site-packages/codrone_edu/drone.py\", line 997, in _receiving\n",
      "    self._bufferQueue.put(self._serialport.read())\n",
      "  File \"/opt/homebrew/Caskroom/miniconda/base/lib/python3.10/site-packages/serial/serialposix.py\", line 595, in read\n",
      "    raise SerialException(\n",
      "serial.serialutil.SerialException: device reports readiness to read but returned no data (device disconnected or multiple access on port?)\n"
     ]
    },
    {
     "name": "stdout",
     "output_type": "stream",
     "text": [
      "Could not connect to CoDrone EDU.\n",
      "Check that the controller and drone are on and paired.\n",
      "Checkout this lesson on how to pair https://learn.robolink.com/lesson/0-2-power-and-charging/\n",
      "Connecting to CoDrone EDU controller.\n",
      "Connected to CoDrone EDU\n",
      "Battery = 100 %\n"
     ]
    },
    {
     "name": "stderr",
     "output_type": "stream",
     "text": [
      "Exception in thread Thread-7 (_receiving):\n",
      "Traceback (most recent call last):\n",
      "  File \"/opt/homebrew/Caskroom/miniconda/base/lib/python3.10/site-packages/serial/serialposix.py\", line 575, in read\n",
      "    buf = os.read(self.fd, size - len(read))\n",
      "OSError: [Errno 6] Device not configured\n",
      "\n",
      "During handling of the above exception, another exception occurred:\n",
      "\n",
      "Traceback (most recent call last):\n",
      "  File \"/opt/homebrew/Caskroom/miniconda/base/lib/python3.10/threading.py\", line 1016, in _bootstrap_inner\n",
      "    self.run()\n",
      "  File \"/opt/homebrew/Caskroom/miniconda/base/lib/python3.10/site-packages/ipykernel/ipkernel.py\", line 761, in run_closure\n",
      "    _threading_Thread_run(self)\n",
      "  File \"/opt/homebrew/Caskroom/miniconda/base/lib/python3.10/threading.py\", line 953, in run\n",
      "    self._target(*self._args, **self._kwargs)\n",
      "  File \"/opt/homebrew/Caskroom/miniconda/base/lib/python3.10/site-packages/codrone_edu/drone.py\", line 997, in _receiving\n",
      "    self._bufferQueue.put(self._serialport.read())\n",
      "  File \"/opt/homebrew/Caskroom/miniconda/base/lib/python3.10/site-packages/serial/serialposix.py\", line 581, in read\n",
      "    raise SerialException('read failed: {}'.format(e))\n",
      "serial.serialutil.SerialException: read failed: [Errno 6] Device not configured\n",
      "Exception in thread Exception in thread Thread-5 (_receiving)Thread-10 (_receiving):\n",
      ":\n",
      "Traceback (most recent call last):\n",
      "Traceback (most recent call last):\n",
      "  File \"/opt/homebrew/Caskroom/miniconda/base/lib/python3.10/site-packages/serial/serialposix.py\", line 575, in read\n",
      "  File \"/opt/homebrew/Caskroom/miniconda/base/lib/python3.10/site-packages/serial/serialposix.py\", line 575, in read\n",
      "        buf = os.read(self.fd, size - len(read))buf = os.read(self.fd, size - len(read))\n",
      "\n",
      "OSErrorOSError: : [Errno 6] Device not configured[Errno 6] Device not configured\n",
      "\n",
      "\n",
      "During handling of the above exception, another exception occurred:\n",
      "\n",
      "\n",
      "During handling of the above exception, another exception occurred:\n",
      "\n",
      "Traceback (most recent call last):\n",
      "Traceback (most recent call last):\n",
      "  File \"/opt/homebrew/Caskroom/miniconda/base/lib/python3.10/threading.py\", line 1016, in _bootstrap_inner\n",
      "  File \"/opt/homebrew/Caskroom/miniconda/base/lib/python3.10/threading.py\", line 1016, in _bootstrap_inner\n",
      "        self.run()self.run()\n",
      "\n",
      "  File \"/opt/homebrew/Caskroom/miniconda/base/lib/python3.10/site-packages/ipykernel/ipkernel.py\", line 761, in run_closure\n",
      "  File \"/opt/homebrew/Caskroom/miniconda/base/lib/python3.10/site-packages/ipykernel/ipkernel.py\", line 761, in run_closure\n",
      "        _threading_Thread_run(self)_threading_Thread_run(self)\n",
      "\n",
      "  File \"/opt/homebrew/Caskroom/miniconda/base/lib/python3.10/threading.py\", line 953, in run\n",
      "  File \"/opt/homebrew/Caskroom/miniconda/base/lib/python3.10/threading.py\", line 953, in run\n",
      "        self._target(*self._args, **self._kwargs)self._target(*self._args, **self._kwargs)\n",
      "\n",
      "  File \"/opt/homebrew/Caskroom/miniconda/base/lib/python3.10/site-packages/codrone_edu/drone.py\", line 997, in _receiving\n",
      "  File \"/opt/homebrew/Caskroom/miniconda/base/lib/python3.10/site-packages/codrone_edu/drone.py\", line 997, in _receiving\n",
      "        self._bufferQueue.put(self._serialport.read())self._bufferQueue.put(self._serialport.read())\n",
      "\n",
      "  File \"/opt/homebrew/Caskroom/miniconda/base/lib/python3.10/site-packages/serial/serialposix.py\", line 581, in read\n",
      "  File \"/opt/homebrew/Caskroom/miniconda/base/lib/python3.10/site-packages/serial/serialposix.py\", line 581, in read\n",
      "        raise SerialException('read failed: {}'.format(e))\n",
      "raise SerialException('read failed: {}'.format(e))serial.serialutil\n",
      ".serial.serialutilSerialException.: SerialExceptionread failed: [Errno 6] Device not configured: \n",
      "read failed: [Errno 6] Device not configured\n"
     ]
    }
   ],
   "source": [
    "re_pair()"
   ]
  },
  {
   "cell_type": "code",
   "execution_count": 4,
   "metadata": {},
   "outputs": [
    {
     "name": "stdout",
     "output_type": "stream",
     "text": [
      "[0, 0]\n",
      "[0, 10]\n",
      "[0, 0]\n"
     ]
    }
   ],
   "source": [
    "print(drone1.get_trim())\n",
    "print(drone2.get_trim())\n",
    "print(drone3.get_trim())"
   ]
  },
  {
   "cell_type": "code",
   "execution_count": 5,
   "metadata": {},
   "outputs": [],
   "source": [
    "used_drones = [drone1, drone3]"
   ]
  },
  {
   "cell_type": "code",
   "execution_count": 6,
   "metadata": {},
   "outputs": [],
   "source": [
    "# universal time constant for the duration of the drones's flights\n",
    "time_interval = 0.8\n",
    "\n",
    "# throttle to use for gaining altitude\n",
    "upper_throt = 80\n",
    "\n",
    "# throttle to use for landing\n",
    "lower_throt = -80\n",
    "\n",
    "# drone flies to right then stops\n",
    "def to_the_right(count, drone):\n",
    "    for _ in range(count):\n",
    "        drone.set_roll(90)\n",
    "        drone.move(time_interval)        \n",
    "        drone.set_roll(0)\n",
    "        drone.move(time_interval)\n",
    "    \n",
    "# drone flies to the left then stops\n",
    "def to_the_left(count, drone):\n",
    "    for _ in range(count):\n",
    "        drone.set_roll(-90)\n",
    "        drone.move(time_interval)        \n",
    "        drone.set_roll(0)\n",
    "        drone.move(time_interval/1.5)\n",
    "\n",
    "# drone flies back then stops\n",
    "def to_the_back(count, drone):\n",
    "    for _ in range(count):\n",
    "        drone.set_pitch(-90)\n",
    "        drone.move(time_interval)        \n",
    "        drone.set_pitch(0)\n",
    "        drone.move(time_interval/1.5)\n",
    "\n",
    "# drone flies forward then stops\n",
    "def to_the_front(count, drone):\n",
    "    for _ in range(count):\n",
    "        drone.set_pitch(50)\n",
    "        drone.move(time_interval)        \n",
    "        drone.set_pitch(0)\n",
    "        drone.move(time_interval)\n",
    "\n",
    "# drone flies left then stops\n",
    "def left_stomp(drone):\n",
    "    if (drone == used_drones[0]):\n",
    "        drone.set_throttle(upper_throt)\n",
    "        drone.move(time_interval)\n",
    "    elif (drone == used_drones[1]):\n",
    "        drone.set_throttle(lower_throt)\n",
    "        drone.move(time_interval)\n",
    "    drone.set_throttle(0)\n",
    "    drone.move(time_interval/1.5)\n",
    "\n",
    "# drone flies right then stops\n",
    "def right_stomp(drone):\n",
    "    if (drone == used_drones[1]):\n",
    "        drone.set_throttle(upper_throt)\n",
    "        drone.move(time_interval)\n",
    "    elif (drone == used_drones[0]):\n",
    "        drone.set_throttle(lower_throt)\n",
    "        drone.move(time_interval)\n",
    "    drone.set_throttle(0)\n",
    "    drone.move(time_interval/1.5)"
   ]
  },
  {
   "cell_type": "code",
   "execution_count": 16,
   "metadata": {},
   "outputs": [
    {
     "name": "stdout",
     "output_type": "stream",
     "text": [
      "All drones have landed.\n"
     ]
    }
   ],
   "source": [
    "# Cha Cha Side\n",
    "\n",
    "# would be cool to add a function that determines the drone's height\n",
    "play_cupid(29.5)\n",
    "time.sleep(14.5)\n",
    "\n",
    "# Function generator to create play_drone functions for each drone\n",
    "def create_play_function(drone):\n",
    "    def play_drone():\n",
    "        drone.set_yaw(0)\n",
    "        drone.set_pitch(0)\n",
    "        drone.set_roll(0)\n",
    "        drone.set_throttle(0)\n",
    "        drone.takeoff()\n",
    "        drone.hover(5.5)\n",
    "        to_the_left(1, drone)\n",
    "        to_the_back(1, drone)\n",
    "        drone.hover(0.4)\n",
    "        drone.set_throttle(80)\n",
    "        drone.move(0.5)\n",
    "        drone.set_throttle(-30)\n",
    "        drone.move(0.5)\n",
    "        drone.set_throttle(0)\n",
    "        right_stomp(drone)\n",
    "        drone.hover(0.5)\n",
    "        left_stomp(drone)\n",
    "        drone.hover(4)\n",
    "        drone.set_throttle(-60)\n",
    "        time.sleep(1)\n",
    "        drone.land()\n",
    "    return play_drone\n",
    "\n",
    "drones = used_drones\n",
    "\n",
    "# Generate play functions and threads for each drone with specified directions\n",
    "threads = []\n",
    "\n",
    "for i, drone in enumerate(drones):\n",
    "    play_function = create_play_function(drone)\n",
    "    thread = threading.Thread(target=play_function)\n",
    "    threads.append(thread)\n",
    "\n",
    "# Start all threads\n",
    "for thread in threads:\n",
    "    thread.start()\n",
    "\n",
    "# Wait for all threads to complete\n",
    "for thread in threads:\n",
    "    thread.join()\n",
    "\n",
    "# After all threads have completed\n",
    "print(\"All drones have landed.\")\n",
    "\n",
    "time.sleep(1)\n",
    "\n",
    "pygame.mixer.music.stop()"
   ]
  },
  {
   "cell_type": "code",
   "execution_count": 14,
   "metadata": {},
   "outputs": [
    {
     "name": "stdout",
     "output_type": "stream",
     "text": [
      "80\n",
      "71\n"
     ]
    },
    {
     "name": "stdout",
     "output_type": "stream",
     "text": [
      "90\n"
     ]
    }
   ],
   "source": [
    "print(drone1.get_battery())\n",
    "print(drone2.get_battery())\n",
    "print(drone3.get_battery())"
   ]
  }
 ],
 "metadata": {
  "kernelspec": {
   "display_name": "Python 3 (ipykernel)",
   "language": "python",
   "name": "python3"
  },
  "language_info": {
   "codemirror_mode": {
    "name": "ipython",
    "version": 3
   },
   "file_extension": ".py",
   "mimetype": "text/x-python",
   "name": "python",
   "nbconvert_exporter": "python",
   "pygments_lexer": "ipython3",
   "version": "3.10.14"
  }
 },
 "nbformat": 4,
 "nbformat_minor": 4
}
