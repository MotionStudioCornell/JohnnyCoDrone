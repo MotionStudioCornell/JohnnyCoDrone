{
 "cells": [
  {
   "cell_type": "code",
   "execution_count": null,
   "metadata": {},
   "outputs": [],
   "source": []
  },
  {
   "cell_type": "markdown",
   "metadata": {},
   "source": [
    "making a square"
   ]
  },
  {
   "cell_type": "code",
   "execution_count": null,
   "metadata": {},
   "outputs": [
    {
     "name": "stdout",
     "output_type": "stream",
     "text": [
      "Found CoDrone EDU controller.  /dev/cu.usbmodem3591387E34381\n",
      "Connecting to CoDrone EDU controller.\n",
      "Connected to CoDrone EDU\n",
      "Battery = 81 %\n"
     ]
    }
   ],
   "source": [
    "drone.pair()\n",
    "drone.takeoff()\n",
    "drone.set_pitch(90)  # setting forward pitch\n",
    "drone.move(1)  # moving forward!\n",
    "drone.set_pitch(0)  # resetting pitch to 0\n",
    "drone.set_roll(90)  # setting roll to the right\n",
    "drone.move(1)  # moving right!\n",
    "drone.set_roll(0)  # resetting roll to 0\n",
    "drone.set_pitch(-90)  # setting backwards pitch\n",
    "drone.move(1)  # moving backwards!\n",
    "drone.set_pitch(0)  # resetting pitch to 0\n",
    "drone.set_roll(-90)  # setting roll to the left\n",
    "drone.move(1)  # moving left!\n",
    "drone.land()\n",
    "drone.close()"
   ]
  },
  {
   "cell_type": "code",
   "execution_count": null,
   "metadata": {},
   "outputs": [
    {
     "name": "stdout",
     "output_type": "stream",
     "text": [
      "Found CoDrone EDU controller.  /dev/cu.usbmodem3591387E34381\n",
      "Connecting to CoDrone EDU controller.\n",
      "Connected to CoDrone EDU\n",
      "Battery = 77 %\n"
     ]
    }
   ],
   "source": [
    "drone.pair()\n",
    "drone.takeoff()\n",
    "drone.set_yaw(100) # setting the yaw value to 25                        \n",
    "drone.move(10) \n",
    "drone.land()\n",
    "drone.close()"
   ]
  },
  {
   "cell_type": "code",
   "execution_count": null,
   "metadata": {},
   "outputs": [
    {
     "name": "stdout",
     "output_type": "stream",
     "text": [
      "Found CoDrone EDU controller.  /dev/cu.usbmodem3591387E34381\n",
      "Connecting to CoDrone EDU controller.\n",
      "Connected to CoDrone EDU\n",
      "Battery = 72 %\n"
     ]
    }
   ],
   "source": [
    "drone.pair()\n",
    "drone.takeoff()\n",
    "drone.set_throttle(-50) # setting the yaw value to 25                        \n",
    "drone.move(1) \n",
    "drone.land()\n",
    "drone.close()\n"
   ]
  }
 ],
 "metadata": {
  "language_info": {
   "name": "python"
  }
 },
 "nbformat": 4,
 "nbformat_minor": 2
}
